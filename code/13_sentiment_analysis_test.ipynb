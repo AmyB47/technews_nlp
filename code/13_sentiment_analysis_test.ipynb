{
 "cells": [
  {
   "cell_type": "code",
   "execution_count": null,
   "id": "alike-philippines",
   "metadata": {},
   "outputs": [],
   "source": [
    "\"\"\"\n",
    "comparing TextBlob with Vader sentiment analysis\n",
    "of r/technews comments\n",
    "\"\"\""
   ]
  },
  {
   "cell_type": "code",
   "execution_count": 1,
   "id": "purple-boost",
   "metadata": {},
   "outputs": [],
   "source": [
    "import pickle\n",
    "import pandas as pd\n",
    "import numpy as np\n",
    "\n",
    "from textblob import TextBlob"
   ]
  },
  {
   "cell_type": "code",
   "execution_count": 45,
   "id": "latest-injection",
   "metadata": {},
   "outputs": [],
   "source": [
    "# TextBlob and Vader sentiment analysis tools were trained on internet posts, \n",
    "# and should work well for the subreddit comments"
   ]
  },
  {
   "cell_type": "code",
   "execution_count": 46,
   "id": "fitted-recognition",
   "metadata": {},
   "outputs": [
    {
     "data": {
      "text/plain": [
       "'The sentiment property returns a named tuple of the form Sentiment(polarity, subjectivity).\\nThe polarity score is a float within the range [-1.0, 1.0]. The subjectivity is a float \\nwithin the range [0.0, 1.0] where 0.0 is very objective and 1.0 is very subjective.'"
      ]
     },
     "execution_count": 46,
     "metadata": {},
     "output_type": "execute_result"
    }
   ],
   "source": [
    "\"\"\"The sentiment property returns a named tuple of the form Sentiment(polarity, subjectivity).\n",
    "The polarity score is a float within the range [-1.0, 1.0]. The subjectivity is a float \n",
    "within the range [0.0, 1.0] where 0.0 is very objective and 1.0 is very subjective.\"\"\""
   ]
  },
  {
   "cell_type": "code",
   "execution_count": 2,
   "id": "short-smoke",
   "metadata": {},
   "outputs": [
    {
     "data": {
      "text/plain": [
       "(203847, 4)"
      ]
     },
     "execution_count": 2,
     "metadata": {},
     "output_type": "execute_result"
    }
   ],
   "source": [
    "with open('post_comments_top.pickle', 'rb') as read_file:\n",
    "    comments = pickle.load(read_file)\n",
    "    \n",
    "comments.shape"
   ]
  },
  {
   "cell_type": "code",
   "execution_count": 48,
   "id": "informational-ordering",
   "metadata": {},
   "outputs": [
    {
     "data": {
      "text/html": [
       "<div>\n",
       "<style scoped>\n",
       "    .dataframe tbody tr th:only-of-type {\n",
       "        vertical-align: middle;\n",
       "    }\n",
       "\n",
       "    .dataframe tbody tr th {\n",
       "        vertical-align: top;\n",
       "    }\n",
       "\n",
       "    .dataframe thead th {\n",
       "        text-align: right;\n",
       "    }\n",
       "</style>\n",
       "<table border=\"1\" class=\"dataframe\">\n",
       "  <thead>\n",
       "    <tr style=\"text-align: right;\">\n",
       "      <th></th>\n",
       "      <th>comment_id</th>\n",
       "      <th>comment_parent_id</th>\n",
       "      <th>comment_body</th>\n",
       "      <th>comment_link_id</th>\n",
       "    </tr>\n",
       "  </thead>\n",
       "  <tbody>\n",
       "    <tr>\n",
       "      <th>0</th>\n",
       "      <td>fpgu5a7</td>\n",
       "      <td>t3_gdd9d8</td>\n",
       "      <td>[deleted]</td>\n",
       "      <td>t3_gdd9d8</td>\n",
       "    </tr>\n",
       "    <tr>\n",
       "      <th>1</th>\n",
       "      <td>fpgnsbq</td>\n",
       "      <td>t3_gdd9d8</td>\n",
       "      <td>big props to him for having the huge balls to ...</td>\n",
       "      <td>t3_gdd9d8</td>\n",
       "    </tr>\n",
       "    <tr>\n",
       "      <th>2</th>\n",
       "      <td>fpgquur</td>\n",
       "      <td>t3_gdd9d8</td>\n",
       "      <td>Chickenshit is correct. Attempting or even see...</td>\n",
       "      <td>t3_gdd9d8</td>\n",
       "    </tr>\n",
       "    <tr>\n",
       "      <th>3</th>\n",
       "      <td>fpgtifa</td>\n",
       "      <td>t3_gdd9d8</td>\n",
       "      <td>When you're in a position of power but still c...</td>\n",
       "      <td>t3_gdd9d8</td>\n",
       "    </tr>\n",
       "    <tr>\n",
       "      <th>4</th>\n",
       "      <td>fpgtfiy</td>\n",
       "      <td>t3_gdd9d8</td>\n",
       "      <td>Nice, I got to interview him a few years ago w...</td>\n",
       "      <td>t3_gdd9d8</td>\n",
       "    </tr>\n",
       "  </tbody>\n",
       "</table>\n",
       "</div>"
      ],
      "text/plain": [
       "  comment_id comment_parent_id  \\\n",
       "0    fpgu5a7         t3_gdd9d8   \n",
       "1    fpgnsbq         t3_gdd9d8   \n",
       "2    fpgquur         t3_gdd9d8   \n",
       "3    fpgtifa         t3_gdd9d8   \n",
       "4    fpgtfiy         t3_gdd9d8   \n",
       "\n",
       "                                        comment_body comment_link_id  \n",
       "0                                          [deleted]       t3_gdd9d8  \n",
       "1  big props to him for having the huge balls to ...       t3_gdd9d8  \n",
       "2  Chickenshit is correct. Attempting or even see...       t3_gdd9d8  \n",
       "3  When you're in a position of power but still c...       t3_gdd9d8  \n",
       "4  Nice, I got to interview him a few years ago w...       t3_gdd9d8  "
      ]
     },
     "execution_count": 48,
     "metadata": {},
     "output_type": "execute_result"
    }
   ],
   "source": [
    "comments.head()"
   ]
  },
  {
   "cell_type": "code",
   "execution_count": 26,
   "id": "secondary-quarterly",
   "metadata": {},
   "outputs": [],
   "source": [
    "comments['sentiment_polarity'] = comments['comment_body'].apply(lambda x: TextBlob(x).sentiment.polarity)"
   ]
  },
  {
   "cell_type": "code",
   "execution_count": 27,
   "id": "mobile-tuesday",
   "metadata": {},
   "outputs": [],
   "source": [
    "comments['sentiment_subjectivity'] = comments['comment_body'].apply(lambda x: TextBlob(x).sentiment.subjectivity)"
   ]
  },
  {
   "cell_type": "code",
   "execution_count": 28,
   "id": "endangered-bermuda",
   "metadata": {},
   "outputs": [
    {
     "data": {
      "text/html": [
       "<div>\n",
       "<style scoped>\n",
       "    .dataframe tbody tr th:only-of-type {\n",
       "        vertical-align: middle;\n",
       "    }\n",
       "\n",
       "    .dataframe tbody tr th {\n",
       "        vertical-align: top;\n",
       "    }\n",
       "\n",
       "    .dataframe thead th {\n",
       "        text-align: right;\n",
       "    }\n",
       "</style>\n",
       "<table border=\"1\" class=\"dataframe\">\n",
       "  <thead>\n",
       "    <tr style=\"text-align: right;\">\n",
       "      <th></th>\n",
       "      <th>comment_id</th>\n",
       "      <th>comment_parent_id</th>\n",
       "      <th>comment_body</th>\n",
       "      <th>comment_link_id</th>\n",
       "      <th>sentiment_polarity</th>\n",
       "      <th>sentiment_subjectivity</th>\n",
       "    </tr>\n",
       "  </thead>\n",
       "  <tbody>\n",
       "    <tr>\n",
       "      <th>0</th>\n",
       "      <td>fpgu5a7</td>\n",
       "      <td>t3_gdd9d8</td>\n",
       "      <td>[deleted]</td>\n",
       "      <td>t3_gdd9d8</td>\n",
       "      <td>0.000000</td>\n",
       "      <td>0.000000</td>\n",
       "    </tr>\n",
       "    <tr>\n",
       "      <th>1</th>\n",
       "      <td>fpgnsbq</td>\n",
       "      <td>t3_gdd9d8</td>\n",
       "      <td>big props to him for having the huge balls to ...</td>\n",
       "      <td>t3_gdd9d8</td>\n",
       "      <td>0.200000</td>\n",
       "      <td>0.500000</td>\n",
       "    </tr>\n",
       "    <tr>\n",
       "      <th>2</th>\n",
       "      <td>fpgquur</td>\n",
       "      <td>t3_gdd9d8</td>\n",
       "      <td>Chickenshit is correct. Attempting or even see...</td>\n",
       "      <td>t3_gdd9d8</td>\n",
       "      <td>0.325000</td>\n",
       "      <td>0.500000</td>\n",
       "    </tr>\n",
       "    <tr>\n",
       "      <th>3</th>\n",
       "      <td>fpgtifa</td>\n",
       "      <td>t3_gdd9d8</td>\n",
       "      <td>When you're in a position of power but still c...</td>\n",
       "      <td>t3_gdd9d8</td>\n",
       "      <td>0.000000</td>\n",
       "      <td>0.750000</td>\n",
       "    </tr>\n",
       "    <tr>\n",
       "      <th>4</th>\n",
       "      <td>fpgtfiy</td>\n",
       "      <td>t3_gdd9d8</td>\n",
       "      <td>Nice, I got to interview him a few years ago w...</td>\n",
       "      <td>t3_gdd9d8</td>\n",
       "      <td>0.077778</td>\n",
       "      <td>0.527778</td>\n",
       "    </tr>\n",
       "  </tbody>\n",
       "</table>\n",
       "</div>"
      ],
      "text/plain": [
       "  comment_id comment_parent_id  \\\n",
       "0    fpgu5a7         t3_gdd9d8   \n",
       "1    fpgnsbq         t3_gdd9d8   \n",
       "2    fpgquur         t3_gdd9d8   \n",
       "3    fpgtifa         t3_gdd9d8   \n",
       "4    fpgtfiy         t3_gdd9d8   \n",
       "\n",
       "                                        comment_body comment_link_id  \\\n",
       "0                                          [deleted]       t3_gdd9d8   \n",
       "1  big props to him for having the huge balls to ...       t3_gdd9d8   \n",
       "2  Chickenshit is correct. Attempting or even see...       t3_gdd9d8   \n",
       "3  When you're in a position of power but still c...       t3_gdd9d8   \n",
       "4  Nice, I got to interview him a few years ago w...       t3_gdd9d8   \n",
       "\n",
       "   sentiment_polarity  sentiment_subjectivity  \n",
       "0            0.000000                0.000000  \n",
       "1            0.200000                0.500000  \n",
       "2            0.325000                0.500000  \n",
       "3            0.000000                0.750000  \n",
       "4            0.077778                0.527778  "
      ]
     },
     "execution_count": 28,
     "metadata": {},
     "output_type": "execute_result"
    }
   ],
   "source": [
    "comments.head()"
   ]
  },
  {
   "cell_type": "code",
   "execution_count": 29,
   "id": "sharp-intent",
   "metadata": {},
   "outputs": [
    {
     "data": {
      "text/plain": [
       "-1.0"
      ]
     },
     "execution_count": 29,
     "metadata": {},
     "output_type": "execute_result"
    }
   ],
   "source": [
    "min(comments.sentiment_polarity)"
   ]
  },
  {
   "cell_type": "code",
   "execution_count": 30,
   "id": "loved-arthur",
   "metadata": {},
   "outputs": [
    {
     "data": {
      "text/html": [
       "<div>\n",
       "<style scoped>\n",
       "    .dataframe tbody tr th:only-of-type {\n",
       "        vertical-align: middle;\n",
       "    }\n",
       "\n",
       "    .dataframe tbody tr th {\n",
       "        vertical-align: top;\n",
       "    }\n",
       "\n",
       "    .dataframe thead th {\n",
       "        text-align: right;\n",
       "    }\n",
       "</style>\n",
       "<table border=\"1\" class=\"dataframe\">\n",
       "  <thead>\n",
       "    <tr style=\"text-align: right;\">\n",
       "      <th></th>\n",
       "      <th>comment_id</th>\n",
       "      <th>comment_parent_id</th>\n",
       "      <th>comment_body</th>\n",
       "      <th>comment_link_id</th>\n",
       "      <th>sentiment_polarity</th>\n",
       "      <th>sentiment_subjectivity</th>\n",
       "    </tr>\n",
       "  </thead>\n",
       "  <tbody>\n",
       "    <tr>\n",
       "      <th>289</th>\n",
       "      <td>fphqm5h</td>\n",
       "      <td>t1_fpgquur</td>\n",
       "      <td>Evil chickenshit?  Can chickenshit be evil?</td>\n",
       "      <td>t3_gdd9d8</td>\n",
       "      <td>-1.0</td>\n",
       "      <td>1.0</td>\n",
       "    </tr>\n",
       "    <tr>\n",
       "      <th>684</th>\n",
       "      <td>fpk1cfr</td>\n",
       "      <td>t1_fph2fl7</td>\n",
       "      <td>Horrible take.</td>\n",
       "      <td>t3_gdd9d8</td>\n",
       "      <td>-1.0</td>\n",
       "      <td>1.0</td>\n",
       "    </tr>\n",
       "    <tr>\n",
       "      <th>878</th>\n",
       "      <td>fphjq9i</td>\n",
       "      <td>t1_fpha6ql</td>\n",
       "      <td>It's not *just* that they have money. \\n\\nIt's...</td>\n",
       "      <td>t3_gdd9d8</td>\n",
       "      <td>-1.0</td>\n",
       "      <td>1.0</td>\n",
       "    </tr>\n",
       "    <tr>\n",
       "      <th>885</th>\n",
       "      <td>fphk0gw</td>\n",
       "      <td>t1_fphgyj6</td>\n",
       "      <td>It's not just that they have money. \\n\\nIt's w...</td>\n",
       "      <td>t3_gdd9d8</td>\n",
       "      <td>-1.0</td>\n",
       "      <td>1.0</td>\n",
       "    </tr>\n",
       "    <tr>\n",
       "      <th>1355</th>\n",
       "      <td>fphf5gl</td>\n",
       "      <td>t1_fphesox</td>\n",
       "      <td>\"pretend you're in this insane world.  your vi...</td>\n",
       "      <td>t3_gdd9d8</td>\n",
       "      <td>-1.0</td>\n",
       "      <td>1.0</td>\n",
       "    </tr>\n",
       "  </tbody>\n",
       "</table>\n",
       "</div>"
      ],
      "text/plain": [
       "     comment_id comment_parent_id  \\\n",
       "289     fphqm5h        t1_fpgquur   \n",
       "684     fpk1cfr        t1_fph2fl7   \n",
       "878     fphjq9i        t1_fpha6ql   \n",
       "885     fphk0gw        t1_fphgyj6   \n",
       "1355    fphf5gl        t1_fphesox   \n",
       "\n",
       "                                           comment_body comment_link_id  \\\n",
       "289         Evil chickenshit?  Can chickenshit be evil?       t3_gdd9d8   \n",
       "684                                      Horrible take.       t3_gdd9d8   \n",
       "878   It's not *just* that they have money. \\n\\nIt's...       t3_gdd9d8   \n",
       "885   It's not just that they have money. \\n\\nIt's w...       t3_gdd9d8   \n",
       "1355  \"pretend you're in this insane world.  your vi...       t3_gdd9d8   \n",
       "\n",
       "      sentiment_polarity  sentiment_subjectivity  \n",
       "289                 -1.0                     1.0  \n",
       "684                 -1.0                     1.0  \n",
       "878                 -1.0                     1.0  \n",
       "885                 -1.0                     1.0  \n",
       "1355                -1.0                     1.0  "
      ]
     },
     "execution_count": 30,
     "metadata": {},
     "output_type": "execute_result"
    }
   ],
   "source": [
    "comments[comments['sentiment_polarity']==-1].head()"
   ]
  },
  {
   "cell_type": "code",
   "execution_count": 37,
   "id": "crude-banner",
   "metadata": {},
   "outputs": [
    {
     "data": {
      "text/plain": [
       "'Evil chickenshit?  Can chickenshit be evil?'"
      ]
     },
     "execution_count": 37,
     "metadata": {},
     "output_type": "execute_result"
    }
   ],
   "source": [
    "comments.iloc[289, 2]"
   ]
  },
  {
   "cell_type": "code",
   "execution_count": 38,
   "id": "acoustic-backup",
   "metadata": {},
   "outputs": [
    {
     "data": {
      "text/plain": [
       "\"It's not *just* that they have money. \\n\\nIt's what and how they got it. \\n\\nWho's backs they stood on. \\n\\nAnd now that they have it, how they hoard it and how horribly they treat the people below them. \\n\\nIt's not *just* having it.\""
      ]
     },
     "execution_count": 38,
     "metadata": {},
     "output_type": "execute_result"
    }
   ],
   "source": [
    "comments.iloc[878, 2]"
   ]
  },
  {
   "cell_type": "code",
   "execution_count": 40,
   "id": "joined-mouth",
   "metadata": {},
   "outputs": [
    {
     "data": {
      "text/plain": [
       "'\"pretend you\\'re in this insane world.  your views don\\'t make sense now, do they?\"\\n\\nwell, no.  You got me there.  I have no idea how things would work in a world where the currency was sex.'"
      ]
     },
     "execution_count": 40,
     "metadata": {},
     "output_type": "execute_result"
    }
   ],
   "source": [
    "comments.iloc[1355, 2]"
   ]
  },
  {
   "cell_type": "code",
   "execution_count": 31,
   "id": "committed-unemployment",
   "metadata": {},
   "outputs": [
    {
     "data": {
      "text/plain": [
       "1.0"
      ]
     },
     "execution_count": 31,
     "metadata": {},
     "output_type": "execute_result"
    }
   ],
   "source": [
    "max(comments.sentiment_polarity)"
   ]
  },
  {
   "cell_type": "code",
   "execution_count": 32,
   "id": "metallic-dining",
   "metadata": {},
   "outputs": [
    {
     "data": {
      "text/html": [
       "<div>\n",
       "<style scoped>\n",
       "    .dataframe tbody tr th:only-of-type {\n",
       "        vertical-align: middle;\n",
       "    }\n",
       "\n",
       "    .dataframe tbody tr th {\n",
       "        vertical-align: top;\n",
       "    }\n",
       "\n",
       "    .dataframe thead th {\n",
       "        text-align: right;\n",
       "    }\n",
       "</style>\n",
       "<table border=\"1\" class=\"dataframe\">\n",
       "  <thead>\n",
       "    <tr style=\"text-align: right;\">\n",
       "      <th></th>\n",
       "      <th>comment_id</th>\n",
       "      <th>comment_parent_id</th>\n",
       "      <th>comment_body</th>\n",
       "      <th>comment_link_id</th>\n",
       "      <th>sentiment_polarity</th>\n",
       "      <th>sentiment_subjectivity</th>\n",
       "    </tr>\n",
       "  </thead>\n",
       "  <tbody>\n",
       "    <tr>\n",
       "      <th>113</th>\n",
       "      <td>fphuy0o</td>\n",
       "      <td>t3_gdd9d8</td>\n",
       "      <td>Firing someone like that is perfect for descri...</td>\n",
       "      <td>t3_gdd9d8</td>\n",
       "      <td>1.0</td>\n",
       "      <td>1.0</td>\n",
       "    </tr>\n",
       "    <tr>\n",
       "      <th>144</th>\n",
       "      <td>fpij6zs</td>\n",
       "      <td>t3_gdd9d8</td>\n",
       "      <td>This is awesome he should go to tesla</td>\n",
       "      <td>t3_gdd9d8</td>\n",
       "      <td>1.0</td>\n",
       "      <td>1.0</td>\n",
       "    </tr>\n",
       "    <tr>\n",
       "      <th>298</th>\n",
       "      <td>fpheno9</td>\n",
       "      <td>t1_fpgtfiy</td>\n",
       "      <td>Just wanna say how awesome a name is GOTO Conf</td>\n",
       "      <td>t3_gdd9d8</td>\n",
       "      <td>1.0</td>\n",
       "      <td>1.0</td>\n",
       "    </tr>\n",
       "    <tr>\n",
       "      <th>577</th>\n",
       "      <td>fpjq6fk</td>\n",
       "      <td>t1_fph7wjc</td>\n",
       "      <td>Happy cake day!</td>\n",
       "      <td>t3_gdd9d8</td>\n",
       "      <td>1.0</td>\n",
       "      <td>1.0</td>\n",
       "    </tr>\n",
       "    <tr>\n",
       "      <th>579</th>\n",
       "      <td>fphlm41</td>\n",
       "      <td>t1_fphbrvb</td>\n",
       "      <td>Stallman still has your best interests at hear...</td>\n",
       "      <td>t3_gdd9d8</td>\n",
       "      <td>1.0</td>\n",
       "      <td>0.3</td>\n",
       "    </tr>\n",
       "  </tbody>\n",
       "</table>\n",
       "</div>"
      ],
      "text/plain": [
       "    comment_id comment_parent_id  \\\n",
       "113    fphuy0o         t3_gdd9d8   \n",
       "144    fpij6zs         t3_gdd9d8   \n",
       "298    fpheno9        t1_fpgtfiy   \n",
       "577    fpjq6fk        t1_fph7wjc   \n",
       "579    fphlm41        t1_fphbrvb   \n",
       "\n",
       "                                          comment_body comment_link_id  \\\n",
       "113  Firing someone like that is perfect for descri...       t3_gdd9d8   \n",
       "144              This is awesome he should go to tesla       t3_gdd9d8   \n",
       "298     Just wanna say how awesome a name is GOTO Conf       t3_gdd9d8   \n",
       "577                                    Happy cake day!       t3_gdd9d8   \n",
       "579  Stallman still has your best interests at hear...       t3_gdd9d8   \n",
       "\n",
       "     sentiment_polarity  sentiment_subjectivity  \n",
       "113                 1.0                     1.0  \n",
       "144                 1.0                     1.0  \n",
       "298                 1.0                     1.0  \n",
       "577                 1.0                     1.0  \n",
       "579                 1.0                     0.3  "
      ]
     },
     "execution_count": 32,
     "metadata": {},
     "output_type": "execute_result"
    }
   ],
   "source": [
    "comments[comments['sentiment_polarity']==1].head()"
   ]
  },
  {
   "cell_type": "code",
   "execution_count": 34,
   "id": "corrected-adams",
   "metadata": {},
   "outputs": [
    {
     "data": {
      "text/plain": [
       "'Firing someone like that is perfect for describing them'"
      ]
     },
     "execution_count": 34,
     "metadata": {},
     "output_type": "execute_result"
    }
   ],
   "source": [
    "comments.iloc[113, 2]"
   ]
  },
  {
   "cell_type": "code",
   "execution_count": 35,
   "id": "positive-regulation",
   "metadata": {},
   "outputs": [
    {
     "data": {
      "text/plain": [
       "'This is awesome he should go to tesla'"
      ]
     },
     "execution_count": 35,
     "metadata": {},
     "output_type": "execute_result"
    }
   ],
   "source": [
    "comments.iloc[144, 2]"
   ]
  },
  {
   "cell_type": "code",
   "execution_count": 36,
   "id": "cooperative-looking",
   "metadata": {},
   "outputs": [
    {
     "data": {
      "text/plain": [
       "'Just wanna say how awesome a name is GOTO Conf'"
      ]
     },
     "execution_count": 36,
     "metadata": {},
     "output_type": "execute_result"
    }
   ],
   "source": [
    "comments.iloc[298, 2]"
   ]
  },
  {
   "cell_type": "code",
   "execution_count": 41,
   "id": "dominican-mortgage",
   "metadata": {},
   "outputs": [],
   "source": [
    "#################"
   ]
  },
  {
   "cell_type": "code",
   "execution_count": 42,
   "id": "printable-boating",
   "metadata": {},
   "outputs": [],
   "source": [
    "#compare to Vader"
   ]
  },
  {
   "cell_type": "code",
   "execution_count": 3,
   "id": "graphic-injury",
   "metadata": {},
   "outputs": [],
   "source": [
    "from vaderSentiment.vaderSentiment import SentimentIntensityAnalyzer "
   ]
  },
  {
   "cell_type": "code",
   "execution_count": 5,
   "id": "corresponding-accuracy",
   "metadata": {},
   "outputs": [],
   "source": [
    "sid_obj = SentimentIntensityAnalyzer()\n",
    "sentiment = []\n",
    "for text in comments.comment_body:\n",
    "    sentiment.append(sid_obj.polarity_scores(text))"
   ]
  },
  {
   "cell_type": "code",
   "execution_count": 7,
   "id": "extreme-louisiana",
   "metadata": {},
   "outputs": [
    {
     "data": {
      "text/plain": [
       "203847"
      ]
     },
     "execution_count": 7,
     "metadata": {},
     "output_type": "execute_result"
    }
   ],
   "source": [
    "len(sentiment)"
   ]
  },
  {
   "cell_type": "code",
   "execution_count": 8,
   "id": "varying-occasions",
   "metadata": {},
   "outputs": [
    {
     "data": {
      "text/plain": [
       "(203847, 4)"
      ]
     },
     "execution_count": 8,
     "metadata": {},
     "output_type": "execute_result"
    }
   ],
   "source": [
    "comments.shape"
   ]
  },
  {
   "cell_type": "code",
   "execution_count": 9,
   "id": "multiple-placement",
   "metadata": {},
   "outputs": [],
   "source": [
    "vader_results = pd.concat([comments,pd.DataFrame(sentiment)], axis=1)"
   ]
  },
  {
   "cell_type": "code",
   "execution_count": 10,
   "id": "neither-bhutan",
   "metadata": {},
   "outputs": [
    {
     "data": {
      "text/html": [
       "<div>\n",
       "<style scoped>\n",
       "    .dataframe tbody tr th:only-of-type {\n",
       "        vertical-align: middle;\n",
       "    }\n",
       "\n",
       "    .dataframe tbody tr th {\n",
       "        vertical-align: top;\n",
       "    }\n",
       "\n",
       "    .dataframe thead th {\n",
       "        text-align: right;\n",
       "    }\n",
       "</style>\n",
       "<table border=\"1\" class=\"dataframe\">\n",
       "  <thead>\n",
       "    <tr style=\"text-align: right;\">\n",
       "      <th></th>\n",
       "      <th>comment_id</th>\n",
       "      <th>comment_parent_id</th>\n",
       "      <th>comment_body</th>\n",
       "      <th>comment_link_id</th>\n",
       "      <th>neg</th>\n",
       "      <th>neu</th>\n",
       "      <th>pos</th>\n",
       "      <th>compound</th>\n",
       "    </tr>\n",
       "  </thead>\n",
       "  <tbody>\n",
       "    <tr>\n",
       "      <th>0</th>\n",
       "      <td>fpgu5a7</td>\n",
       "      <td>t3_gdd9d8</td>\n",
       "      <td>[deleted]</td>\n",
       "      <td>t3_gdd9d8</td>\n",
       "      <td>0.000</td>\n",
       "      <td>1.000</td>\n",
       "      <td>0.000</td>\n",
       "      <td>0.0000</td>\n",
       "    </tr>\n",
       "    <tr>\n",
       "      <th>1</th>\n",
       "      <td>fpgnsbq</td>\n",
       "      <td>t3_gdd9d8</td>\n",
       "      <td>big props to him for having the huge balls to ...</td>\n",
       "      <td>t3_gdd9d8</td>\n",
       "      <td>0.000</td>\n",
       "      <td>0.827</td>\n",
       "      <td>0.173</td>\n",
       "      <td>0.3182</td>\n",
       "    </tr>\n",
       "    <tr>\n",
       "      <th>2</th>\n",
       "      <td>fpgquur</td>\n",
       "      <td>t3_gdd9d8</td>\n",
       "      <td>Chickenshit is correct. Attempting or even see...</td>\n",
       "      <td>t3_gdd9d8</td>\n",
       "      <td>0.109</td>\n",
       "      <td>0.665</td>\n",
       "      <td>0.227</td>\n",
       "      <td>0.4404</td>\n",
       "    </tr>\n",
       "    <tr>\n",
       "      <th>3</th>\n",
       "      <td>fpgtifa</td>\n",
       "      <td>t3_gdd9d8</td>\n",
       "      <td>When you're in a position of power but still c...</td>\n",
       "      <td>t3_gdd9d8</td>\n",
       "      <td>0.000</td>\n",
       "      <td>0.847</td>\n",
       "      <td>0.153</td>\n",
       "      <td>0.7579</td>\n",
       "    </tr>\n",
       "    <tr>\n",
       "      <th>4</th>\n",
       "      <td>fpgtfiy</td>\n",
       "      <td>t3_gdd9d8</td>\n",
       "      <td>Nice, I got to interview him a few years ago w...</td>\n",
       "      <td>t3_gdd9d8</td>\n",
       "      <td>0.068</td>\n",
       "      <td>0.776</td>\n",
       "      <td>0.155</td>\n",
       "      <td>0.7655</td>\n",
       "    </tr>\n",
       "  </tbody>\n",
       "</table>\n",
       "</div>"
      ],
      "text/plain": [
       "  comment_id comment_parent_id  \\\n",
       "0    fpgu5a7         t3_gdd9d8   \n",
       "1    fpgnsbq         t3_gdd9d8   \n",
       "2    fpgquur         t3_gdd9d8   \n",
       "3    fpgtifa         t3_gdd9d8   \n",
       "4    fpgtfiy         t3_gdd9d8   \n",
       "\n",
       "                                        comment_body comment_link_id    neg  \\\n",
       "0                                          [deleted]       t3_gdd9d8  0.000   \n",
       "1  big props to him for having the huge balls to ...       t3_gdd9d8  0.000   \n",
       "2  Chickenshit is correct. Attempting or even see...       t3_gdd9d8  0.109   \n",
       "3  When you're in a position of power but still c...       t3_gdd9d8  0.000   \n",
       "4  Nice, I got to interview him a few years ago w...       t3_gdd9d8  0.068   \n",
       "\n",
       "     neu    pos  compound  \n",
       "0  1.000  0.000    0.0000  \n",
       "1  0.827  0.173    0.3182  \n",
       "2  0.665  0.227    0.4404  \n",
       "3  0.847  0.153    0.7579  \n",
       "4  0.776  0.155    0.7655  "
      ]
     },
     "execution_count": 10,
     "metadata": {},
     "output_type": "execute_result"
    }
   ],
   "source": [
    "vader_results.head()"
   ]
  },
  {
   "cell_type": "code",
   "execution_count": null,
   "id": "white-accuracy",
   "metadata": {},
   "outputs": [],
   "source": [
    "#the \"compound\" score, ranging from -1 (most neg) to 1 (most pos) would provide a single measure of polarity."
   ]
  },
  {
   "cell_type": "code",
   "execution_count": null,
   "id": "collect-thompson",
   "metadata": {},
   "outputs": [],
   "source": [
    "\"\"\"\n",
    "The Compound score is a metric that calculates the sum of all the \n",
    "lexicon ratings which have been normalized between -1(most extreme negative) \n",
    "and +1 (most extreme positive).\n",
    "\n",
    "positive sentiment : (compound score >= 0.05)\n",
    "neutral sentiment : (compound score > -0.05) and (compound score < 0.05)\n",
    "negative sentiment : (compound score <= -0.05)\"\"\""
   ]
  }
 ],
 "metadata": {
  "kernelspec": {
   "display_name": "Python 3",
   "language": "python",
   "name": "python3"
  },
  "language_info": {
   "codemirror_mode": {
    "name": "ipython",
    "version": 3
   },
   "file_extension": ".py",
   "mimetype": "text/x-python",
   "name": "python",
   "nbconvert_exporter": "python",
   "pygments_lexer": "ipython3",
   "version": "3.8.2"
  }
 },
 "nbformat": 4,
 "nbformat_minor": 5
}
