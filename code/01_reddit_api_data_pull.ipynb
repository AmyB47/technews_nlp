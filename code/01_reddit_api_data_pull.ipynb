{
 "cells": [
  {
   "cell_type": "code",
   "execution_count": null,
   "id": "accurate-southeast",
   "metadata": {},
   "outputs": [],
   "source": [
    "\"\"\" Scrape the r/technews subreddit through the Python Reddit API \"\"\""
   ]
  },
  {
   "cell_type": "code",
   "execution_count": 1,
   "id": "going-survival",
   "metadata": {},
   "outputs": [],
   "source": [
    "import praw\n",
    "import pandas as pd\n",
    "import pickle"
   ]
  },
  {
   "cell_type": "code",
   "execution_count": 2,
   "id": "rocky-teddy",
   "metadata": {},
   "outputs": [],
   "source": [
    "# import my Reddit API account info saved in separate .py\n",
    "from reddit_api_acct import ab_client, ab_secret, ab_agent"
   ]
  },
  {
   "cell_type": "code",
   "execution_count": 3,
   "id": "norwegian-eligibility",
   "metadata": {},
   "outputs": [
    {
     "name": "stderr",
     "output_type": "stream",
     "text": [
      "Version 7.0.0 of praw is outdated. Version 7.1.4 was released Sunday February 07, 2021.\n"
     ]
    }
   ],
   "source": [
    "reddit = praw.Reddit(client_id = ab_client, \n",
    "                     client_secret = ab_secret, \n",
    "                     user_agent = ab_agent)\n"
   ]
  },
  {
   "cell_type": "code",
   "execution_count": 3,
   "id": "athletic-consistency",
   "metadata": {},
   "outputs": [
    {
     "name": "stdout",
     "output_type": "stream",
     "text": [
      "Texas’ power grid crumples under the cold\n",
      "Amazon is developing a new digital currency\n",
      "New type of supply-chain attack hit Apple, Microsoft and 33 other companies\n",
      "Amazon will build Fire Sticks for its first device manufacturing line in India\n",
      "TikTok hit with consumer, child safety and privacy complaints in Europe\n",
      "China starts commissioning maglev trains with speeds up to 600 km/385 miles per hour\n",
      "Twitch streamer made $16,000 filming himself sleeping and letting viewers disturb him with alarm clocks and fake dog barks\n",
      "Graphene “nano-origami” creates tiniest microchips ever\n",
      "SpaceX Starship SN10 launch this week has ‘60% chance of landing’, says Elon Musk\n",
      "France fines Google 1.1 million euros over hotel rankings practices\n"
     ]
    }
   ],
   "source": [
    "hot_posts = reddit.subreddit('technews').hot(limit=10)\n",
    "for post in hot_posts:\n",
    "    print(post.title)"
   ]
  },
  {
   "cell_type": "code",
   "execution_count": 4,
   "id": "initial-payday",
   "metadata": {},
   "outputs": [],
   "source": [
    "posts = []\n",
    "ml_subreddit = reddit.subreddit('technews')\n",
    "for post in ml_subreddit.new(limit=None):  # or .hot\n",
    "    posts.append([post.title, post.score, post.id, post.subreddit, post.url, post.num_comments, post.selftext, post.created])\n",
    "posts = pd.DataFrame(posts,columns=['title', 'score', 'id', 'subreddit', 'url', 'num_comments', 'body', 'created'])\n"
   ]
  },
  {
   "cell_type": "code",
   "execution_count": 11,
   "id": "unsigned-natural",
   "metadata": {},
   "outputs": [
    {
     "data": {
      "text/plain": [
       "(276, 8)"
      ]
     },
     "execution_count": 11,
     "metadata": {},
     "output_type": "execute_result"
    }
   ],
   "source": [
    "posts.shape"
   ]
  },
  {
   "cell_type": "code",
   "execution_count": null,
   "id": "certain-cruise",
   "metadata": {},
   "outputs": [],
   "source": [
    "# even with No Limit, the Reddit API is limited to at max 1K posts"
   ]
  },
  {
   "cell_type": "code",
   "execution_count": 5,
   "id": "adequate-incidence",
   "metadata": {},
   "outputs": [
    {
     "data": {
      "text/html": [
       "<div>\n",
       "<style scoped>\n",
       "    .dataframe tbody tr th:only-of-type {\n",
       "        vertical-align: middle;\n",
       "    }\n",
       "\n",
       "    .dataframe tbody tr th {\n",
       "        vertical-align: top;\n",
       "    }\n",
       "\n",
       "    .dataframe thead th {\n",
       "        text-align: right;\n",
       "    }\n",
       "</style>\n",
       "<table border=\"1\" class=\"dataframe\">\n",
       "  <thead>\n",
       "    <tr style=\"text-align: right;\">\n",
       "      <th></th>\n",
       "      <th>title</th>\n",
       "      <th>score</th>\n",
       "      <th>id</th>\n",
       "      <th>subreddit</th>\n",
       "      <th>url</th>\n",
       "      <th>num_comments</th>\n",
       "      <th>body</th>\n",
       "      <th>created</th>\n",
       "    </tr>\n",
       "  </thead>\n",
       "  <tbody>\n",
       "    <tr>\n",
       "      <th>0</th>\n",
       "      <td>Jeff Bezos Becomes World’s Richest Person Agai...</td>\n",
       "      <td>582</td>\n",
       "      <td>lm0g8v</td>\n",
       "      <td>technews</td>\n",
       "      <td>https://www.globaltrends.us/2021/02/jeff-bezos...</td>\n",
       "      <td>130</td>\n",
       "      <td></td>\n",
       "      <td>1.613614e+09</td>\n",
       "    </tr>\n",
       "    <tr>\n",
       "      <th>1</th>\n",
       "      <td>France ties Russia’s Sandworm to a multiyear h...</td>\n",
       "      <td>739</td>\n",
       "      <td>lluqyh</td>\n",
       "      <td>technews</td>\n",
       "      <td>https://arstechnica.com/information-technology...</td>\n",
       "      <td>22</td>\n",
       "      <td></td>\n",
       "      <td>1.613598e+09</td>\n",
       "    </tr>\n",
       "    <tr>\n",
       "      <th>2</th>\n",
       "      <td>Reddit removed 6% of content on its platform i...</td>\n",
       "      <td>454</td>\n",
       "      <td>llvcbf</td>\n",
       "      <td>technews</td>\n",
       "      <td>https://www.axios.com/reddit-content-removal-2...</td>\n",
       "      <td>50</td>\n",
       "      <td></td>\n",
       "      <td>1.613600e+09</td>\n",
       "    </tr>\n",
       "    <tr>\n",
       "      <th>3</th>\n",
       "      <td>Google to invest $75 million in coronavirus-hi...</td>\n",
       "      <td>368</td>\n",
       "      <td>llwqq7</td>\n",
       "      <td>technews</td>\n",
       "      <td>https://www.reuters.com/article/us-eu-alphabet...</td>\n",
       "      <td>18</td>\n",
       "      <td></td>\n",
       "      <td>1.613604e+09</td>\n",
       "    </tr>\n",
       "    <tr>\n",
       "      <th>4</th>\n",
       "      <td>Printed in days, a house: New York firm takes ...</td>\n",
       "      <td>108</td>\n",
       "      <td>lm36bx</td>\n",
       "      <td>technews</td>\n",
       "      <td>https://www.reuters.com/article/us-usa-tech-3d...</td>\n",
       "      <td>6</td>\n",
       "      <td></td>\n",
       "      <td>1.613621e+09</td>\n",
       "    </tr>\n",
       "  </tbody>\n",
       "</table>\n",
       "</div>"
      ],
      "text/plain": [
       "                                               title  score      id subreddit  \\\n",
       "0  Jeff Bezos Becomes World’s Richest Person Agai...    582  lm0g8v  technews   \n",
       "1  France ties Russia’s Sandworm to a multiyear h...    739  lluqyh  technews   \n",
       "2  Reddit removed 6% of content on its platform i...    454  llvcbf  technews   \n",
       "3  Google to invest $75 million in coronavirus-hi...    368  llwqq7  technews   \n",
       "4  Printed in days, a house: New York firm takes ...    108  lm36bx  technews   \n",
       "\n",
       "                                                 url  num_comments body  \\\n",
       "0  https://www.globaltrends.us/2021/02/jeff-bezos...           130        \n",
       "1  https://arstechnica.com/information-technology...            22        \n",
       "2  https://www.axios.com/reddit-content-removal-2...            50        \n",
       "3  https://www.reuters.com/article/us-eu-alphabet...            18        \n",
       "4  https://www.reuters.com/article/us-usa-tech-3d...             6        \n",
       "\n",
       "        created  \n",
       "0  1.613614e+09  \n",
       "1  1.613598e+09  \n",
       "2  1.613600e+09  \n",
       "3  1.613604e+09  \n",
       "4  1.613621e+09  "
      ]
     },
     "execution_count": 5,
     "metadata": {},
     "output_type": "execute_result"
    }
   ],
   "source": [
    "posts.head()"
   ]
  },
  {
   "cell_type": "code",
   "execution_count": null,
   "id": "smart-nicaragua",
   "metadata": {},
   "outputs": [],
   "source": [
    "####################"
   ]
  },
  {
   "cell_type": "code",
   "execution_count": 26,
   "id": "supported-integral",
   "metadata": {},
   "outputs": [],
   "source": [
    "sub = ['technews']  # make a list of subreddits you want to scrape the data from\n",
    "\n",
    "for s in sub:\n",
    "    subreddit = reddit.subreddit(s)   # Chosing the subreddit\n"
   ]
  },
  {
   "cell_type": "code",
   "execution_count": 27,
   "id": "ordinary-trace",
   "metadata": {},
   "outputs": [],
   "source": [
    "post_dict = {\n",
    "    \"title\" : [],\n",
    "    \"score\" : [],\n",
    "    \"id\" : [],\n",
    "    \"url\" : [],\n",
    "    \"num_comms\": [],\n",
    "    \"created\" : [],\n",
    "    \"body\" : []\n",
    "}\n",
    "comments_dict = {\n",
    "    \"comment_id\" : [],\n",
    "    \"comment_parent_id\" : [],\n",
    "    \"comment_body\" : [],\n",
    "    \"comment_link_id\" : []\n",
    "}\n",
    "    "
   ]
  },
  {
   "cell_type": "code",
   "execution_count": 28,
   "id": "israeli-clause",
   "metadata": {},
   "outputs": [],
   "source": [
    "# ran for top posts on 2/17/2021 \n",
    "\n",
    "#for submission in subreddit.search(query,sort = \"top\",limit = 1):\n",
    "for submission in subreddit.top(limit=None):\n",
    "    post_dict[\"title\"].append(submission.title)\n",
    "    post_dict[\"score\"].append(submission.score)\n",
    "    post_dict[\"id\"].append(submission.id)\n",
    "    post_dict[\"url\"].append(submission.url)\n",
    "    post_dict[\"num_comms\"].append(submission.num_comments)\n",
    "    post_dict[\"created\"].append(submission.created)\n",
    "    post_dict[\"body\"].append(submission.selftext)\n",
    "\n",
    "    ##### Accessing comments on the post\n",
    "    submission.comments.replace_more(limit = None)\n",
    "    for comment in submission.comments.list():\n",
    "        comments_dict[\"comment_id\"].append(comment.id)\n",
    "        comments_dict[\"comment_parent_id\"].append(comment.parent_id)\n",
    "        comments_dict[\"comment_body\"].append(comment.body)\n",
    "        comments_dict[\"comment_link_id\"].append(comment.link_id)\n",
    "\n",
    "post_comments = pd.DataFrame(comments_dict)\n",
    "post_data = pd.DataFrame(post_dict)\n",
    "  "
   ]
  },
  {
   "cell_type": "code",
   "execution_count": 29,
   "id": "arctic-principal",
   "metadata": {},
   "outputs": [
    {
     "data": {
      "text/plain": [
       "(203847, 4)"
      ]
     },
     "execution_count": 29,
     "metadata": {},
     "output_type": "execute_result"
    }
   ],
   "source": [
    "post_comments.shape"
   ]
  },
  {
   "cell_type": "code",
   "execution_count": 30,
   "id": "freelance-thousand",
   "metadata": {},
   "outputs": [
    {
     "data": {
      "text/html": [
       "<div>\n",
       "<style scoped>\n",
       "    .dataframe tbody tr th:only-of-type {\n",
       "        vertical-align: middle;\n",
       "    }\n",
       "\n",
       "    .dataframe tbody tr th {\n",
       "        vertical-align: top;\n",
       "    }\n",
       "\n",
       "    .dataframe thead th {\n",
       "        text-align: right;\n",
       "    }\n",
       "</style>\n",
       "<table border=\"1\" class=\"dataframe\">\n",
       "  <thead>\n",
       "    <tr style=\"text-align: right;\">\n",
       "      <th></th>\n",
       "      <th>comment_id</th>\n",
       "      <th>comment_parent_id</th>\n",
       "      <th>comment_body</th>\n",
       "      <th>comment_link_id</th>\n",
       "    </tr>\n",
       "  </thead>\n",
       "  <tbody>\n",
       "    <tr>\n",
       "      <th>0</th>\n",
       "      <td>fpgu5a7</td>\n",
       "      <td>t3_gdd9d8</td>\n",
       "      <td>[deleted]</td>\n",
       "      <td>t3_gdd9d8</td>\n",
       "    </tr>\n",
       "    <tr>\n",
       "      <th>1</th>\n",
       "      <td>fpgnsbq</td>\n",
       "      <td>t3_gdd9d8</td>\n",
       "      <td>big props to him for having the huge balls to ...</td>\n",
       "      <td>t3_gdd9d8</td>\n",
       "    </tr>\n",
       "    <tr>\n",
       "      <th>2</th>\n",
       "      <td>fpgquur</td>\n",
       "      <td>t3_gdd9d8</td>\n",
       "      <td>Chickenshit is correct. Attempting or even see...</td>\n",
       "      <td>t3_gdd9d8</td>\n",
       "    </tr>\n",
       "    <tr>\n",
       "      <th>3</th>\n",
       "      <td>fpgtifa</td>\n",
       "      <td>t3_gdd9d8</td>\n",
       "      <td>When you're in a position of power but still c...</td>\n",
       "      <td>t3_gdd9d8</td>\n",
       "    </tr>\n",
       "    <tr>\n",
       "      <th>4</th>\n",
       "      <td>fpgtfiy</td>\n",
       "      <td>t3_gdd9d8</td>\n",
       "      <td>Nice, I got to interview him a few years ago w...</td>\n",
       "      <td>t3_gdd9d8</td>\n",
       "    </tr>\n",
       "  </tbody>\n",
       "</table>\n",
       "</div>"
      ],
      "text/plain": [
       "  comment_id comment_parent_id  \\\n",
       "0    fpgu5a7         t3_gdd9d8   \n",
       "1    fpgnsbq         t3_gdd9d8   \n",
       "2    fpgquur         t3_gdd9d8   \n",
       "3    fpgtifa         t3_gdd9d8   \n",
       "4    fpgtfiy         t3_gdd9d8   \n",
       "\n",
       "                                        comment_body comment_link_id  \n",
       "0                                          [deleted]       t3_gdd9d8  \n",
       "1  big props to him for having the huge balls to ...       t3_gdd9d8  \n",
       "2  Chickenshit is correct. Attempting or even see...       t3_gdd9d8  \n",
       "3  When you're in a position of power but still c...       t3_gdd9d8  \n",
       "4  Nice, I got to interview him a few years ago w...       t3_gdd9d8  "
      ]
     },
     "execution_count": 30,
     "metadata": {},
     "output_type": "execute_result"
    }
   ],
   "source": [
    "post_comments.head()"
   ]
  },
  {
   "cell_type": "code",
   "execution_count": 31,
   "id": "consolidated-means",
   "metadata": {},
   "outputs": [
    {
     "data": {
      "text/plain": [
       "(962, 7)"
      ]
     },
     "execution_count": 31,
     "metadata": {},
     "output_type": "execute_result"
    }
   ],
   "source": [
    "post_data.shape"
   ]
  },
  {
   "cell_type": "code",
   "execution_count": 32,
   "id": "absent-intensity",
   "metadata": {},
   "outputs": [
    {
     "data": {
      "text/html": [
       "<div>\n",
       "<style scoped>\n",
       "    .dataframe tbody tr th:only-of-type {\n",
       "        vertical-align: middle;\n",
       "    }\n",
       "\n",
       "    .dataframe tbody tr th {\n",
       "        vertical-align: top;\n",
       "    }\n",
       "\n",
       "    .dataframe thead th {\n",
       "        text-align: right;\n",
       "    }\n",
       "</style>\n",
       "<table border=\"1\" class=\"dataframe\">\n",
       "  <thead>\n",
       "    <tr style=\"text-align: right;\">\n",
       "      <th></th>\n",
       "      <th>title</th>\n",
       "      <th>score</th>\n",
       "      <th>id</th>\n",
       "      <th>url</th>\n",
       "      <th>num_comms</th>\n",
       "      <th>created</th>\n",
       "      <th>body</th>\n",
       "    </tr>\n",
       "  </thead>\n",
       "  <tbody>\n",
       "    <tr>\n",
       "      <th>0</th>\n",
       "      <td>Amazon VP Resigns, Calls Company ‘Chickenshit’...</td>\n",
       "      <td>56834</td>\n",
       "      <td>gdd9d8</td>\n",
       "      <td>https://www.vice.com/en_us/article/z3bjpj/amaz...</td>\n",
       "      <td>1760</td>\n",
       "      <td>1.588634e+09</td>\n",
       "      <td></td>\n",
       "    </tr>\n",
       "    <tr>\n",
       "      <th>1</th>\n",
       "      <td>Robinhood plummets back down to a one-star rat...</td>\n",
       "      <td>34487</td>\n",
       "      <td>lakvbj</td>\n",
       "      <td>https://www.theverge.com/2021/2/1/22261178/rob...</td>\n",
       "      <td>705</td>\n",
       "      <td>1.612261e+09</td>\n",
       "      <td></td>\n",
       "    </tr>\n",
       "    <tr>\n",
       "      <th>2</th>\n",
       "      <td>Twitter hides Trump tweet attacking Supreme Co...</td>\n",
       "      <td>29023</td>\n",
       "      <td>jn69ys</td>\n",
       "      <td>https://techcrunch.com/2020/11/02/twitter-trum...</td>\n",
       "      <td>1267</td>\n",
       "      <td>1.604418e+09</td>\n",
       "      <td></td>\n",
       "    </tr>\n",
       "    <tr>\n",
       "      <th>3</th>\n",
       "      <td>Parler CEO says even his lawyers are abandonin...</td>\n",
       "      <td>24305</td>\n",
       "      <td>kuuq6y</td>\n",
       "      <td>https://www.theverge.com/2021/1/10/22223956/pa...</td>\n",
       "      <td>1485</td>\n",
       "      <td>1.610367e+09</td>\n",
       "      <td></td>\n",
       "    </tr>\n",
       "    <tr>\n",
       "      <th>4</th>\n",
       "      <td>Trump blocked by Twitter and Facebook</td>\n",
       "      <td>23597</td>\n",
       "      <td>ks63ds</td>\n",
       "      <td>https://www.bbc.co.uk/news/technology-55569604</td>\n",
       "      <td>667</td>\n",
       "      <td>1.610024e+09</td>\n",
       "      <td></td>\n",
       "    </tr>\n",
       "  </tbody>\n",
       "</table>\n",
       "</div>"
      ],
      "text/plain": [
       "                                               title  score      id  \\\n",
       "0  Amazon VP Resigns, Calls Company ‘Chickenshit’...  56834  gdd9d8   \n",
       "1  Robinhood plummets back down to a one-star rat...  34487  lakvbj   \n",
       "2  Twitter hides Trump tweet attacking Supreme Co...  29023  jn69ys   \n",
       "3  Parler CEO says even his lawyers are abandonin...  24305  kuuq6y   \n",
       "4              Trump blocked by Twitter and Facebook  23597  ks63ds   \n",
       "\n",
       "                                                 url  num_comms       created  \\\n",
       "0  https://www.vice.com/en_us/article/z3bjpj/amaz...       1760  1.588634e+09   \n",
       "1  https://www.theverge.com/2021/2/1/22261178/rob...        705  1.612261e+09   \n",
       "2  https://techcrunch.com/2020/11/02/twitter-trum...       1267  1.604418e+09   \n",
       "3  https://www.theverge.com/2021/1/10/22223956/pa...       1485  1.610367e+09   \n",
       "4     https://www.bbc.co.uk/news/technology-55569604        667  1.610024e+09   \n",
       "\n",
       "  body  \n",
       "0       \n",
       "1       \n",
       "2       \n",
       "3       \n",
       "4       "
      ]
     },
     "execution_count": 32,
     "metadata": {},
     "output_type": "execute_result"
    }
   ],
   "source": [
    "post_data.head()"
   ]
  },
  {
   "cell_type": "code",
   "execution_count": 33,
   "id": "quantitative-affiliate",
   "metadata": {},
   "outputs": [],
   "source": [
    "# pickle posts and comments\n",
    "\n",
    "with open('post_data_top.pickle', 'wb') as to_write:\n",
    "    pickle.dump(post_data, to_write)\n",
    "\n",
    "    \n",
    "with open('post_comments_top.pickle', 'wb') as to_write:\n",
    "    pickle.dump(post_comments, to_write)"
   ]
  },
  {
   "cell_type": "code",
   "execution_count": null,
   "id": "characteristic-facial",
   "metadata": {},
   "outputs": [],
   "source": []
  }
 ],
 "metadata": {
  "kernelspec": {
   "display_name": "Python 3",
   "language": "python",
   "name": "python3"
  },
  "language_info": {
   "codemirror_mode": {
    "name": "ipython",
    "version": 3
   },
   "file_extension": ".py",
   "mimetype": "text/x-python",
   "name": "python",
   "nbconvert_exporter": "python",
   "pygments_lexer": "ipython3",
   "version": "3.8.2"
  }
 },
 "nbformat": 4,
 "nbformat_minor": 5
}
