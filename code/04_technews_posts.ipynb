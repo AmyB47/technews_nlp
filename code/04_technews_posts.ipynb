{
 "cells": [
  {
   "cell_type": "code",
   "execution_count": null,
   "id": "wound-adapter",
   "metadata": {},
   "outputs": [],
   "source": [
    "\"\"\"\n",
    "Set up pull of r/technews posts \n",
    "for 2011 - 2020 \n",
    "\"\"\""
   ]
  },
  {
   "cell_type": "code",
   "execution_count": 4,
   "id": "boolean-organizer",
   "metadata": {},
   "outputs": [],
   "source": [
    "from psaw import PushshiftAPI\n",
    "import pandas as pd\n",
    "import datetime as dt"
   ]
  },
  {
   "cell_type": "code",
   "execution_count": 4,
   "id": "center-canvas",
   "metadata": {},
   "outputs": [],
   "source": [
    "api=PushshiftAPI()"
   ]
  },
  {
   "cell_type": "code",
   "execution_count": 5,
   "id": "excellent-australia",
   "metadata": {},
   "outputs": [],
   "source": [
    "# try to pull 6 months at a time\n",
    "# keep all fields\n",
    "# there are less fields in the older years\n",
    "\n",
    "# with all the fields, will be able to filter out removed posts and many of the ads\n",
    "# many posts removed by moderator or reddit in the more recent years\n"
   ]
  },
  {
   "cell_type": "code",
   "execution_count": 100,
   "id": "hawaiian-mortality",
   "metadata": {},
   "outputs": [],
   "source": [
    "start_epoch=int(dt.datetime(2020, 7, 1).timestamp())\n",
    "end_epoch=int(dt.datetime(2021, 1, 1).timestamp())\n"
   ]
  },
  {
   "cell_type": "code",
   "execution_count": 101,
   "id": "applicable-worship",
   "metadata": {},
   "outputs": [],
   "source": [
    "gen = api.search_submissions(after=start_epoch, before=end_epoch,\n",
    "                            subreddit='technews',\n",
    "                            limit=None)\n",
    "\n",
    "df = pd.DataFrame([thing.d_ for thing in gen])\n",
    "\n",
    "df.to_csv('data/technews_' + str(start_epoch) + '_' + str(end_epoch) + '.csv', index=False)"
   ]
  },
  {
   "cell_type": "code",
   "execution_count": 102,
   "id": "third-artist",
   "metadata": {},
   "outputs": [
    {
     "data": {
      "text/plain": [
       "(13263, 73)"
      ]
     },
     "execution_count": 102,
     "metadata": {},
     "output_type": "execute_result"
    }
   ],
   "source": [
    "df.shape"
   ]
  },
  {
   "cell_type": "code",
   "execution_count": 103,
   "id": "silver-alert",
   "metadata": {},
   "outputs": [
    {
     "data": {
      "text/plain": [
       "Index(['all_awardings', 'allow_live_comments', 'author',\n",
       "       'author_flair_css_class', 'author_flair_richtext', 'author_flair_text',\n",
       "       'author_flair_type', 'author_fullname', 'author_patreon_flair',\n",
       "       'author_premium', 'awarders', 'can_mod_post', 'contest_mode',\n",
       "       'created_utc', 'domain', 'full_link', 'gildings', 'id',\n",
       "       'is_crosspostable', 'is_meta', 'is_original_content',\n",
       "       'is_reddit_media_domain', 'is_robot_indexable', 'is_self', 'is_video',\n",
       "       'link_flair_background_color', 'link_flair_richtext',\n",
       "       'link_flair_text_color', 'link_flair_type', 'locked', 'media_only',\n",
       "       'no_follow', 'num_comments', 'num_crossposts', 'over_18',\n",
       "       'parent_whitelist_status', 'permalink', 'pinned', 'post_hint',\n",
       "       'preview', 'pwls', 'removed_by_category', 'retrieved_on', 'score',\n",
       "       'selftext', 'send_replies', 'spoiler', 'stickied', 'subreddit',\n",
       "       'subreddit_id', 'subreddit_subscribers', 'subreddit_type', 'thumbnail',\n",
       "       'thumbnail_height', 'thumbnail_width', 'title', 'total_awards_received',\n",
       "       'treatment_tags', 'upvote_ratio', 'url', 'url_overridden_by_dest',\n",
       "       'whitelist_status', 'wls', 'created', 'crosspost_parent',\n",
       "       'crosspost_parent_list', 'author_flair_background_color',\n",
       "       'author_flair_text_color', 'media', 'media_embed', 'secure_media',\n",
       "       'secure_media_embed', 'author_cakeday'],\n",
       "      dtype='object')"
      ]
     },
     "execution_count": 103,
     "metadata": {},
     "output_type": "execute_result"
    }
   ],
   "source": [
    "df.columns"
   ]
  },
  {
   "cell_type": "code",
   "execution_count": null,
   "id": "cardiac-signal",
   "metadata": {},
   "outputs": [],
   "source": []
  },
  {
   "cell_type": "code",
   "execution_count": null,
   "id": "approximate-whole",
   "metadata": {},
   "outputs": [],
   "source": [
    "# 2011 - 473\n",
    "# 2012 - 91\n",
    "# 2013 - 85 + 96\n",
    "# 2014 - 1454 + 1630\n",
    "# 2015 - 3211 + 2245\n",
    "# 2016 - 1349 + 4064\n",
    "# 2017 - 4174 + 3974\n",
    "# 2018 - 3842 + 5741\n",
    "# 2019 - 8660 + 7685\n",
    "# 2020 - 14753 + 13263"
   ]
  },
  {
   "cell_type": "code",
   "execution_count": null,
   "id": "superb-finder",
   "metadata": {},
   "outputs": [],
   "source": []
  }
 ],
 "metadata": {
  "kernelspec": {
   "display_name": "Python 3",
   "language": "python",
   "name": "python3"
  },
  "language_info": {
   "codemirror_mode": {
    "name": "ipython",
    "version": 3
   },
   "file_extension": ".py",
   "mimetype": "text/x-python",
   "name": "python",
   "nbconvert_exporter": "python",
   "pygments_lexer": "ipython3",
   "version": "3.8.6"
  }
 },
 "nbformat": 4,
 "nbformat_minor": 5
}
