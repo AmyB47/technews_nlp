{
 "cells": [
  {
   "cell_type": "code",
   "execution_count": 1,
   "id": "executive-shooting",
   "metadata": {},
   "outputs": [
    {
     "data": {
      "text/plain": [
       "'\\ntopic modeling of r/technews posts\\n'"
      ]
     },
     "execution_count": 1,
     "metadata": {},
     "output_type": "execute_result"
    }
   ],
   "source": [
    "\"\"\"\n",
    "topic modeling of r/technews posts\n",
    "\"\"\""
   ]
  },
  {
   "cell_type": "code",
   "execution_count": 2,
   "id": "quarterly-messaging",
   "metadata": {},
   "outputs": [],
   "source": [
    "import pandas as pd\n",
    "import numpy as np\n",
    "import pickle\n",
    "import datetime\n",
    "\n",
    "from sklearn.feature_extraction.text import CountVectorizer, TfidfVectorizer\n",
    "from sklearn.decomposition import NMF, LatentDirichletAllocation"
   ]
  },
  {
   "cell_type": "code",
   "execution_count": 6,
   "id": "behavioral-assembly",
   "metadata": {},
   "outputs": [
    {
     "data": {
      "text/plain": [
       "(48082, 18)"
      ]
     },
     "execution_count": 6,
     "metadata": {},
     "output_type": "execute_result"
    }
   ],
   "source": [
    "with open('preprocessed_posts.pickle', 'rb') as read_file:\n",
    "    posts = pickle.load(read_file)\n",
    "    \n",
    "posts.shape"
   ]
  },
  {
   "cell_type": "code",
   "execution_count": 7,
   "id": "impossible-consumer",
   "metadata": {},
   "outputs": [
    {
     "data": {
      "text/html": [
       "<div>\n",
       "<style scoped>\n",
       "    .dataframe tbody tr th:only-of-type {\n",
       "        vertical-align: middle;\n",
       "    }\n",
       "\n",
       "    .dataframe tbody tr th {\n",
       "        vertical-align: top;\n",
       "    }\n",
       "\n",
       "    .dataframe thead th {\n",
       "        text-align: right;\n",
       "    }\n",
       "</style>\n",
       "<table border=\"1\" class=\"dataframe\">\n",
       "  <thead>\n",
       "    <tr style=\"text-align: right;\">\n",
       "      <th></th>\n",
       "      <th>id</th>\n",
       "      <th>created_utc</th>\n",
       "      <th>date_time</th>\n",
       "      <th>author</th>\n",
       "      <th>author_fullname</th>\n",
       "      <th>title</th>\n",
       "      <th>url</th>\n",
       "      <th>domain</th>\n",
       "      <th>num_comments</th>\n",
       "      <th>score</th>\n",
       "      <th>permalink</th>\n",
       "      <th>full_link</th>\n",
       "      <th>refine_title</th>\n",
       "      <th>preproc_title</th>\n",
       "      <th>unstemmed</th>\n",
       "      <th>stem_title</th>\n",
       "      <th>processed_title</th>\n",
       "      <th>title_nouns</th>\n",
       "    </tr>\n",
       "  </thead>\n",
       "  <tbody>\n",
       "    <tr>\n",
       "      <th>0</th>\n",
       "      <td>29j6ov</td>\n",
       "      <td>1404184792</td>\n",
       "      <td>2014-07-01 03:19:52</td>\n",
       "      <td>Password_is_123456</td>\n",
       "      <td>t2_6crtu</td>\n",
       "      <td>New leaks show off the iPhone 6's curved edged...</td>\n",
       "      <td>http://www.cnet.com/news/new-leaks-show-off-up...</td>\n",
       "      <td>cnet.com</td>\n",
       "      <td>0</td>\n",
       "      <td>0</td>\n",
       "      <td>/r/technews/comments/29j6ov/new_leaks_show_off...</td>\n",
       "      <td>https://www.reddit.com/r/technews/comments/29j...</td>\n",
       "      <td>New leaks show off the iPhone 6's curved edged...</td>\n",
       "      <td>New leaks show off the iPhone   s curved edged...</td>\n",
       "      <td>[New, leaks, show, off, the, iPhone, s, curved...</td>\n",
       "      <td>[new, leak, show, off, the, iphon, s, curv, ed...</td>\n",
       "      <td>new leak show off the iphon s curv edg display</td>\n",
       "      <td>New leaks iPhone s display</td>\n",
       "    </tr>\n",
       "    <tr>\n",
       "      <th>1</th>\n",
       "      <td>29j6op</td>\n",
       "      <td>1404184791</td>\n",
       "      <td>2014-07-01 03:19:51</td>\n",
       "      <td>Password_is_123456</td>\n",
       "      <td>t2_6crtu</td>\n",
       "      <td>Millions of dynamic DNS users suffer after Mic...</td>\n",
       "      <td>http://arstechnica.com/security/2014/06/millio...</td>\n",
       "      <td>arstechnica.com</td>\n",
       "      <td>6</td>\n",
       "      <td>63</td>\n",
       "      <td>/r/technews/comments/29j6op/millions_of_dynami...</td>\n",
       "      <td>https://www.reddit.com/r/technews/comments/29j...</td>\n",
       "      <td>Millions of dynamic DNS users suffer after Mic...</td>\n",
       "      <td>Millions of dynamic DNS users suffer after Mic...</td>\n",
       "      <td>[Millions, of, dynamic, DNS, users, suffer, af...</td>\n",
       "      <td>[million, of, dynam, dns, user, suffer, after,...</td>\n",
       "      <td>million of dynam dns user suffer after microso...</td>\n",
       "      <td>Millions DNS users Microsoft IP domains</td>\n",
       "    </tr>\n",
       "    <tr>\n",
       "      <th>2</th>\n",
       "      <td>29j2c1</td>\n",
       "      <td>1404181722</td>\n",
       "      <td>2014-07-01 02:28:42</td>\n",
       "      <td>[deleted]</td>\n",
       "      <td>NaN</td>\n",
       "      <td>Paypal Freezes ProtonMail Campaign Funds</td>\n",
       "      <td>https://protonmail.ch/blog/paypal-freezes-prot...</td>\n",
       "      <td>protonmail.ch</td>\n",
       "      <td>0</td>\n",
       "      <td>1</td>\n",
       "      <td>/r/technews/comments/29j2c1/paypal_freezes_pro...</td>\n",
       "      <td>https://www.reddit.com/r/technews/comments/29j...</td>\n",
       "      <td>Paypal Freezes ProtonMail Campaign Funds</td>\n",
       "      <td>Paypal Freezes ProtonMail Campaign Funds</td>\n",
       "      <td>[Paypal, Freezes, ProtonMail, Campaign, Funds]</td>\n",
       "      <td>[paypal, freez, protonmail, campaign, fund]</td>\n",
       "      <td>paypal freez protonmail campaign fund</td>\n",
       "      <td>Paypal Freezes ProtonMail Campaign Funds</td>\n",
       "    </tr>\n",
       "    <tr>\n",
       "      <th>3</th>\n",
       "      <td>29hy6f</td>\n",
       "      <td>1404156644</td>\n",
       "      <td>2014-06-30 19:30:44</td>\n",
       "      <td>ANIMAL_NewYork</td>\n",
       "      <td>t2_h1mjr</td>\n",
       "      <td>UNETHICAL FACEBOOK “EMOTIONAL CONTAGION” STUDY...</td>\n",
       "      <td>http://animalnewyork.com/2014/facebook-emotion...</td>\n",
       "      <td>animalnewyork.com</td>\n",
       "      <td>0</td>\n",
       "      <td>1</td>\n",
       "      <td>/r/technews/comments/29hy6f/unethical_facebook...</td>\n",
       "      <td>https://www.reddit.com/r/technews/comments/29h...</td>\n",
       "      <td>UNETHICAL FACEBOOK “EMOTIONAL CONTAGION” STUDY...</td>\n",
       "      <td>UNETHICAL FACEBOOK “EMOTIONAL CONTAGION” STUDY...</td>\n",
       "      <td>[UNETHICAL, FACEBOOK, “EMOTIONAL, CONTAGION”, ...</td>\n",
       "      <td>[uneth, facebook, “emot, contagion”, studi, no...</td>\n",
       "      <td>uneth facebook “emot contagion” studi not fund...</td>\n",
       "      <td>FACEBOOK “ EMOTIONAL CONTAGION ” STUDY NOT FUN...</td>\n",
       "    </tr>\n",
       "    <tr>\n",
       "      <th>4</th>\n",
       "      <td>29hvyr</td>\n",
       "      <td>1404155395</td>\n",
       "      <td>2014-06-30 19:09:55</td>\n",
       "      <td>Password_is_123456</td>\n",
       "      <td>t2_6crtu</td>\n",
       "      <td>Microsoft May Prioritize The Desktop In Windows 9</td>\n",
       "      <td>http://techcrunch.com/2014/06/30/microsoft-may...</td>\n",
       "      <td>techcrunch.com</td>\n",
       "      <td>23</td>\n",
       "      <td>53</td>\n",
       "      <td>/r/technews/comments/29hvyr/microsoft_may_prio...</td>\n",
       "      <td>https://www.reddit.com/r/technews/comments/29h...</td>\n",
       "      <td>Microsoft May Prioritize The Desktop In Windows 9</td>\n",
       "      <td>Microsoft May Prioritize The Desktop In Windows</td>\n",
       "      <td>[Microsoft, May, Prioritize, The, Desktop, In,...</td>\n",
       "      <td>[microsoft, may, priorit, the, desktop, in, wi...</td>\n",
       "      <td>microsoft may priorit the desktop in window</td>\n",
       "      <td>Microsoft May Desktop Windows</td>\n",
       "    </tr>\n",
       "  </tbody>\n",
       "</table>\n",
       "</div>"
      ],
      "text/plain": [
       "       id  created_utc           date_time              author  \\\n",
       "0  29j6ov   1404184792 2014-07-01 03:19:52  Password_is_123456   \n",
       "1  29j6op   1404184791 2014-07-01 03:19:51  Password_is_123456   \n",
       "2  29j2c1   1404181722 2014-07-01 02:28:42           [deleted]   \n",
       "3  29hy6f   1404156644 2014-06-30 19:30:44      ANIMAL_NewYork   \n",
       "4  29hvyr   1404155395 2014-06-30 19:09:55  Password_is_123456   \n",
       "\n",
       "  author_fullname                                              title  \\\n",
       "0        t2_6crtu  New leaks show off the iPhone 6's curved edged...   \n",
       "1        t2_6crtu  Millions of dynamic DNS users suffer after Mic...   \n",
       "2             NaN           Paypal Freezes ProtonMail Campaign Funds   \n",
       "3        t2_h1mjr  UNETHICAL FACEBOOK “EMOTIONAL CONTAGION” STUDY...   \n",
       "4        t2_6crtu  Microsoft May Prioritize The Desktop In Windows 9   \n",
       "\n",
       "                                                 url             domain  \\\n",
       "0  http://www.cnet.com/news/new-leaks-show-off-up...           cnet.com   \n",
       "1  http://arstechnica.com/security/2014/06/millio...    arstechnica.com   \n",
       "2  https://protonmail.ch/blog/paypal-freezes-prot...      protonmail.ch   \n",
       "3  http://animalnewyork.com/2014/facebook-emotion...  animalnewyork.com   \n",
       "4  http://techcrunch.com/2014/06/30/microsoft-may...     techcrunch.com   \n",
       "\n",
       "   num_comments  score                                          permalink  \\\n",
       "0             0      0  /r/technews/comments/29j6ov/new_leaks_show_off...   \n",
       "1             6     63  /r/technews/comments/29j6op/millions_of_dynami...   \n",
       "2             0      1  /r/technews/comments/29j2c1/paypal_freezes_pro...   \n",
       "3             0      1  /r/technews/comments/29hy6f/unethical_facebook...   \n",
       "4            23     53  /r/technews/comments/29hvyr/microsoft_may_prio...   \n",
       "\n",
       "                                           full_link  \\\n",
       "0  https://www.reddit.com/r/technews/comments/29j...   \n",
       "1  https://www.reddit.com/r/technews/comments/29j...   \n",
       "2  https://www.reddit.com/r/technews/comments/29j...   \n",
       "3  https://www.reddit.com/r/technews/comments/29h...   \n",
       "4  https://www.reddit.com/r/technews/comments/29h...   \n",
       "\n",
       "                                        refine_title  \\\n",
       "0  New leaks show off the iPhone 6's curved edged...   \n",
       "1  Millions of dynamic DNS users suffer after Mic...   \n",
       "2           Paypal Freezes ProtonMail Campaign Funds   \n",
       "3  UNETHICAL FACEBOOK “EMOTIONAL CONTAGION” STUDY...   \n",
       "4  Microsoft May Prioritize The Desktop In Windows 9   \n",
       "\n",
       "                                       preproc_title  \\\n",
       "0  New leaks show off the iPhone   s curved edged...   \n",
       "1  Millions of dynamic DNS users suffer after Mic...   \n",
       "2           Paypal Freezes ProtonMail Campaign Funds   \n",
       "3  UNETHICAL FACEBOOK “EMOTIONAL CONTAGION” STUDY...   \n",
       "4  Microsoft May Prioritize The Desktop In Windows     \n",
       "\n",
       "                                           unstemmed  \\\n",
       "0  [New, leaks, show, off, the, iPhone, s, curved...   \n",
       "1  [Millions, of, dynamic, DNS, users, suffer, af...   \n",
       "2     [Paypal, Freezes, ProtonMail, Campaign, Funds]   \n",
       "3  [UNETHICAL, FACEBOOK, “EMOTIONAL, CONTAGION”, ...   \n",
       "4  [Microsoft, May, Prioritize, The, Desktop, In,...   \n",
       "\n",
       "                                          stem_title  \\\n",
       "0  [new, leak, show, off, the, iphon, s, curv, ed...   \n",
       "1  [million, of, dynam, dns, user, suffer, after,...   \n",
       "2        [paypal, freez, protonmail, campaign, fund]   \n",
       "3  [uneth, facebook, “emot, contagion”, studi, no...   \n",
       "4  [microsoft, may, priorit, the, desktop, in, wi...   \n",
       "\n",
       "                                     processed_title  \\\n",
       "0     new leak show off the iphon s curv edg display   \n",
       "1  million of dynam dns user suffer after microso...   \n",
       "2              paypal freez protonmail campaign fund   \n",
       "3  uneth facebook “emot contagion” studi not fund...   \n",
       "4        microsoft may priorit the desktop in window   \n",
       "\n",
       "                                         title_nouns  \n",
       "0                         New leaks iPhone s display  \n",
       "1            Millions DNS users Microsoft IP domains  \n",
       "2           Paypal Freezes ProtonMail Campaign Funds  \n",
       "3  FACEBOOK “ EMOTIONAL CONTAGION ” STUDY NOT FUN...  \n",
       "4                      Microsoft May Desktop Windows  "
      ]
     },
     "execution_count": 7,
     "metadata": {},
     "output_type": "execute_result"
    }
   ],
   "source": [
    "posts.head()"
   ]
  },
  {
   "cell_type": "code",
   "execution_count": 13,
   "id": "absolute-shipping",
   "metadata": {},
   "outputs": [],
   "source": [
    "# add to list of stop words\n",
    "\n",
    "stopwords = nltk.corpus.stopwords.words('english')\n",
    "stopwords.extend(['new', 'news', 'tech', '&amp;', 'amp', 'million', 'billion'] )\n"
   ]
  },
  {
   "cell_type": "code",
   "execution_count": 14,
   "id": "static-walter",
   "metadata": {},
   "outputs": [],
   "source": [
    "### initial topic model"
   ]
  },
  {
   "cell_type": "code",
   "execution_count": 15,
   "id": "blank-physiology",
   "metadata": {},
   "outputs": [
    {
     "data": {
      "text/plain": [
       "(48082, 233646)"
      ]
     },
     "execution_count": 15,
     "metadata": {},
     "output_type": "execute_result"
    }
   ],
   "source": [
    "vectorizer = CountVectorizer(stop_words = stopwords, ngram_range=(1,2))\n",
    "title_words = vectorizer.fit_transform(posts.processed_title)\n",
    "title_words.shape"
   ]
  },
  {
   "cell_type": "code",
   "execution_count": 17,
   "id": "occasional-globe",
   "metadata": {},
   "outputs": [
    {
     "name": "stderr",
     "output_type": "stream",
     "text": [
      "/Users/amybutler/opt/anaconda3/envs/metis/lib/python3.8/site-packages/sklearn/decomposition/_nmf.py:312: FutureWarning: The 'init' value, when 'init=None' and n_components is less than n_samples and n_features, will be changed from 'nndsvd' to 'nndsvda' in 1.1 (renaming of 0.26).\n",
      "  warnings.warn((\"The 'init' value, when 'init=None' and \"\n"
     ]
    },
    {
     "data": {
      "text/plain": [
       "[['googl', 'search', 'pixel', 'chrome', 'googl pixel', 'play'],\n",
       " ['appl', 'watch', 'io', 'appl watch', 'macbook', 'store'],\n",
       " ['samsung', 'galaxi', 'samsung galaxi', 'note', 'galaxi note', 'leak'],\n",
       " ['pro', 'camera', 'huawei', 'xiaomi', 'smartphon', 'redmi'],\n",
       " ['app', 'mobil', 'develop', 'store', 'app develop', 'app store'],\n",
       " ['facebook', 'user', 'video', 'ad', 'messeng', 'twitter'],\n",
       " ['launch', 'india', 'price', 'spacex', 'launch india', 'watch'],\n",
       " ['microsoft', 'window', 'free', 'updat', 'pc', 'download'],\n",
       " ['servic', 'develop', 'develop servic', 'test', 'softwar', 'mobil'],\n",
       " ['phone', 'mobil', 'phone number', 'mobil phone', 'number', 'android phone'],\n",
       " ['use', 'ai', 'comput', 'use ai', 'system', 'machin'],\n",
       " ['data', 'user', 'breach', 'data breach', 'leak', 'center'],\n",
       " ['support', 'technic', 'technic support', 'number', 'help', 'window'],\n",
       " ['get', 'updat', 'free', 'help', 'get free', 'featur'],\n",
       " ['iphon', 'plus', 'appl iphon', 'iphon plus', 'featur', 'iphon iphon'],\n",
       " ['secur', 'network', 'manag', 'cyber', 'hack', 'system'],\n",
       " ['first', 'world', 'world first', 'time', 'power', 'robot'],\n",
       " ['android', 'updat', 'android app', 'devic', 'io', 'smartphon'],\n",
       " ['game', 'best', 'one', 'video', 'xbox', 'free'],\n",
       " ['drive', 'car', 'self', 'self drive', 'drive car', 'tesla'],\n",
       " ['custom', 'number', 'email', 'care', 'address', 'custom care'],\n",
       " ['amazon', 'prime', 'echo', 'devic', 'alexa', 'home'],\n",
       " ['technolog', 'make', 'could', 'ai', 'market', 'trend'],\n",
       " ['say', 'internet', 'year', 'report', 'fcc', 'net'],\n",
       " ['us', 'compani', 'china', 'huawei', 'chines', 'ban']]"
      ]
     },
     "execution_count": 17,
     "metadata": {},
     "output_type": "execute_result"
    }
   ],
   "source": [
    "nmf_model = NMF(25)  # tried 5, 7, 10, 12, 15, 20, 25, 30\n",
    "post_topic = nmf_model.fit_transform(title_words)\n",
    "\n",
    "words = vectorizer.get_feature_names()\n",
    "t = nmf_model.components_.argsort(axis=1)[:,-1:-7:-1]\n",
    "topic_words = [[words[e] for e in l] for l in t]\n",
    "topic_words"
   ]
  },
  {
   "cell_type": "code",
   "execution_count": null,
   "id": "demographic-description",
   "metadata": {},
   "outputs": [],
   "source": [
    "# with 20 NMF above, ai in two topics\n",
    "# still in ai in 2 topics with 25 topics"
   ]
  },
  {
   "cell_type": "markdown",
   "id": "legislative-territory",
   "metadata": {},
   "source": [
    "\n"
   ]
  },
  {
   "cell_type": "code",
   "execution_count": 18,
   "id": "located-paragraph",
   "metadata": {},
   "outputs": [
    {
     "name": "stderr",
     "output_type": "stream",
     "text": [
      "/Users/amybutler/opt/anaconda3/envs/metis/lib/python3.8/site-packages/sklearn/decomposition/_nmf.py:312: FutureWarning: The 'init' value, when 'init=None' and n_components is less than n_samples and n_features, will be changed from 'nndsvd' to 'nndsvda' in 1.1 (renaming of 0.26).\n",
      "  warnings.warn((\"The 'init' value, when 'init=None' and \"\n"
     ]
    },
    {
     "data": {
      "text/plain": [
       "[['google', 'pixel', 'search', 'chrome', 'google pixel', 'play'],\n",
       " ['apple', 'watch', 'apple watch', 'macbook', 'ios', 'pro'],\n",
       " ['samsung', 'galaxy', 'samsung galaxy', 'note', 'galaxy note', 'camera'],\n",
       " ['facebook', 'users', 'messenger', 'twitter', 'zuckerberg', 'instagram'],\n",
       " ['windows', 'pc', 'download', 'mac', 'support', 'windows mac'],\n",
       " ['android', 'apps', 'update', 'android app', 'phones', 'pie'],\n",
       " ['data', 'breach', 'data breach', 'users', 'center', 'data center'],\n",
       " ['number', 'support', 'customer', 'email', 'care', 'customer care'],\n",
       " ['app', 'development', 'mobile', 'store', 'services', 'app development'],\n",
       " ['china', 'us', 'huawei', 'companies', 'trump', 'trade'],\n",
       " ['security',\n",
       "  'services',\n",
       "  'network',\n",
       "  'testing',\n",
       "  'software',\n",
       "  'testing services'],\n",
       " ['iphone', 'apple iphone', 'iphone iphone', 'xs', 'se', 'iphone se'],\n",
       " ['amazon', 'prime', 'echo', 'alexa', 'tv', 'amazon echo'],\n",
       " ['microsoft',\n",
       "  'surface',\n",
       "  'xbox',\n",
       "  'microsoft surface',\n",
       "  'microsoft windows',\n",
       "  'office'],\n",
       " ['phone', 'pro', 'camera', 'huawei', 'xiaomi', 'mi'],\n",
       " ['musk', 'tesla', 'elon', 'elon musk', 'company', 'model'],\n",
       " ['ai', 'startup', 'machine', 'google ai', 'researchers', 'learning'],\n",
       " ['technology', 'market', 'trends', 'future', 'blockchain', 'software'],\n",
       " ['internet', 'fcc', 'things', 'service', 'internet things', 'neutrality'],\n",
       " ['world', 'first', 'india', 'world first', 'smartphone', 'mobile']]"
      ]
     },
     "execution_count": 18,
     "metadata": {},
     "output_type": "execute_result"
    }
   ],
   "source": [
    "## try topic modeling with title_nouns\n",
    "\n",
    "vectorizer = CountVectorizer(stop_words = stopwords, ngram_range=(1,2))\n",
    "title_words = vectorizer.fit_transform(posts.title_nouns)\n",
    "title_words.shape\n",
    "\n",
    "nmf_model = NMF(20)  # tried 5, 7, 10, 12, 15, 17, 20, 25, 27, 30\n",
    "post_topic = nmf_model.fit_transform(title_words)\n",
    "\n",
    "words = vectorizer.get_feature_names()\n",
    "t = nmf_model.components_.argsort(axis=1)[:,-1:-7:-1]\n",
    "topic_words = [[words[e] for e in l] for l in t]\n",
    "topic_words"
   ]
  },
  {
   "cell_type": "code",
   "execution_count": null,
   "id": "dominican-lotus",
   "metadata": {},
   "outputs": [],
   "source": [
    "# 20 topics got ai in a separate topic, tesla in it's own topic\n",
    "# most of these 20 can be easily labeled\n",
    "# a couple coule be combined"
   ]
  },
  {
   "cell_type": "code",
   "execution_count": 19,
   "id": "dangerous-might",
   "metadata": {},
   "outputs": [],
   "source": [
    "posts['post_topic_nmf'] = post_topic.argmax(axis=1)"
   ]
  },
  {
   "cell_type": "code",
   "execution_count": 20,
   "id": "spatial-superior",
   "metadata": {},
   "outputs": [],
   "source": [
    "# the CountVectorizer + NMF yielded pretty seaparate and easily labeled topics\n",
    "# with AI and machine learning separate\n",
    "\n",
    "with open('topics_posts.pickle', 'wb') as to_write:\n",
    "    pickle.dump(posts, to_write)"
   ]
  },
  {
   "cell_type": "code",
   "execution_count": null,
   "id": "unable-strip",
   "metadata": {},
   "outputs": [],
   "source": [
    "####################"
   ]
  },
  {
   "cell_type": "code",
   "execution_count": null,
   "id": "integral-efficiency",
   "metadata": {},
   "outputs": [],
   "source": [
    "# CountVectorizer + LDA"
   ]
  },
  {
   "cell_type": "code",
   "execution_count": 24,
   "id": "otherwise-knowing",
   "metadata": {},
   "outputs": [
    {
     "data": {
      "text/plain": [
       "(48082, 20)"
      ]
     },
     "execution_count": 24,
     "metadata": {},
     "output_type": "execute_result"
    }
   ],
   "source": [
    "vectorizer = CountVectorizer(stop_words = stopwords, ngram_range=(1,2))\n",
    "title_words = vectorizer.fit_transform(posts.processed_title)\n",
    "\n",
    "lda_model = LatentDirichletAllocation(n_components=20)\n",
    "doc_topic = lda_model.fit_transform(title_words)\n",
    "doc_topic.shape"
   ]
  },
  {
   "cell_type": "code",
   "execution_count": 25,
   "id": "fatal-quarter",
   "metadata": {},
   "outputs": [
    {
     "data": {
      "text/plain": [
       "[['camera', 'launch', 'xiaomi', 'pro', 'googl', 'price'],\n",
       " ['googl', 'appl', 'use', 'watch', 'android', 'say'],\n",
       " ['app', 'develop', 'appl', 'amazon', 'android', 'servic'],\n",
       " ['musk', 'elon', 'elon musk', 'smart', 'ai', 'facebook'],\n",
       " ['phone', 'support', 'number', 'make', 'hp', 'iphon'],\n",
       " ['window', 'download', 'technolog', 'free', 'support', 'mac'],\n",
       " ['googl', 'test', 'servic', 'data', 'facebook', 'help'],\n",
       " ['social', 'media', 'social media', 'network', 'market', 'secur'],\n",
       " ['appl', 'io', 'app', 'best', 'mobil', 'iphon'],\n",
       " ['googl', 'self', 'drive', 'self drive', 'car', 'appl'],\n",
       " ['silicon', 'secur', 'valley', 'silicon valley', 'servic', 'first'],\n",
       " ['oneplus', 'appl', 'get', 'launch', 'us', 'phone'],\n",
       " ['net', 'neutral', 'net neutral', 'googl', 'appl', 'app'],\n",
       " ['googl', 'first', 'launch', 'support', 'ai', 'facebook'],\n",
       " ['facebook', 'know', 'updat', 'fi', 'xbox', 'secur'],\n",
       " ['window', 'microsoft', 'app', 'android', 'googl', 'internet'],\n",
       " ['deal', 'number', 'iphon', 'custom', 'care', 'email'],\n",
       " ['googl', 'best', 'game', 'app', 'use', 'android'],\n",
       " ['launch', 'googl', 'smartphon', 'facebook', 'servic', 'compani'],\n",
       " ['samsung', 'galaxi', 'samsung galaxi', 'note', 'get', 'first']]"
      ]
     },
     "execution_count": 25,
     "metadata": {},
     "output_type": "execute_result"
    }
   ],
   "source": [
    "words = vectorizer.get_feature_names()\n",
    "t = lda_model.components_.argsort(axis=1)[:,-1:-7:-1]\n",
    "topic_words = [[words[e] for e in l] for l in t]\n",
    "topic_words"
   ]
  },
  {
   "cell_type": "code",
   "execution_count": null,
   "id": "alleged-jordan",
   "metadata": {},
   "outputs": [],
   "source": [
    "# google in almost every topic with title_nouns input\n",
    "# with processed_title still has some key words in multiple topics"
   ]
  },
  {
   "cell_type": "code",
   "execution_count": null,
   "id": "regulated-polls",
   "metadata": {},
   "outputs": [],
   "source": [
    "###################"
   ]
  },
  {
   "cell_type": "code",
   "execution_count": null,
   "id": "smaller-sheet",
   "metadata": {},
   "outputs": [],
   "source": [
    "### try tfidf vectorizer"
   ]
  },
  {
   "cell_type": "code",
   "execution_count": 29,
   "id": "fatty-marks",
   "metadata": {},
   "outputs": [],
   "source": [
    "# create the document-term matrix with TF-IDF vectorizer \n",
    "cv_tfidf = TfidfVectorizer(stop_words=stopwords)\n",
    "X_tfidf = cv_tfidf.fit_transform(posts.title_nouns).toarray()\n"
   ]
  },
  {
   "cell_type": "code",
   "execution_count": 27,
   "id": "printable-wallpaper",
   "metadata": {},
   "outputs": [
    {
     "name": "stderr",
     "output_type": "stream",
     "text": [
      "/Users/amybutler/opt/anaconda3/envs/metis/lib/python3.8/site-packages/sklearn/decomposition/_nmf.py:312: FutureWarning: The 'init' value, when 'init=None' and n_components is less than n_samples and n_features, will be changed from 'nndsvd' to 'nndsvda' in 1.1 (renaming of 0.26).\n",
      "  warnings.warn((\"The 'init' value, when 'init=None' and \"\n"
     ]
    },
    {
     "data": {
      "text/plain": [
       "(48082, 27)"
      ]
     },
     "execution_count": 27,
     "metadata": {},
     "output_type": "execute_result"
    }
   ],
   "source": [
    "nmf_model = NMF(27)  \n",
    "post_topic2 = nmf_model.fit_transform(X_tfidf)\n",
    "post_topic2.shape"
   ]
  },
  {
   "cell_type": "code",
   "execution_count": 28,
   "id": "unlikely-surfing",
   "metadata": {},
   "outputs": [
    {
     "data": {
      "text/plain": [
       "[['anoth front',\n",
       "  'bad processor',\n",
       "  'begin whi',\n",
       "  'ago reinvent',\n",
       "  'acquir cumulus',\n",
       "  'bag fund'],\n",
       " ['bee behaviour',\n",
       "  'announc handheld',\n",
       "  'automat tune',\n",
       "  'andromeda multiplay',\n",
       "  'beach virginia',\n",
       "  'bluewhal technolog'],\n",
       " ['account twitter',\n",
       "  'boost sector',\n",
       "  'appl last',\n",
       "  'appl level',\n",
       "  'asahi',\n",
       "  'blockchain regul'],\n",
       " ['analysi explain',\n",
       "  'asus pronounc',\n",
       "  'abstract platform',\n",
       "  'armour provid',\n",
       "  'braucht',\n",
       "  'appl cisco'],\n",
       " ['bother big',\n",
       "  'back huge',\n",
       "  'aryz',\n",
       "  'altern appl',\n",
       "  'bluewhal technolog',\n",
       "  'android notif'],\n",
       " ['accord us',\n",
       "  'accur recogn',\n",
       "  'bluewhal technolog',\n",
       "  'backwash',\n",
       "  'allow open',\n",
       "  'ad place'],\n",
       " ['appl let',\n",
       "  'begin today',\n",
       "  'accur recogn',\n",
       "  'anchor deliv',\n",
       "  'begin leverag',\n",
       "  'appl lay'],\n",
       " ['backlash facial',\n",
       "  'attack code',\n",
       "  'autonom truck',\n",
       "  'afghan femal',\n",
       "  'bad processor',\n",
       "  'begin leverag'],\n",
       " ['bola processor',\n",
       "  'branch',\n",
       "  'brain product',\n",
       "  'appl cisco',\n",
       "  'boss financ',\n",
       "  'announc live'],\n",
       " ['belat',\n",
       "  'allow manufactur',\n",
       "  'bet futur',\n",
       "  'bitcoin radic',\n",
       "  'autom python',\n",
       "  'advanc humanoid'],\n",
       " ['algorithm bill',\n",
       "  'admit intent',\n",
       "  'arriv pre',\n",
       "  'acquir nvidia',\n",
       "  'africa day',\n",
       "  'ai revolut'],\n",
       " ['account show',\n",
       "  'biden fcc',\n",
       "  'attack code',\n",
       "  'allow manufactur',\n",
       "  'blog fashion',\n",
       "  'asus newest'],\n",
       " ['accid rais',\n",
       "  'access lte',\n",
       "  'amazon door',\n",
       "  'bandersnatch',\n",
       "  'app chat',\n",
       "  'bel'],\n",
       " ['banggood custom',\n",
       "  'app head',\n",
       "  'asset push',\n",
       "  'asahi',\n",
       "  'beach virginia',\n",
       "  'advertis servic'],\n",
       " ['atm public',\n",
       "  'biggest hurdl',\n",
       "  'bpap machin',\n",
       "  'avail next',\n",
       "  'ai better',\n",
       "  'amazon fine'],\n",
       " ['behavior psychologist',\n",
       "  'author internet',\n",
       "  'attack patch',\n",
       "  'ask ipo',\n",
       "  'alert avoid',\n",
       "  'bitcoin radic'],\n",
       " ['appl financ',\n",
       "  'bittorr sell',\n",
       "  'anamorph video',\n",
       "  'author say',\n",
       "  'better iofit',\n",
       "  'bel'],\n",
       " ['aggreg',\n",
       "  'bmw list',\n",
       "  'ai revolut',\n",
       "  'block visa',\n",
       "  'blind see',\n",
       "  'blackberri classic'],\n",
       " ['birchenallhowden calendar',\n",
       "  'announc develop',\n",
       "  'add recod',\n",
       "  'block goe',\n",
       "  'arecibo',\n",
       "  'basic structur'],\n",
       " ['bowl smart',\n",
       "  'attack code',\n",
       "  'android master',\n",
       "  'ai upcom',\n",
       "  'aim enhanc',\n",
       "  'ai robot'],\n",
       " ['accept',\n",
       "  'arkit app',\n",
       "  'bhim',\n",
       "  'asat test',\n",
       "  'appl doe',\n",
       "  'battlefield clinic'],\n",
       " ['bni jam',\n",
       "  'blockchain trade',\n",
       "  'boss financ',\n",
       "  'ago reinvent',\n",
       "  'appl last',\n",
       "  'atsc releas'],\n",
       " ['bitcoin move',\n",
       "  'audienc explor',\n",
       "  'amazon rout',\n",
       "  'adwar pcs',\n",
       "  'attack epileptogen',\n",
       "  'aerospac execut'],\n",
       " ['biggest economi',\n",
       "  'autonom truck',\n",
       "  'alcoa',\n",
       "  'amazon share',\n",
       "  'aef media',\n",
       "  'abras'],\n",
       " ['best podcast',\n",
       "  'advertis servic',\n",
       "  'assault alleg',\n",
       "  'actual facebook',\n",
       "  'alphabet board',\n",
       "  'armi strong'],\n",
       " ['bore confer',\n",
       "  'backlash matur',\n",
       "  'announc live',\n",
       "  'bpap machin',\n",
       "  'borrow crypto',\n",
       "  'beach virginia'],\n",
       " ['appeal get',\n",
       "  'braava',\n",
       "  'athlet',\n",
       "  'band unlicens',\n",
       "  'batman inspir',\n",
       "  'argent']]"
      ]
     },
     "execution_count": 28,
     "metadata": {},
     "output_type": "execute_result"
    }
   ],
   "source": [
    "words2 = vectorizer.get_feature_names()\n",
    "t2 = nmf_model.components_.argsort(axis=1)[:,-1:-7:-1]\n",
    "topic_words = [[words[e] for e in l] for l in t2]\n",
    "topic_words"
   ]
  },
  {
   "cell_type": "code",
   "execution_count": null,
   "id": "threaded-medicine",
   "metadata": {},
   "outputs": [],
   "source": []
  },
  {
   "cell_type": "code",
   "execution_count": null,
   "id": "returning-landing",
   "metadata": {},
   "outputs": [],
   "source": []
  }
 ],
 "metadata": {
  "kernelspec": {
   "display_name": "Python [conda env:metis] *",
   "language": "python",
   "name": "conda-env-metis-py"
  },
  "language_info": {
   "codemirror_mode": {
    "name": "ipython",
    "version": 3
   },
   "file_extension": ".py",
   "mimetype": "text/x-python",
   "name": "python",
   "nbconvert_exporter": "python",
   "pygments_lexer": "ipython3",
   "version": "3.8.6"
  }
 },
 "nbformat": 4,
 "nbformat_minor": 5
}
