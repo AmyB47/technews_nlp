{
 "cells": [
  {
   "cell_type": "code",
   "execution_count": null,
   "id": "wound-adapter",
   "metadata": {},
   "outputs": [],
   "source": [
    "\"\"\"\n",
    "Set up pull of r/technews comments \n",
    "for 2011 - 2020 \n",
    "\"\"\""
   ]
  },
  {
   "cell_type": "code",
   "execution_count": 17,
   "id": "boolean-organizer",
   "metadata": {},
   "outputs": [],
   "source": [
    "from psaw import PushshiftAPI\n",
    "import pandas as pd\n",
    "import datetime as dt"
   ]
  },
  {
   "cell_type": "code",
   "execution_count": 18,
   "id": "center-canvas",
   "metadata": {},
   "outputs": [],
   "source": [
    "api=PushshiftAPI()"
   ]
  },
  {
   "cell_type": "code",
   "execution_count": 5,
   "id": "excellent-australia",
   "metadata": {},
   "outputs": [],
   "source": [
    "# try to pull 6 months at a time\n",
    "# keep all fields\n",
    "# there are less fields in the older years\n",
    "\n",
    "# with all the fields, will be able to filter out removed posts and many of the ads\n",
    "# many posts removed by moderator or reddit in the more recent years\n"
   ]
  },
  {
   "cell_type": "code",
   "execution_count": 86,
   "id": "hawaiian-mortality",
   "metadata": {},
   "outputs": [],
   "source": [
    "start_epoch=int(dt.datetime(2020, 10, 1).timestamp())\n",
    "end_epoch=int(dt.datetime(2021, 1, 1).timestamp())\n"
   ]
  },
  {
   "cell_type": "code",
   "execution_count": 87,
   "id": "applicable-worship",
   "metadata": {},
   "outputs": [],
   "source": [
    "gen = api.search_comments(after=start_epoch, before=end_epoch,\n",
    "                            subreddit='technews',\n",
    "                            limit=None)\n",
    "\n",
    "df = pd.DataFrame([thing.d_ for thing in gen])\n",
    "\n",
    "df.to_csv('data/COMMENTS_technews_' + str(start_epoch) + '_' + str(end_epoch) + '.csv', index=False)"
   ]
  },
  {
   "cell_type": "code",
   "execution_count": 88,
   "id": "third-artist",
   "metadata": {},
   "outputs": [
    {
     "data": {
      "text/plain": [
       "(55121, 39)"
      ]
     },
     "execution_count": 88,
     "metadata": {},
     "output_type": "execute_result"
    }
   ],
   "source": [
    "df.shape"
   ]
  },
  {
   "cell_type": "code",
   "execution_count": 89,
   "id": "silver-alert",
   "metadata": {},
   "outputs": [
    {
     "data": {
      "text/plain": [
       "Index(['all_awardings', 'associated_award', 'author',\n",
       "       'author_flair_background_color', 'author_flair_css_class',\n",
       "       'author_flair_richtext', 'author_flair_template_id',\n",
       "       'author_flair_text', 'author_flair_text_color', 'author_flair_type',\n",
       "       'author_fullname', 'author_patreon_flair', 'author_premium', 'awarders',\n",
       "       'body', 'collapsed_because_crowd_control', 'comment_type',\n",
       "       'created_utc', 'gildings', 'id', 'is_submitter', 'link_id', 'locked',\n",
       "       'no_follow', 'parent_id', 'permalink', 'retrieved_on', 'score',\n",
       "       'send_replies', 'stickied', 'subreddit', 'subreddit_id',\n",
       "       'top_awarded_type', 'total_awards_received', 'treatment_tags',\n",
       "       'created', 'author_cakeday', 'distinguished', 'edited'],\n",
       "      dtype='object')"
      ]
     },
     "execution_count": 89,
     "metadata": {},
     "output_type": "execute_result"
    }
   ],
   "source": [
    "df.columns"
   ]
  },
  {
   "cell_type": "code",
   "execution_count": 34,
   "id": "approximate-whole",
   "metadata": {},
   "outputs": [],
   "source": [
    "# COMMENTS PER YEAR\n",
    "\n",
    "# 2011 - 123\n",
    "# 2012 - 45\n",
    "# 2013 - 37\n",
    "# 2014 - 6553\n",
    "# 2015 - 4007 + 2445\n",
    "# 2016 - 1493 + 1633\n",
    "# 2017 - 2057 + 2156\n",
    "# 2018 - 5030 + 24468\n",
    "# 2019 - 32309 + 44847\n",
    "# 2020 - 29417 + 44284 + 43003 + 55121"
   ]
  },
  {
   "cell_type": "code",
   "execution_count": null,
   "id": "announced-prison",
   "metadata": {},
   "outputs": [],
   "source": [
    "\"\"\"\n",
    "For each comment, the parent can be either a submission or another comment. \n",
    "\n",
    "the t# prefixes refer to the type of thing in the reddit data structure. \n",
    "\n",
    "type prefixes\n",
    "t1_\tComment\n",
    "t2_\tAccount\n",
    "t3_\tLink\n",
    "t4_\tMessage\n",
    "t5_\tSubreddit\n",
    "t6_\tAward\n",
    "\n",
    "\n",
    "\"\"\""
   ]
  },
  {
   "cell_type": "code",
   "execution_count": 16,
   "id": "meaning-april",
   "metadata": {},
   "outputs": [
    {
     "data": {
      "text/html": [
       "<div>\n",
       "<style scoped>\n",
       "    .dataframe tbody tr th:only-of-type {\n",
       "        vertical-align: middle;\n",
       "    }\n",
       "\n",
       "    .dataframe tbody tr th {\n",
       "        vertical-align: top;\n",
       "    }\n",
       "\n",
       "    .dataframe thead th {\n",
       "        text-align: right;\n",
       "    }\n",
       "</style>\n",
       "<table border=\"1\" class=\"dataframe\">\n",
       "  <thead>\n",
       "    <tr style=\"text-align: right;\">\n",
       "      <th></th>\n",
       "      <th>id</th>\n",
       "      <th>link_id</th>\n",
       "      <th>parent_id</th>\n",
       "    </tr>\n",
       "  </thead>\n",
       "  <tbody>\n",
       "    <tr>\n",
       "      <th>0</th>\n",
       "      <td>c1exkuo</td>\n",
       "      <td>t3_fcfzj</td>\n",
       "      <td>t3_fcfzj</td>\n",
       "    </tr>\n",
       "    <tr>\n",
       "      <th>1</th>\n",
       "      <td>c1enrn6</td>\n",
       "      <td>t3_fbamp</td>\n",
       "      <td>t3_fbamp</td>\n",
       "    </tr>\n",
       "    <tr>\n",
       "      <th>2</th>\n",
       "      <td>c1elcyq</td>\n",
       "      <td>t3_fanux</td>\n",
       "      <td>t3_fanux</td>\n",
       "    </tr>\n",
       "    <tr>\n",
       "      <th>3</th>\n",
       "      <td>c1ek1da</td>\n",
       "      <td>t3_fanux</td>\n",
       "      <td>t3_fanux</td>\n",
       "    </tr>\n",
       "    <tr>\n",
       "      <th>4</th>\n",
       "      <td>c1e8zrv</td>\n",
       "      <td>t3_f99jd</td>\n",
       "      <td>t3_f99jd</td>\n",
       "    </tr>\n",
       "  </tbody>\n",
       "</table>\n",
       "</div>"
      ],
      "text/plain": [
       "        id   link_id parent_id\n",
       "0  c1exkuo  t3_fcfzj  t3_fcfzj\n",
       "1  c1enrn6  t3_fbamp  t3_fbamp\n",
       "2  c1elcyq  t3_fanux  t3_fanux\n",
       "3  c1ek1da  t3_fanux  t3_fanux\n",
       "4  c1e8zrv  t3_f99jd  t3_f99jd"
      ]
     },
     "execution_count": 16,
     "metadata": {},
     "output_type": "execute_result"
    }
   ],
   "source": [
    "df[['id', 'link_id', 'parent_id']].head()"
   ]
  },
  {
   "cell_type": "code",
   "execution_count": null,
   "id": "collective-atlantic",
   "metadata": {},
   "outputs": [],
   "source": [
    "# id is the comment id\n",
    "# match link_id to submission/post id\n",
    "# use parent_id for network analysis, as will capture one commenter responding to another commenter "
   ]
  },
  {
   "cell_type": "code",
   "execution_count": null,
   "id": "cutting-nevada",
   "metadata": {},
   "outputs": [],
   "source": [
    "#where user_removed=True - the user deleted the comment"
   ]
  }
 ],
 "metadata": {
  "kernelspec": {
   "display_name": "Python 3",
   "language": "python",
   "name": "python3"
  },
  "language_info": {
   "codemirror_mode": {
    "name": "ipython",
    "version": 3
   },
   "file_extension": ".py",
   "mimetype": "text/x-python",
   "name": "python",
   "nbconvert_exporter": "python",
   "pygments_lexer": "ipython3",
   "version": "3.8.2"
  }
 },
 "nbformat": 4,
 "nbformat_minor": 5
}
