{
 "cells": [
  {
   "cell_type": "code",
   "execution_count": null,
   "id": "hungry-mentor",
   "metadata": {},
   "outputs": [],
   "source": [
    "\"\"\"\n",
    "more data cleaning of r/technews post titles\n",
    "\n",
    "remove ads \n",
    "\n",
    "remove domains from end of post titles\n",
    "\n",
    "refine entity names to be consistant across post titles\n",
    "\"\"\""
   ]
  },
  {
   "cell_type": "code",
   "execution_count": 1,
   "id": "streaming-footage",
   "metadata": {},
   "outputs": [],
   "source": [
    "import pickle\n",
    "import pandas as pd\n",
    "import numpy as np"
   ]
  },
  {
   "cell_type": "code",
   "execution_count": 2,
   "id": "surprised-warrior",
   "metadata": {},
   "outputs": [
    {
     "data": {
      "text/plain": [
       "(52704, 12)"
      ]
     },
     "execution_count": 2,
     "metadata": {},
     "output_type": "execute_result"
    }
   ],
   "source": [
    "with open('technews_posts.pickle', 'rb') as read_file:\n",
    "    posts = pickle.load(read_file)\n",
    "    \n",
    "posts.shape"
   ]
  },
  {
   "cell_type": "code",
   "execution_count": 3,
   "id": "daily-premises",
   "metadata": {},
   "outputs": [
    {
     "data": {
      "text/plain": [
       "Index(['id', 'created_utc', 'date_time', 'author', 'author_fullname', 'title',\n",
       "       'url', 'domain', 'num_comments', 'score', 'permalink', 'full_link'],\n",
       "      dtype='object')"
      ]
     },
     "execution_count": 3,
     "metadata": {},
     "output_type": "execute_result"
    }
   ],
   "source": [
    "posts.columns"
   ]
  },
  {
   "cell_type": "code",
   "execution_count": 4,
   "id": "turkish-celtic",
   "metadata": {},
   "outputs": [],
   "source": [
    "# after review of posts \n",
    "# saw couple thousand of printer help ads need removed\n",
    "# list of authors who posted these ads\n",
    "\n",
    "ad_authors =['rakeshrcs', 'isabellajac', 'martinhenry821', 'mikeholder609', \n",
    "             'rachelzoe58', 'rakeshrcs', 'heskettsheila769', 'mariyajhones902', \n",
    "             'jasonroy9540', 'jhonbrother93', 'jeniferberoy', 'clakejhon789', \n",
    "             'Jordnbob', 'epsonsupport', 'davidjhonson584', 'clarkstward1919', \n",
    "             'canonprintersupport9', 'barendamorre', 'anthony_scoble', 'alberthuddles', \n",
    "             'joeclake35', 'joejim748', 'lindaamartin253', 'lxiswift82', 'mariyajhones902',\n",
    "             'martinhenry821', 'miguelabad', 'mikeholder609', 'MilenaEllen', \n",
    "             'printerstelecomm', 'qbnumber', 'rachelzoe58', 'renitaa1', 'robertamy284', \n",
    "             'shyrasimon26', 'Smithmkt', 'taniacasas', 'johnbradny', 'johnsmith44210',\n",
    "             'jordnbob', 'jp_todaro', 'js637209', 'juliemiler151', 'Junaid0005', \n",
    "             'justmestunner', 'katrinaa2', 'kawtarkist', 'kinfoprinters', 'Carindermalhi',\n",
    "             'kloudconnectors','KQNk62', 'ksourav', 'Kvsc', 'latonya1', 'up525']\n"
   ]
  },
  {
   "cell_type": "code",
   "execution_count": 5,
   "id": "naval-perspective",
   "metadata": {},
   "outputs": [
    {
     "data": {
      "text/plain": [
       "2861"
      ]
     },
     "execution_count": 5,
     "metadata": {},
     "output_type": "execute_result"
    }
   ],
   "source": [
    "len(posts[posts['author'].isin(ad_authors)])"
   ]
  },
  {
   "cell_type": "code",
   "execution_count": 6,
   "id": "developmental-channels",
   "metadata": {},
   "outputs": [
    {
     "data": {
      "text/plain": [
       "(49843, 12)"
      ]
     },
     "execution_count": 6,
     "metadata": {},
     "output_type": "execute_result"
    }
   ],
   "source": [
    "f1_posts = posts[~posts['author'].isin(ad_authors)]\n",
    "\n",
    "f1_posts.shape"
   ]
  },
  {
   "cell_type": "code",
   "execution_count": 7,
   "id": "affecting-glucose",
   "metadata": {},
   "outputs": [
    {
     "data": {
      "text/plain": [
       "(49822, 12)"
      ]
     },
     "execution_count": 7,
     "metadata": {},
     "output_type": "execute_result"
    }
   ],
   "source": [
    "# more printer ads to remove by domain\n",
    "# domain self.technews is posts from subreddit moderators to channel members\n",
    "\n",
    "ad_domain = ['hp-support-us.blogspot.com', '123printersupport.com',  '123hp.us', 'self.technews']\n",
    "\n",
    "len(f1_posts[f1_posts['domain'].isin(ad_domain)])\n",
    "\n",
    "f2_posts = f1_posts[~f1_posts['domain'].isin(ad_domain)]\n",
    "\n",
    "f2_posts.shape"
   ]
  },
  {
   "cell_type": "code",
   "execution_count": 8,
   "id": "mysterious-gregory",
   "metadata": {},
   "outputs": [
    {
     "data": {
      "text/plain": [
       "1740"
      ]
     },
     "execution_count": 8,
     "metadata": {},
     "output_type": "execute_result"
    }
   ],
   "source": [
    "# over a thousand posts with this non-content \n",
    "\n",
    "len(f2_posts[f2_posts['title'] == 'Pinned to News and Press on Pinterest'])\n"
   ]
  },
  {
   "cell_type": "code",
   "execution_count": 9,
   "id": "blond-christian",
   "metadata": {},
   "outputs": [
    {
     "data": {
      "text/plain": [
       "(48082, 12)"
      ]
     },
     "execution_count": 9,
     "metadata": {},
     "output_type": "execute_result"
    }
   ],
   "source": [
    "# remove \n",
    "f3_posts = f2_posts[f2_posts['title'] != 'Pinned to News and Press on Pinterest']\n",
    "f3_posts.shape"
   ]
  },
  {
   "cell_type": "code",
   "execution_count": null,
   "id": "athletic-acceptance",
   "metadata": {},
   "outputs": [],
   "source": [
    "###################"
   ]
  },
  {
   "cell_type": "code",
   "execution_count": null,
   "id": "revolutionary-thesaurus",
   "metadata": {},
   "outputs": [],
   "source": [
    "# many posts end with the domain of the news article, remove domains from end of post title"
   ]
  },
  {
   "cell_type": "code",
   "execution_count": 10,
   "id": "personal-princess",
   "metadata": {},
   "outputs": [
    {
     "data": {
      "text/plain": [
       "52"
      ]
     },
     "execution_count": 10,
     "metadata": {},
     "output_type": "execute_result"
    }
   ],
   "source": [
    "len(f3_posts[f3_posts['title'].str[-10:] =='TechFeasta'])"
   ]
  },
  {
   "cell_type": "code",
   "execution_count": 11,
   "id": "rural-california",
   "metadata": {},
   "outputs": [
    {
     "name": "stderr",
     "output_type": "stream",
     "text": [
      "/Users/amybutler/opt/anaconda3/envs/metis/lib/python3.8/site-packages/pandas/core/indexing.py:1597: SettingWithCopyWarning: \n",
      "A value is trying to be set on a copy of a slice from a DataFrame.\n",
      "Try using .loc[row_indexer,col_indexer] = value instead\n",
      "\n",
      "See the caveats in the documentation: https://pandas.pydata.org/pandas-docs/stable/user_guide/indexing.html#returning-a-view-versus-a-copy\n",
      "  self.obj[key] = value\n",
      "/Users/amybutler/opt/anaconda3/envs/metis/lib/python3.8/site-packages/pandas/core/indexing.py:1676: SettingWithCopyWarning: \n",
      "A value is trying to be set on a copy of a slice from a DataFrame.\n",
      "Try using .loc[row_indexer,col_indexer] = value instead\n",
      "\n",
      "See the caveats in the documentation: https://pandas.pydata.org/pandas-docs/stable/user_guide/indexing.html#returning-a-view-versus-a-copy\n",
      "  self._setitem_single_column(ilocs[0], value, pi)\n"
     ]
    },
    {
     "data": {
      "text/plain": [
       "(48082, 13)"
      ]
     },
     "execution_count": 11,
     "metadata": {},
     "output_type": "execute_result"
    }
   ],
   "source": [
    "f3_posts.loc[:, 'refine_title'] = np.where(f3_posts.loc[:,'title'].str[-11:] ==' TechFeasta', \n",
    "         f3_posts['title'].str[:-11], \n",
    "         f3_posts['title'])\n",
    "\n",
    "f3_posts.shape"
   ]
  },
  {
   "cell_type": "code",
   "execution_count": 12,
   "id": "median-spider",
   "metadata": {},
   "outputs": [
    {
     "data": {
      "text/plain": [
       "30"
      ]
     },
     "execution_count": 12,
     "metadata": {},
     "output_type": "execute_result"
    }
   ],
   "source": [
    "len(f3_posts[f3_posts['title'].str[-6:] ==' WIRED'])"
   ]
  },
  {
   "cell_type": "code",
   "execution_count": 13,
   "id": "physical-dallas",
   "metadata": {},
   "outputs": [
    {
     "data": {
      "text/plain": [
       "(48082, 13)"
      ]
     },
     "execution_count": 13,
     "metadata": {},
     "output_type": "execute_result"
    }
   ],
   "source": [
    "f3_posts.loc[:,'refine_title'] = np.where(f3_posts.loc[:,'title'].str[-6:] ==' WIRED', \n",
    "         f3_posts['title'].str[:-6], \n",
    "         f3_posts['refine_title'])\n",
    "\n",
    "f3_posts.shape"
   ]
  },
  {
   "cell_type": "code",
   "execution_count": 14,
   "id": "frank-procurement",
   "metadata": {},
   "outputs": [
    {
     "data": {
      "text/plain": [
       "6"
      ]
     },
     "execution_count": 14,
     "metadata": {},
     "output_type": "execute_result"
    }
   ],
   "source": [
    "len(f3_posts[f3_posts['title'].str[-16:] ==' Technology News'])"
   ]
  },
  {
   "cell_type": "code",
   "execution_count": 15,
   "id": "other-rouge",
   "metadata": {},
   "outputs": [],
   "source": [
    "f3_posts.loc[:,'refine_title'] = np.where(f3_posts.loc[:,'title'].str[-16:] ==' Technology News', \n",
    "         f3_posts['title'].str[:-16], \n",
    "         f3_posts['refine_title'])"
   ]
  },
  {
   "cell_type": "code",
   "execution_count": 16,
   "id": "unlikely-trinity",
   "metadata": {},
   "outputs": [
    {
     "data": {
      "text/plain": [
       "15"
      ]
     },
     "execution_count": 16,
     "metadata": {},
     "output_type": "execute_result"
    }
   ],
   "source": [
    "len(f3_posts[f3_posts['title'].str[-8:] ==' insopra'])"
   ]
  },
  {
   "cell_type": "code",
   "execution_count": 17,
   "id": "portuguese-termination",
   "metadata": {},
   "outputs": [],
   "source": [
    "f3_posts.loc[:,'refine_title'] = np.where(f3_posts.loc[:,'title'].str[-8:] ==' insopra', \n",
    "         f3_posts['title'].str[:-8], \n",
    "         f3_posts['refine_title'])"
   ]
  },
  {
   "cell_type": "code",
   "execution_count": 27,
   "id": "smaller-chapel",
   "metadata": {},
   "outputs": [
    {
     "data": {
      "text/plain": [
       "1310"
      ]
     },
     "execution_count": 27,
     "metadata": {},
     "output_type": "execute_result"
    }
   ],
   "source": [
    "len(f3_posts[f3_posts['title'].str[-15:] =='DigiTech Engine'])"
   ]
  },
  {
   "cell_type": "code",
   "execution_count": 18,
   "id": "velvet-moral",
   "metadata": {},
   "outputs": [],
   "source": [
    "f3_posts.loc[:,'refine_title'] = np.where(f3_posts.loc[:,'title'].str[-15:] =='DigiTech Engine', \n",
    "         f3_posts['title'].str[:-15], \n",
    "         f3_posts['refine_title'])"
   ]
  },
  {
   "cell_type": "code",
   "execution_count": 21,
   "id": "expired-error",
   "metadata": {},
   "outputs": [
    {
     "data": {
      "text/plain": [
       "8"
      ]
     },
     "execution_count": 21,
     "metadata": {},
     "output_type": "execute_result"
    }
   ],
   "source": [
    "len(f3_posts[f3_posts['title'].str[-24:] ==\" Science &amp; Tech News\"])"
   ]
  },
  {
   "cell_type": "code",
   "execution_count": 22,
   "id": "improved-emerald",
   "metadata": {},
   "outputs": [],
   "source": [
    "f3_posts.loc[:,'refine_title'] = np.where(f3_posts.loc[:,'title'].str[-24:] ==\" Science &amp; Tech News\", \n",
    "         f3_posts['title'].str[:-24], \n",
    "         f3_posts['refine_title'])"
   ]
  },
  {
   "cell_type": "code",
   "execution_count": null,
   "id": "average-snake",
   "metadata": {},
   "outputs": [],
   "source": [
    "##############\n",
    "# refine company/entity names where inconsistant"
   ]
  },
  {
   "cell_type": "code",
   "execution_count": 27,
   "id": "greenhouse-premiere",
   "metadata": {},
   "outputs": [
    {
     "name": "stderr",
     "output_type": "stream",
     "text": [
      "/Users/amybutler/opt/anaconda3/envs/metis/lib/python3.8/site-packages/pandas/core/indexing.py:1676: SettingWithCopyWarning: \n",
      "A value is trying to be set on a copy of a slice from a DataFrame.\n",
      "Try using .loc[row_indexer,col_indexer] = value instead\n",
      "\n",
      "See the caveats in the documentation: https://pandas.pydata.org/pandas-docs/stable/user_guide/indexing.html#returning-a-view-versus-a-copy\n",
      "  self._setitem_single_column(ilocs[0], value, pi)\n",
      "<ipython-input-27-883a047d1563>:2: FutureWarning: The default value of regex will change from True to False in a future version.\n",
      "  f3_posts.loc[:,'refine_title'] = f3_posts.loc[:,'refine_title'].str.replace(\"N.S.A.\", 'NSA')\n"
     ]
    }
   ],
   "source": [
    "f3_posts.loc[:,'refine_title'] = f3_posts.loc[:,'refine_title'].str.replace(\"AT&amp;T\", 'ATT')\n",
    "f3_posts.loc[:,'refine_title'] = f3_posts.loc[:,'refine_title'].str.replace(\"N.S.A.\", 'NSA')\n",
    "f3_posts.loc[:,'refine_title'] = f3_posts.loc[:,'refine_title'].str.replace('Tik Tok', 'TikTok')"
   ]
  },
  {
   "cell_type": "code",
   "execution_count": 31,
   "id": "checked-magnitude",
   "metadata": {},
   "outputs": [],
   "source": [
    "# review output\n",
    "#3_posts.to_excel('f3_posts_review.xlsx', index=False)"
   ]
  },
  {
   "cell_type": "code",
   "execution_count": 28,
   "id": "plain-canal",
   "metadata": {},
   "outputs": [
    {
     "data": {
      "text/plain": [
       "Index(['id', 'created_utc', 'date_time', 'author', 'author_fullname', 'title',\n",
       "       'url', 'domain', 'num_comments', 'score', 'permalink', 'full_link',\n",
       "       'refine_title'],\n",
       "      dtype='object')"
      ]
     },
     "execution_count": 28,
     "metadata": {},
     "output_type": "execute_result"
    }
   ],
   "source": [
    "f3_posts.columns"
   ]
  },
  {
   "cell_type": "code",
   "execution_count": 29,
   "id": "retained-toyota",
   "metadata": {},
   "outputs": [],
   "source": [
    "with open('filtered_technews_posts.pickle', 'wb') as to_write:\n",
    "    pickle.dump(f3_posts, to_write)"
   ]
  },
  {
   "cell_type": "code",
   "execution_count": null,
   "id": "juvenile-genesis",
   "metadata": {},
   "outputs": [],
   "source": []
  },
  {
   "cell_type": "code",
   "execution_count": null,
   "id": "suffering-white",
   "metadata": {},
   "outputs": [],
   "source": []
  },
  {
   "cell_type": "code",
   "execution_count": null,
   "id": "identified-highlight",
   "metadata": {},
   "outputs": [],
   "source": []
  }
 ],
 "metadata": {
  "kernelspec": {
   "display_name": "Python [conda env:metis] *",
   "language": "python",
   "name": "conda-env-metis-py"
  },
  "language_info": {
   "codemirror_mode": {
    "name": "ipython",
    "version": 3
   },
   "file_extension": ".py",
   "mimetype": "text/x-python",
   "name": "python",
   "nbconvert_exporter": "python",
   "pygments_lexer": "ipython3",
   "version": "3.8.6"
  }
 },
 "nbformat": 4,
 "nbformat_minor": 5
}
