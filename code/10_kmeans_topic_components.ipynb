{
 "cells": [
  {
   "cell_type": "code",
   "execution_count": 1,
   "id": "continuous-pilot",
   "metadata": {},
   "outputs": [
    {
     "data": {
      "text/plain": [
       "' k-means of NMF topic components'"
      ]
     },
     "execution_count": 1,
     "metadata": {},
     "output_type": "execute_result"
    }
   ],
   "source": [
    "\"\"\" k-means of NMF topic components\"\"\""
   ]
  },
  {
   "cell_type": "code",
   "execution_count": 1,
   "id": "excited-wellington",
   "metadata": {},
   "outputs": [],
   "source": [
    "import pickle\n",
    "import pandas as pd\n",
    "import numpy as np\n"
   ]
  },
  {
   "cell_type": "code",
   "execution_count": 2,
   "id": "heard-commander",
   "metadata": {},
   "outputs": [
    {
     "name": "stdout",
     "output_type": "stream",
     "text": [
      "Populating the interactive namespace from numpy and matplotlib\n"
     ]
    }
   ],
   "source": [
    "%pylab inline\n",
    "\n",
    "# sets backend to render higher res images\n",
    "%config InlineBackend.figure_formats = ['retina']"
   ]
  },
  {
   "cell_type": "code",
   "execution_count": 3,
   "id": "latin-reason",
   "metadata": {},
   "outputs": [],
   "source": [
    "from sklearn.cluster import KMeans\n",
    "import seaborn as sns"
   ]
  },
  {
   "cell_type": "code",
   "execution_count": 4,
   "id": "wrong-worth",
   "metadata": {},
   "outputs": [
    {
     "data": {
      "text/plain": [
       "(48082, 41)"
      ]
     },
     "execution_count": 4,
     "metadata": {},
     "output_type": "execute_result"
    }
   ],
   "source": [
    "with open('cv_nmf_topics_posts2.pickle', 'rb') as read_file:\n",
    "    posts = pickle.load(read_file)\n",
    "    \n",
    "posts.shape"
   ]
  },
  {
   "cell_type": "code",
   "execution_count": 5,
   "id": "maritime-coordinator",
   "metadata": {},
   "outputs": [
    {
     "data": {
      "text/plain": [
       "Index(['index', 'id', 'created_utc', 'date_time', 'author', 'author_fullname',\n",
       "       'title', 'url', 'domain', 'num_comments', 'score', 'permalink',\n",
       "       'full_link', 'refine_title', 'preproc_title', 'unstemmed', 'stem_title',\n",
       "       'processed_title', 'title_nouns', 'post_topic_nmf', 'title_nouns',\n",
       "       'C_0', 'C_1', 'C_2', 'C_3', 'C_4', 'C_5', 'C_6', 'C_7', 'C_8', 'C_9',\n",
       "       'C_10', 'C_11', 'C_12', 'C_13', 'C_14', 'C_15', 'C_16', 'C_17', 'C_18',\n",
       "       'C_19'],\n",
       "      dtype='object')"
      ]
     },
     "execution_count": 5,
     "metadata": {},
     "output_type": "execute_result"
    }
   ],
   "source": [
    "posts.columns"
   ]
  },
  {
   "cell_type": "code",
   "execution_count": 6,
   "id": "extreme-customs",
   "metadata": {},
   "outputs": [],
   "source": [
    "X = np.array(posts[['C_0', 'C_1', 'C_2', 'C_3', 'C_4', 'C_5', 'C_6', 'C_7', 'C_8', 'C_9',\n",
    "       'C_10', 'C_11', 'C_12', 'C_13', 'C_14', 'C_15', 'C_16', 'C_17', 'C_18', 'C_19']])"
   ]
  },
  {
   "cell_type": "code",
   "execution_count": 7,
   "id": "individual-manitoba",
   "metadata": {},
   "outputs": [],
   "source": [
    "# helper function that allows us to display data in 2 dimensions an highlights the clusters\n",
    "def display_cluster(X,km=[],num_clusters=0):\n",
    "    color = 'brgcmyk'\n",
    "    alpha = 0.5\n",
    "    s = 20\n",
    "    if num_clusters == 0:\n",
    "        plt.scatter(X[:,0],X[:,1],c = color[0],alpha = alpha,s = s)\n",
    "    else:\n",
    "        for i in range(num_clusters):\n",
    "            plt.scatter(X[km.labels_==i,0],X[km.labels_==i,1],c = color[i],alpha = alpha,s=s)\n",
    "            plt.scatter(km.cluster_centers_[i][0],km.cluster_centers_[i][1],c = color[i], marker = 'x', s = 100)"
   ]
  },
  {
   "cell_type": "code",
   "execution_count": 10,
   "id": "willing-minority",
   "metadata": {},
   "outputs": [
    {
     "data": {
      "text/plain": [
       "KMeans(n_clusters=6, n_init=5, random_state=10)"
      ]
     },
     "execution_count": 10,
     "metadata": {},
     "output_type": "execute_result"
    }
   ],
   "source": [
    "num_clusters = 6\n",
    "km = KMeans(n_clusters=num_clusters,random_state=10,n_init=5) # n_init, number of times the K-mean algorithm will run\n",
    "km.fit(X)\n"
   ]
  },
  {
   "cell_type": "code",
   "execution_count": 11,
   "id": "vocational-degree",
   "metadata": {},
   "outputs": [
    {
     "data": {
      "image/png": "[encoded data removed]",
      "text/plain": [
       "<Figure size 432x288 with 1 Axes>"
      ]
     },
     "metadata": {
      "image/png": {
       "height": 248,
       "width": 378
      },
      "needs_background": "light"
     },
     "output_type": "display_data"
    }
   ],
   "source": [
    "display_cluster(X,km,num_clusters)"
   ]
  },
  {
   "cell_type": "code",
   "execution_count": 12,
   "id": "dependent-physics",
   "metadata": {},
   "outputs": [],
   "source": [
    "clusters = pd.DataFrame(data=km.labels_.tolist(), columns=['cluster'])\n",
    "#clusters\n"
   ]
  },
  {
   "cell_type": "code",
   "execution_count": 13,
   "id": "insured-liberia",
   "metadata": {},
   "outputs": [
    {
     "data": {
      "text/plain": [
       "48082"
      ]
     },
     "execution_count": 13,
     "metadata": {},
     "output_type": "execute_result"
    }
   ],
   "source": [
    "len(clusters)"
   ]
  },
  {
   "cell_type": "code",
   "execution_count": 14,
   "id": "placed-sheep",
   "metadata": {},
   "outputs": [
    {
     "data": {
      "text/html": [
       "<div>\n",
       "<style scoped>\n",
       "    .dataframe tbody tr th:only-of-type {\n",
       "        vertical-align: middle;\n",
       "    }\n",
       "\n",
       "    .dataframe tbody tr th {\n",
       "        vertical-align: top;\n",
       "    }\n",
       "\n",
       "    .dataframe thead th {\n",
       "        text-align: right;\n",
       "    }\n",
       "</style>\n",
       "<table border=\"1\" class=\"dataframe\">\n",
       "  <thead>\n",
       "    <tr style=\"text-align: right;\">\n",
       "      <th></th>\n",
       "      <th>cluster</th>\n",
       "    </tr>\n",
       "  </thead>\n",
       "  <tbody>\n",
       "    <tr>\n",
       "      <th>0</th>\n",
       "      <td>0</td>\n",
       "    </tr>\n",
       "    <tr>\n",
       "      <th>1</th>\n",
       "      <td>5</td>\n",
       "    </tr>\n",
       "    <tr>\n",
       "      <th>2</th>\n",
       "      <td>0</td>\n",
       "    </tr>\n",
       "    <tr>\n",
       "      <th>3</th>\n",
       "      <td>2</td>\n",
       "    </tr>\n",
       "    <tr>\n",
       "      <th>4</th>\n",
       "      <td>5</td>\n",
       "    </tr>\n",
       "  </tbody>\n",
       "</table>\n",
       "</div>"
      ],
      "text/plain": [
       "   cluster\n",
       "0        0\n",
       "1        5\n",
       "2        0\n",
       "3        2\n",
       "4        5"
      ]
     },
     "execution_count": 14,
     "metadata": {},
     "output_type": "execute_result"
    }
   ],
   "source": [
    "clusters.head()"
   ]
  },
  {
   "cell_type": "code",
   "execution_count": 15,
   "id": "assumed-chess",
   "metadata": {},
   "outputs": [
    {
     "data": {
      "text/plain": [
       "array([14, 17,  1, 15, 12,  6, 16,  5,  8, 19, 18, 11,  9,  4,  2,  7, 10,\n",
       "       13,  3,  0])"
      ]
     },
     "execution_count": 15,
     "metadata": {},
     "output_type": "execute_result"
    }
   ],
   "source": [
    "order_centroids = km.cluster_centers_.argsort()[:, ::-1] \n",
    "order_centroids[0]"
   ]
  },
  {
   "cell_type": "code",
   "execution_count": 16,
   "id": "stuck-waste",
   "metadata": {},
   "outputs": [],
   "source": [
    "# add k-means clusters to df\n",
    "\n",
    "posts_clusters = pd.concat([posts, clusters], axis=1)\n"
   ]
  },
  {
   "cell_type": "code",
   "execution_count": 17,
   "id": "affected-flood",
   "metadata": {},
   "outputs": [
    {
     "data": {
      "text/plain": [
       "(48082, 42)"
      ]
     },
     "execution_count": 17,
     "metadata": {},
     "output_type": "execute_result"
    }
   ],
   "source": [
    "posts_clusters.shape"
   ]
  },
  {
   "cell_type": "code",
   "execution_count": 18,
   "id": "finite-blackberry",
   "metadata": {},
   "outputs": [
    {
     "data": {
      "text/plain": [
       "Index(['index', 'id', 'created_utc', 'date_time', 'author', 'author_fullname',\n",
       "       'title', 'url', 'domain', 'num_comments', 'score', 'permalink',\n",
       "       'full_link', 'refine_title', 'preproc_title', 'unstemmed', 'stem_title',\n",
       "       'processed_title', 'title_nouns', 'post_topic_nmf', 'title_nouns',\n",
       "       'C_0', 'C_1', 'C_2', 'C_3', 'C_4', 'C_5', 'C_6', 'C_7', 'C_8', 'C_9',\n",
       "       'C_10', 'C_11', 'C_12', 'C_13', 'C_14', 'C_15', 'C_16', 'C_17', 'C_18',\n",
       "       'C_19', 'cluster'],\n",
       "      dtype='object')"
      ]
     },
     "execution_count": 18,
     "metadata": {},
     "output_type": "execute_result"
    }
   ],
   "source": [
    "posts_clusters.columns"
   ]
  },
  {
   "cell_type": "code",
   "execution_count": 19,
   "id": "eligible-recruitment",
   "metadata": {},
   "outputs": [],
   "source": [
    "subset = posts_clusters[['title','post_topic_nmf', 'cluster']]"
   ]
  },
  {
   "cell_type": "code",
   "execution_count": 22,
   "id": "junior-handbook",
   "metadata": {},
   "outputs": [
    {
     "data": {
      "text/html": [
       "<div>\n",
       "<style scoped>\n",
       "    .dataframe tbody tr th:only-of-type {\n",
       "        vertical-align: middle;\n",
       "    }\n",
       "\n",
       "    .dataframe tbody tr th {\n",
       "        vertical-align: top;\n",
       "    }\n",
       "\n",
       "    .dataframe thead th {\n",
       "        text-align: right;\n",
       "    }\n",
       "</style>\n",
       "<table border=\"1\" class=\"dataframe\">\n",
       "  <thead>\n",
       "    <tr style=\"text-align: right;\">\n",
       "      <th></th>\n",
       "      <th>title</th>\n",
       "      <th>post_topic_nmf</th>\n",
       "      <th>cluster</th>\n",
       "    </tr>\n",
       "  </thead>\n",
       "  <tbody>\n",
       "    <tr>\n",
       "      <th>1</th>\n",
       "      <td>Millions of dynamic DNS users suffer after Mic...</td>\n",
       "      <td>13</td>\n",
       "      <td>5</td>\n",
       "    </tr>\n",
       "    <tr>\n",
       "      <th>4</th>\n",
       "      <td>Microsoft May Prioritize The Desktop In Windows 9</td>\n",
       "      <td>13</td>\n",
       "      <td>5</td>\n",
       "    </tr>\n",
       "    <tr>\n",
       "      <th>46</th>\n",
       "      <td>Google, Microsoft clouds now cover MongoDB</td>\n",
       "      <td>13</td>\n",
       "      <td>5</td>\n",
       "    </tr>\n",
       "    <tr>\n",
       "      <th>49</th>\n",
       "      <td>Microsoft unveils Android phone</td>\n",
       "      <td>13</td>\n",
       "      <td>5</td>\n",
       "    </tr>\n",
       "    <tr>\n",
       "      <th>54</th>\n",
       "      <td>Microsoft brings own security info exchange to...</td>\n",
       "      <td>13</td>\n",
       "      <td>5</td>\n",
       "    </tr>\n",
       "    <tr>\n",
       "      <th>...</th>\n",
       "      <td>...</td>\n",
       "      <td>...</td>\n",
       "      <td>...</td>\n",
       "    </tr>\n",
       "    <tr>\n",
       "      <th>46979</th>\n",
       "      <td>Microsoft revamps its startup programs with $5...</td>\n",
       "      <td>13</td>\n",
       "      <td>5</td>\n",
       "    </tr>\n",
       "    <tr>\n",
       "      <th>47013</th>\n",
       "      <td>Microsoft acquires classroom collaboration sta...</td>\n",
       "      <td>13</td>\n",
       "      <td>5</td>\n",
       "    </tr>\n",
       "    <tr>\n",
       "      <th>47211</th>\n",
       "      <td>Microsoft will buy out existing cloud storage ...</td>\n",
       "      <td>13</td>\n",
       "      <td>5</td>\n",
       "    </tr>\n",
       "    <tr>\n",
       "      <th>47741</th>\n",
       "      <td>How to remove unwanted apps from Windows 10 (e...</td>\n",
       "      <td>13</td>\n",
       "      <td>5</td>\n",
       "    </tr>\n",
       "    <tr>\n",
       "      <th>47784</th>\n",
       "      <td>Signal partners with Microsoft to bring end-to...</td>\n",
       "      <td>13</td>\n",
       "      <td>5</td>\n",
       "    </tr>\n",
       "  </tbody>\n",
       "</table>\n",
       "<p>1238 rows × 3 columns</p>\n",
       "</div>"
      ],
      "text/plain": [
       "                                                   title  post_topic_nmf  \\\n",
       "1      Millions of dynamic DNS users suffer after Mic...              13   \n",
       "4      Microsoft May Prioritize The Desktop In Windows 9              13   \n",
       "46            Google, Microsoft clouds now cover MongoDB              13   \n",
       "49                       Microsoft unveils Android phone              13   \n",
       "54     Microsoft brings own security info exchange to...              13   \n",
       "...                                                  ...             ...   \n",
       "46979  Microsoft revamps its startup programs with $5...              13   \n",
       "47013  Microsoft acquires classroom collaboration sta...              13   \n",
       "47211  Microsoft will buy out existing cloud storage ...              13   \n",
       "47741  How to remove unwanted apps from Windows 10 (e...              13   \n",
       "47784  Signal partners with Microsoft to bring end-to...              13   \n",
       "\n",
       "       cluster  \n",
       "1            5  \n",
       "4            5  \n",
       "46           5  \n",
       "49           5  \n",
       "54           5  \n",
       "...        ...  \n",
       "46979        5  \n",
       "47013        5  \n",
       "47211        5  \n",
       "47741        5  \n",
       "47784        5  \n",
       "\n",
       "[1238 rows x 3 columns]"
      ]
     },
     "execution_count": 22,
     "metadata": {},
     "output_type": "execute_result"
    }
   ],
   "source": [
    "subset[subset['cluster']==5]"
   ]
  },
  {
   "cell_type": "code",
   "execution_count": null,
   "id": "metric-binding",
   "metadata": {},
   "outputs": [],
   "source": [
    "# tried many values of k\n",
    "# kmeans didn't help group the results in different, meaningful way"
   ]
  }
 ],
 "metadata": {
  "kernelspec": {
   "display_name": "Python 3",
   "language": "python",
   "name": "python3"
  },
  "language_info": {
   "codemirror_mode": {
    "name": "ipython",
    "version": 3
   },
   "file_extension": ".py",
   "mimetype": "text/x-python",
   "name": "python",
   "nbconvert_exporter": "python",
   "pygments_lexer": "ipython3",
   "version": "3.8.2"
  }
 },
 "nbformat": 4,
 "nbformat_minor": 5
}
