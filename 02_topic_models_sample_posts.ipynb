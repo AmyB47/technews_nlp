{
 "cells": [
  {
   "cell_type": "code",
   "execution_count": 1,
   "id": "executive-shooting",
   "metadata": {},
   "outputs": [
    {
     "data": {
      "text/plain": [
       "'\\ninitial exploration of r/technews posts pulled through Reddit API\\nwhich is limited to max 1k posts\\n'"
      ]
     },
     "execution_count": 1,
     "metadata": {},
     "output_type": "execute_result"
    }
   ],
   "source": [
    "\"\"\"\n",
    "initial exploration of topic modeling of \n",
    "r/technews posts pulled through Reddit API\n",
    "which is limited to max 1k posts\n",
    "\"\"\""
   ]
  },
  {
   "cell_type": "code",
   "execution_count": 2,
   "id": "quarterly-messaging",
   "metadata": {},
   "outputs": [],
   "source": [
    "import pandas as pd\n",
    "import pickle\n",
    "import datetime\n",
    "\n",
    "from sklearn.feature_extraction.text import CountVectorizer, TfidfVectorizer\n",
    "from sklearn.decomposition import NMF, LatentDirichletAllocation\n"
   ]
  },
  {
   "cell_type": "code",
   "execution_count": 3,
   "id": "brazilian-article",
   "metadata": {},
   "outputs": [
    {
     "data": {
      "text/plain": [
       "(962, 7)"
      ]
     },
     "execution_count": 3,
     "metadata": {},
     "output_type": "execute_result"
    }
   ],
   "source": [
    "with open('post_data_top.pickle', 'rb') as read_file:\n",
    "    posts_top = pickle.load(read_file)\n",
    "    \n",
    "posts_top.shape"
   ]
  },
  {
   "cell_type": "code",
   "execution_count": 5,
   "id": "specified-ground",
   "metadata": {},
   "outputs": [],
   "source": [
    "##  make the created time stamp from epoch time into date\n",
    "posts_top['created'] = posts_top.created.astype(int)\n",
    "posts_top['date_time'] = pd.to_datetime(posts_top['created'], unit='s')"
   ]
  },
  {
   "cell_type": "code",
   "execution_count": 6,
   "id": "hired-karma",
   "metadata": {},
   "outputs": [
    {
     "data": {
      "text/html": [
       "<div>\n",
       "<style scoped>\n",
       "    .dataframe tbody tr th:only-of-type {\n",
       "        vertical-align: middle;\n",
       "    }\n",
       "\n",
       "    .dataframe tbody tr th {\n",
       "        vertical-align: top;\n",
       "    }\n",
       "\n",
       "    .dataframe thead th {\n",
       "        text-align: right;\n",
       "    }\n",
       "</style>\n",
       "<table border=\"1\" class=\"dataframe\">\n",
       "  <thead>\n",
       "    <tr style=\"text-align: right;\">\n",
       "      <th></th>\n",
       "      <th>title</th>\n",
       "      <th>score</th>\n",
       "      <th>id</th>\n",
       "      <th>url</th>\n",
       "      <th>num_comms</th>\n",
       "      <th>created</th>\n",
       "      <th>body</th>\n",
       "      <th>date_time</th>\n",
       "    </tr>\n",
       "  </thead>\n",
       "  <tbody>\n",
       "    <tr>\n",
       "      <th>0</th>\n",
       "      <td>Amazon VP Resigns, Calls Company ‘Chickenshit’...</td>\n",
       "      <td>56834</td>\n",
       "      <td>gdd9d8</td>\n",
       "      <td>https://www.vice.com/en_us/article/z3bjpj/amaz...</td>\n",
       "      <td>1760</td>\n",
       "      <td>1588633651</td>\n",
       "      <td></td>\n",
       "      <td>2020-05-04 23:07:31</td>\n",
       "    </tr>\n",
       "    <tr>\n",
       "      <th>1</th>\n",
       "      <td>Robinhood plummets back down to a one-star rat...</td>\n",
       "      <td>34487</td>\n",
       "      <td>lakvbj</td>\n",
       "      <td>https://www.theverge.com/2021/2/1/22261178/rob...</td>\n",
       "      <td>705</td>\n",
       "      <td>1612260619</td>\n",
       "      <td></td>\n",
       "      <td>2021-02-02 10:10:19</td>\n",
       "    </tr>\n",
       "    <tr>\n",
       "      <th>2</th>\n",
       "      <td>Twitter hides Trump tweet attacking Supreme Co...</td>\n",
       "      <td>29023</td>\n",
       "      <td>jn69ys</td>\n",
       "      <td>https://techcrunch.com/2020/11/02/twitter-trum...</td>\n",
       "      <td>1267</td>\n",
       "      <td>1604418227</td>\n",
       "      <td></td>\n",
       "      <td>2020-11-03 15:43:47</td>\n",
       "    </tr>\n",
       "    <tr>\n",
       "      <th>3</th>\n",
       "      <td>Parler CEO says even his lawyers are abandonin...</td>\n",
       "      <td>24305</td>\n",
       "      <td>kuuq6y</td>\n",
       "      <td>https://www.theverge.com/2021/1/10/22223956/pa...</td>\n",
       "      <td>1485</td>\n",
       "      <td>1610366505</td>\n",
       "      <td></td>\n",
       "      <td>2021-01-11 12:01:45</td>\n",
       "    </tr>\n",
       "    <tr>\n",
       "      <th>4</th>\n",
       "      <td>Trump blocked by Twitter and Facebook</td>\n",
       "      <td>23597</td>\n",
       "      <td>ks63ds</td>\n",
       "      <td>https://www.bbc.co.uk/news/technology-55569604</td>\n",
       "      <td>667</td>\n",
       "      <td>1610024302</td>\n",
       "      <td></td>\n",
       "      <td>2021-01-07 12:58:22</td>\n",
       "    </tr>\n",
       "  </tbody>\n",
       "</table>\n",
       "</div>"
      ],
      "text/plain": [
       "                                               title  score      id  \\\n",
       "0  Amazon VP Resigns, Calls Company ‘Chickenshit’...  56834  gdd9d8   \n",
       "1  Robinhood plummets back down to a one-star rat...  34487  lakvbj   \n",
       "2  Twitter hides Trump tweet attacking Supreme Co...  29023  jn69ys   \n",
       "3  Parler CEO says even his lawyers are abandonin...  24305  kuuq6y   \n",
       "4              Trump blocked by Twitter and Facebook  23597  ks63ds   \n",
       "\n",
       "                                                 url  num_comms     created  \\\n",
       "0  https://www.vice.com/en_us/article/z3bjpj/amaz...       1760  1588633651   \n",
       "1  https://www.theverge.com/2021/2/1/22261178/rob...        705  1612260619   \n",
       "2  https://techcrunch.com/2020/11/02/twitter-trum...       1267  1604418227   \n",
       "3  https://www.theverge.com/2021/1/10/22223956/pa...       1485  1610366505   \n",
       "4     https://www.bbc.co.uk/news/technology-55569604        667  1610024302   \n",
       "\n",
       "  body           date_time  \n",
       "0      2020-05-04 23:07:31  \n",
       "1      2021-02-02 10:10:19  \n",
       "2      2020-11-03 15:43:47  \n",
       "3      2021-01-11 12:01:45  \n",
       "4      2021-01-07 12:58:22  "
      ]
     },
     "execution_count": 6,
     "metadata": {},
     "output_type": "execute_result"
    }
   ],
   "source": [
    "posts_top.head()"
   ]
  },
  {
   "cell_type": "code",
   "execution_count": 7,
   "id": "traditional-butterfly",
   "metadata": {},
   "outputs": [
    {
     "data": {
      "text/plain": [
       "Timestamp('2018-06-23 00:31:27')"
      ]
     },
     "execution_count": 7,
     "metadata": {},
     "output_type": "execute_result"
    }
   ],
   "source": [
    "min(posts_top.date_time)\n",
    "\n",
    "#Timestamp('2018-06-23 00:31:27')"
   ]
  },
  {
   "cell_type": "markdown",
   "id": "bronze-freedom",
   "metadata": {},
   "source": [
    "# initial topic modeling"
   ]
  },
  {
   "cell_type": "markdown",
   "id": "defensive-section",
   "metadata": {},
   "source": [
    "## try NMF"
   ]
  },
  {
   "cell_type": "code",
   "execution_count": 33,
   "id": "blank-physiology",
   "metadata": {},
   "outputs": [
    {
     "data": {
      "text/plain": [
       "(962, 3566)"
      ]
     },
     "execution_count": 33,
     "metadata": {},
     "output_type": "execute_result"
    }
   ],
   "source": [
    "vectorizer = CountVectorizer(stop_words = 'english')\n",
    "title_words = vectorizer.fit_transform(posts_top.title)\n",
    "title_words.shape"
   ]
  },
  {
   "cell_type": "code",
   "execution_count": 58,
   "id": "occasional-globe",
   "metadata": {},
   "outputs": [
    {
     "data": {
      "text/plain": [
       "(962, 12)"
      ]
     },
     "execution_count": 58,
     "metadata": {},
     "output_type": "execute_result"
    }
   ],
   "source": [
    "nmf_model = NMF(12)  # tried 5, 7, 10, 12, 15, 20, 25\n",
    "post_topic = nmf_model.fit_transform(title_words)\n",
    "post_topic.shape"
   ]
  },
  {
   "cell_type": "code",
   "execution_count": 59,
   "id": "elect-english",
   "metadata": {},
   "outputs": [
    {
     "data": {
      "text/plain": [
       "(12, 3566)"
      ]
     },
     "execution_count": 59,
     "metadata": {},
     "output_type": "execute_result"
    }
   ],
   "source": [
    "topic_word = nmf_model.components_\n",
    "topic_word.shape"
   ]
  },
  {
   "cell_type": "code",
   "execution_count": 60,
   "id": "requested-eclipse",
   "metadata": {},
   "outputs": [
    {
     "data": {
      "text/plain": [
       "[['facebook', 'ads', 'ban', 'news', 'bans', 'zuckerberg'],\n",
       " ['musk', 'tesla', 'elon', 'billion', 'fortune', 'company'],\n",
       " ['google', 'search', 'reportedly', 'users', 'tracking', 'france'],\n",
       " ['spacex', 'internet', 'starlink', 'service', 'satellite', 'starship'],\n",
       " ['new', 'used', 'ai', 'detect', 'plasma', 'wi'],\n",
       " ['data', 'caps', 'comcast', 'customers', 'broadband', 'million'],\n",
       " ['apple', 'app', 'iphone', 'security', 'watches', 'forced'],\n",
       " ['says', 'china', 'world', 'fcc', 'court', 'used'],\n",
       " ['twitter', 'trump', 'covid', '19', 'tweets', 'hackers'],\n",
       " ['000', 'korea', 'tesla', '10', 'train', 'cars'],\n",
       " ['cells', 'scientists', 'cancer', 'using', 'light', 'developed'],\n",
       " ['amazon', 'tech', 'news', 'big', 'science', 'ring']]"
      ]
     },
     "execution_count": 60,
     "metadata": {},
     "output_type": "execute_result"
    }
   ],
   "source": [
    "words = vectorizer.get_feature_names()\n",
    "t = nmf_model.components_.argsort(axis=1)[:,-1:-7:-1]\n",
    "topic_words = [[words[e] for e in l] for l in t]\n",
    "topic_words"
   ]
  },
  {
   "cell_type": "markdown",
   "id": "legislative-territory",
   "metadata": {},
   "source": [
    "\n"
   ]
  },
  {
   "cell_type": "code",
   "execution_count": 63,
   "id": "assigned-respect",
   "metadata": {},
   "outputs": [],
   "source": [
    "posts_top['post_topic_nmf'] = post_topic.argmax(axis=1)"
   ]
  },
  {
   "cell_type": "code",
   "execution_count": 64,
   "id": "consolidated-captain",
   "metadata": {},
   "outputs": [
    {
     "data": {
      "text/html": [
       "<div>\n",
       "<style scoped>\n",
       "    .dataframe tbody tr th:only-of-type {\n",
       "        vertical-align: middle;\n",
       "    }\n",
       "\n",
       "    .dataframe tbody tr th {\n",
       "        vertical-align: top;\n",
       "    }\n",
       "\n",
       "    .dataframe thead th {\n",
       "        text-align: right;\n",
       "    }\n",
       "</style>\n",
       "<table border=\"1\" class=\"dataframe\">\n",
       "  <thead>\n",
       "    <tr style=\"text-align: right;\">\n",
       "      <th></th>\n",
       "      <th>title</th>\n",
       "      <th>score</th>\n",
       "      <th>id</th>\n",
       "      <th>url</th>\n",
       "      <th>num_comms</th>\n",
       "      <th>created</th>\n",
       "      <th>body</th>\n",
       "      <th>date_time</th>\n",
       "      <th>post_topic_nmf</th>\n",
       "    </tr>\n",
       "  </thead>\n",
       "  <tbody>\n",
       "    <tr>\n",
       "      <th>0</th>\n",
       "      <td>Amazon VP Resigns, Calls Company ‘Chickenshit’...</td>\n",
       "      <td>56834</td>\n",
       "      <td>gdd9d8</td>\n",
       "      <td>https://www.vice.com/en_us/article/z3bjpj/amaz...</td>\n",
       "      <td>1760</td>\n",
       "      <td>1.588634e+09</td>\n",
       "      <td></td>\n",
       "      <td>2020-05-04 23:07:31</td>\n",
       "      <td>11</td>\n",
       "    </tr>\n",
       "    <tr>\n",
       "      <th>1</th>\n",
       "      <td>Robinhood plummets back down to a one-star rat...</td>\n",
       "      <td>34487</td>\n",
       "      <td>lakvbj</td>\n",
       "      <td>https://www.theverge.com/2021/2/1/22261178/rob...</td>\n",
       "      <td>705</td>\n",
       "      <td>1.612261e+09</td>\n",
       "      <td></td>\n",
       "      <td>2021-02-02 10:10:19</td>\n",
       "      <td>2</td>\n",
       "    </tr>\n",
       "    <tr>\n",
       "      <th>2</th>\n",
       "      <td>Twitter hides Trump tweet attacking Supreme Co...</td>\n",
       "      <td>29023</td>\n",
       "      <td>jn69ys</td>\n",
       "      <td>https://techcrunch.com/2020/11/02/twitter-trum...</td>\n",
       "      <td>1267</td>\n",
       "      <td>1.604418e+09</td>\n",
       "      <td></td>\n",
       "      <td>2020-11-03 15:43:47</td>\n",
       "      <td>8</td>\n",
       "    </tr>\n",
       "    <tr>\n",
       "      <th>3</th>\n",
       "      <td>Parler CEO says even his lawyers are abandonin...</td>\n",
       "      <td>24305</td>\n",
       "      <td>kuuq6y</td>\n",
       "      <td>https://www.theverge.com/2021/1/10/22223956/pa...</td>\n",
       "      <td>1485</td>\n",
       "      <td>1.610367e+09</td>\n",
       "      <td></td>\n",
       "      <td>2021-01-11 12:01:45</td>\n",
       "      <td>7</td>\n",
       "    </tr>\n",
       "    <tr>\n",
       "      <th>4</th>\n",
       "      <td>Trump blocked by Twitter and Facebook</td>\n",
       "      <td>23597</td>\n",
       "      <td>ks63ds</td>\n",
       "      <td>https://www.bbc.co.uk/news/technology-55569604</td>\n",
       "      <td>667</td>\n",
       "      <td>1.610024e+09</td>\n",
       "      <td></td>\n",
       "      <td>2021-01-07 12:58:22</td>\n",
       "      <td>8</td>\n",
       "    </tr>\n",
       "  </tbody>\n",
       "</table>\n",
       "</div>"
      ],
      "text/plain": [
       "                                               title  score      id  \\\n",
       "0  Amazon VP Resigns, Calls Company ‘Chickenshit’...  56834  gdd9d8   \n",
       "1  Robinhood plummets back down to a one-star rat...  34487  lakvbj   \n",
       "2  Twitter hides Trump tweet attacking Supreme Co...  29023  jn69ys   \n",
       "3  Parler CEO says even his lawyers are abandonin...  24305  kuuq6y   \n",
       "4              Trump blocked by Twitter and Facebook  23597  ks63ds   \n",
       "\n",
       "                                                 url  num_comms       created  \\\n",
       "0  https://www.vice.com/en_us/article/z3bjpj/amaz...       1760  1.588634e+09   \n",
       "1  https://www.theverge.com/2021/2/1/22261178/rob...        705  1.612261e+09   \n",
       "2  https://techcrunch.com/2020/11/02/twitter-trum...       1267  1.604418e+09   \n",
       "3  https://www.theverge.com/2021/1/10/22223956/pa...       1485  1.610367e+09   \n",
       "4     https://www.bbc.co.uk/news/technology-55569604        667  1.610024e+09   \n",
       "\n",
       "  body           date_time  post_topic_nmf  \n",
       "0      2020-05-04 23:07:31              11  \n",
       "1      2021-02-02 10:10:19               2  \n",
       "2      2020-11-03 15:43:47               8  \n",
       "3      2021-01-11 12:01:45               7  \n",
       "4      2021-01-07 12:58:22               8  "
      ]
     },
     "execution_count": 64,
     "metadata": {},
     "output_type": "execute_result"
    }
   ],
   "source": [
    "posts_top.head()"
   ]
  },
  {
   "cell_type": "code",
   "execution_count": 65,
   "id": "subjective-inventory",
   "metadata": {},
   "outputs": [],
   "source": [
    "# Export to Excel to further review posts by NMF topics\n",
    "posts_top.to_excel('post_topics_sample.xlsx', index=False)"
   ]
  },
  {
   "cell_type": "markdown",
   "id": "informational-vacation",
   "metadata": {},
   "source": [
    "Reviewed the topics assigned to each post title\n",
    "\n",
    "0. Facebook\n",
    "1. Tesla, Elon Musk\n",
    "2. Google\n",
    "3. SpaceX, NASA\n",
    "4. variety - commonly of \"new\"\n",
    "5. fines, breaches, bad news\n",
    "6. Apple,  but getting app too and 'apple' the fruit\n",
    "7. variety\n",
    "8. about half Twitter, also covid, and other\n",
    "9. variety\n",
    "10. Scientists, studies\n",
    "11. less than half about Amazon\n"
   ]
  },
  {
   "cell_type": "markdown",
   "id": "packed-register",
   "metadata": {},
   "source": [
    "## try LDA"
   ]
  },
  {
   "cell_type": "code",
   "execution_count": 73,
   "id": "otherwise-knowing",
   "metadata": {},
   "outputs": [
    {
     "data": {
      "text/plain": [
       "(12, 20)"
      ]
     },
     "execution_count": 73,
     "metadata": {},
     "output_type": "execute_result"
    }
   ],
   "source": [
    "lda_model = LatentDirichletAllocation(n_components=20)\n",
    "doc_topic = lda_model.fit_transform(topic_word)\n",
    "doc_topic.shape"
   ]
  },
  {
   "cell_type": "code",
   "execution_count": 74,
   "id": "fatal-quarter",
   "metadata": {},
   "outputs": [
    {
     "data": {
      "text/plain": [
       "[['remote', 'decades', 'lyft', 'upgraded', 'counter', 'crack'],\n",
       " ['twitter', 'trump', 'covid', '19', 'tweets', 'accounts'],\n",
       " ['amazon', 'tech', 'big', 'science', 'ring', 'japan'],\n",
       " ['000', 'korea', 'cars', '10', 'train', 'electric'],\n",
       " ['says', 'china', 'thomas', 'wrong', 'sold', 'huawei'],\n",
       " ['remote', 'decades', 'lyft', 'upgraded', 'counter', 'crack'],\n",
       " ['spacex', 'new', 'internet', 'service', 'starlink', 'broadband'],\n",
       " ['remote', 'decades', 'lyft', 'upgraded', 'counter', 'crack'],\n",
       " ['remote', 'decades', 'lyft', 'upgraded', 'counter', 'crack'],\n",
       " ['remote', 'decades', 'lyft', 'upgraded', 'counter', 'crack'],\n",
       " ['apple', 'iphone', 'app', 'security', 'iphones', 'forced'],\n",
       " ['remote', 'decades', 'lyft', 'upgraded', 'counter', 'crack'],\n",
       " ['remote', 'decades', 'lyft', 'upgraded', 'counter', 'crack'],\n",
       " ['remote', 'decades', 'lyft', 'upgraded', 'counter', 'crack'],\n",
       " ['remote', 'decades', 'lyft', 'upgraded', 'counter', 'crack'],\n",
       " ['cells', 'scientists', 'cancer', 'using', 'light', 'developed'],\n",
       " ['remote', 'decades', 'lyft', 'upgraded', 'counter', 'crack'],\n",
       " ['facebook', 'tesla', 'musk', 'elon', 'users', 'news'],\n",
       " ['remote', 'decades', 'lyft', 'upgraded', 'counter', 'crack'],\n",
       " ['data', 'google', 'comcast', 'customers', 'caps', 'million']]"
      ]
     },
     "execution_count": 74,
     "metadata": {},
     "output_type": "execute_result"
    }
   ],
   "source": [
    "words = vectorizer.get_feature_names()\n",
    "t = lda_model.components_.argsort(axis=1)[:,-1:-7:-1]\n",
    "topic_words = [[words[e] for e in l] for l in t]\n",
    "topic_words"
   ]
  },
  {
   "cell_type": "code",
   "execution_count": null,
   "id": "alleged-jordan",
   "metadata": {},
   "outputs": [],
   "source": [
    "# this output is odd that several topics have identical top words\n",
    "# though LDA is better with larger corpora and this is a sample of 1k posts/sentences"
   ]
  },
  {
   "cell_type": "markdown",
   "id": "million-advantage",
   "metadata": {},
   "source": [
    "## try TF-IDF vectorizer with NMF"
   ]
  },
  {
   "cell_type": "code",
   "execution_count": 75,
   "id": "fatty-marks",
   "metadata": {},
   "outputs": [
    {
     "data": {
      "text/html": [
       "<div>\n",
       "<style scoped>\n",
       "    .dataframe tbody tr th:only-of-type {\n",
       "        vertical-align: middle;\n",
       "    }\n",
       "\n",
       "    .dataframe tbody tr th {\n",
       "        vertical-align: top;\n",
       "    }\n",
       "\n",
       "    .dataframe thead th {\n",
       "        text-align: right;\n",
       "    }\n",
       "</style>\n",
       "<table border=\"1\" class=\"dataframe\">\n",
       "  <thead>\n",
       "    <tr style=\"text-align: right;\">\n",
       "      <th></th>\n",
       "      <th>000</th>\n",
       "      <th>000th</th>\n",
       "      <th>060</th>\n",
       "      <th>10</th>\n",
       "      <th>100</th>\n",
       "      <th>100b</th>\n",
       "      <th>100m</th>\n",
       "      <th>100mbps</th>\n",
       "      <th>10pm</th>\n",
       "      <th>11</th>\n",
       "      <th>...</th>\n",
       "      <th>youtuber</th>\n",
       "      <th>zappos</th>\n",
       "      <th>zdnet</th>\n",
       "      <th>zero</th>\n",
       "      <th>zhang</th>\n",
       "      <th>zip</th>\n",
       "      <th>zone</th>\n",
       "      <th>zoom</th>\n",
       "      <th>zte</th>\n",
       "      <th>zuckerberg</th>\n",
       "    </tr>\n",
       "  </thead>\n",
       "  <tbody>\n",
       "    <tr>\n",
       "      <th>0</th>\n",
       "      <td>0.0</td>\n",
       "      <td>0.0</td>\n",
       "      <td>0.0</td>\n",
       "      <td>0.0</td>\n",
       "      <td>0.0</td>\n",
       "      <td>0.0</td>\n",
       "      <td>0.0</td>\n",
       "      <td>0.0</td>\n",
       "      <td>0.0</td>\n",
       "      <td>0.0</td>\n",
       "      <td>...</td>\n",
       "      <td>0.0</td>\n",
       "      <td>0.0</td>\n",
       "      <td>0.0</td>\n",
       "      <td>0.0</td>\n",
       "      <td>0.0</td>\n",
       "      <td>0.0</td>\n",
       "      <td>0.0</td>\n",
       "      <td>0.0</td>\n",
       "      <td>0.0</td>\n",
       "      <td>0.0</td>\n",
       "    </tr>\n",
       "    <tr>\n",
       "      <th>1</th>\n",
       "      <td>0.0</td>\n",
       "      <td>0.0</td>\n",
       "      <td>0.0</td>\n",
       "      <td>0.0</td>\n",
       "      <td>0.0</td>\n",
       "      <td>0.0</td>\n",
       "      <td>0.0</td>\n",
       "      <td>0.0</td>\n",
       "      <td>0.0</td>\n",
       "      <td>0.0</td>\n",
       "      <td>...</td>\n",
       "      <td>0.0</td>\n",
       "      <td>0.0</td>\n",
       "      <td>0.0</td>\n",
       "      <td>0.0</td>\n",
       "      <td>0.0</td>\n",
       "      <td>0.0</td>\n",
       "      <td>0.0</td>\n",
       "      <td>0.0</td>\n",
       "      <td>0.0</td>\n",
       "      <td>0.0</td>\n",
       "    </tr>\n",
       "    <tr>\n",
       "      <th>2</th>\n",
       "      <td>0.0</td>\n",
       "      <td>0.0</td>\n",
       "      <td>0.0</td>\n",
       "      <td>0.0</td>\n",
       "      <td>0.0</td>\n",
       "      <td>0.0</td>\n",
       "      <td>0.0</td>\n",
       "      <td>0.0</td>\n",
       "      <td>0.0</td>\n",
       "      <td>0.0</td>\n",
       "      <td>...</td>\n",
       "      <td>0.0</td>\n",
       "      <td>0.0</td>\n",
       "      <td>0.0</td>\n",
       "      <td>0.0</td>\n",
       "      <td>0.0</td>\n",
       "      <td>0.0</td>\n",
       "      <td>0.0</td>\n",
       "      <td>0.0</td>\n",
       "      <td>0.0</td>\n",
       "      <td>0.0</td>\n",
       "    </tr>\n",
       "    <tr>\n",
       "      <th>3</th>\n",
       "      <td>0.0</td>\n",
       "      <td>0.0</td>\n",
       "      <td>0.0</td>\n",
       "      <td>0.0</td>\n",
       "      <td>0.0</td>\n",
       "      <td>0.0</td>\n",
       "      <td>0.0</td>\n",
       "      <td>0.0</td>\n",
       "      <td>0.0</td>\n",
       "      <td>0.0</td>\n",
       "      <td>...</td>\n",
       "      <td>0.0</td>\n",
       "      <td>0.0</td>\n",
       "      <td>0.0</td>\n",
       "      <td>0.0</td>\n",
       "      <td>0.0</td>\n",
       "      <td>0.0</td>\n",
       "      <td>0.0</td>\n",
       "      <td>0.0</td>\n",
       "      <td>0.0</td>\n",
       "      <td>0.0</td>\n",
       "    </tr>\n",
       "    <tr>\n",
       "      <th>4</th>\n",
       "      <td>0.0</td>\n",
       "      <td>0.0</td>\n",
       "      <td>0.0</td>\n",
       "      <td>0.0</td>\n",
       "      <td>0.0</td>\n",
       "      <td>0.0</td>\n",
       "      <td>0.0</td>\n",
       "      <td>0.0</td>\n",
       "      <td>0.0</td>\n",
       "      <td>0.0</td>\n",
       "      <td>...</td>\n",
       "      <td>0.0</td>\n",
       "      <td>0.0</td>\n",
       "      <td>0.0</td>\n",
       "      <td>0.0</td>\n",
       "      <td>0.0</td>\n",
       "      <td>0.0</td>\n",
       "      <td>0.0</td>\n",
       "      <td>0.0</td>\n",
       "      <td>0.0</td>\n",
       "      <td>0.0</td>\n",
       "    </tr>\n",
       "    <tr>\n",
       "      <th>...</th>\n",
       "      <td>...</td>\n",
       "      <td>...</td>\n",
       "      <td>...</td>\n",
       "      <td>...</td>\n",
       "      <td>...</td>\n",
       "      <td>...</td>\n",
       "      <td>...</td>\n",
       "      <td>...</td>\n",
       "      <td>...</td>\n",
       "      <td>...</td>\n",
       "      <td>...</td>\n",
       "      <td>...</td>\n",
       "      <td>...</td>\n",
       "      <td>...</td>\n",
       "      <td>...</td>\n",
       "      <td>...</td>\n",
       "      <td>...</td>\n",
       "      <td>...</td>\n",
       "      <td>...</td>\n",
       "      <td>...</td>\n",
       "      <td>...</td>\n",
       "    </tr>\n",
       "    <tr>\n",
       "      <th>957</th>\n",
       "      <td>0.0</td>\n",
       "      <td>0.0</td>\n",
       "      <td>0.0</td>\n",
       "      <td>0.0</td>\n",
       "      <td>0.0</td>\n",
       "      <td>0.0</td>\n",
       "      <td>0.0</td>\n",
       "      <td>0.0</td>\n",
       "      <td>0.0</td>\n",
       "      <td>0.0</td>\n",
       "      <td>...</td>\n",
       "      <td>0.0</td>\n",
       "      <td>0.0</td>\n",
       "      <td>0.0</td>\n",
       "      <td>0.0</td>\n",
       "      <td>0.0</td>\n",
       "      <td>0.0</td>\n",
       "      <td>0.0</td>\n",
       "      <td>0.0</td>\n",
       "      <td>0.0</td>\n",
       "      <td>0.0</td>\n",
       "    </tr>\n",
       "    <tr>\n",
       "      <th>958</th>\n",
       "      <td>0.0</td>\n",
       "      <td>0.0</td>\n",
       "      <td>0.0</td>\n",
       "      <td>0.0</td>\n",
       "      <td>0.0</td>\n",
       "      <td>0.0</td>\n",
       "      <td>0.0</td>\n",
       "      <td>0.0</td>\n",
       "      <td>0.0</td>\n",
       "      <td>0.0</td>\n",
       "      <td>...</td>\n",
       "      <td>0.0</td>\n",
       "      <td>0.0</td>\n",
       "      <td>0.0</td>\n",
       "      <td>0.0</td>\n",
       "      <td>0.0</td>\n",
       "      <td>0.0</td>\n",
       "      <td>0.0</td>\n",
       "      <td>0.0</td>\n",
       "      <td>0.0</td>\n",
       "      <td>0.0</td>\n",
       "    </tr>\n",
       "    <tr>\n",
       "      <th>959</th>\n",
       "      <td>0.0</td>\n",
       "      <td>0.0</td>\n",
       "      <td>0.0</td>\n",
       "      <td>0.0</td>\n",
       "      <td>0.0</td>\n",
       "      <td>0.0</td>\n",
       "      <td>0.0</td>\n",
       "      <td>0.0</td>\n",
       "      <td>0.0</td>\n",
       "      <td>0.0</td>\n",
       "      <td>...</td>\n",
       "      <td>0.0</td>\n",
       "      <td>0.0</td>\n",
       "      <td>0.0</td>\n",
       "      <td>0.0</td>\n",
       "      <td>0.0</td>\n",
       "      <td>0.0</td>\n",
       "      <td>0.0</td>\n",
       "      <td>0.0</td>\n",
       "      <td>0.0</td>\n",
       "      <td>0.0</td>\n",
       "    </tr>\n",
       "    <tr>\n",
       "      <th>960</th>\n",
       "      <td>0.0</td>\n",
       "      <td>0.0</td>\n",
       "      <td>0.0</td>\n",
       "      <td>0.0</td>\n",
       "      <td>0.0</td>\n",
       "      <td>0.0</td>\n",
       "      <td>0.0</td>\n",
       "      <td>0.0</td>\n",
       "      <td>0.0</td>\n",
       "      <td>0.0</td>\n",
       "      <td>...</td>\n",
       "      <td>0.0</td>\n",
       "      <td>0.0</td>\n",
       "      <td>0.0</td>\n",
       "      <td>0.0</td>\n",
       "      <td>0.0</td>\n",
       "      <td>0.0</td>\n",
       "      <td>0.0</td>\n",
       "      <td>0.0</td>\n",
       "      <td>0.0</td>\n",
       "      <td>0.0</td>\n",
       "    </tr>\n",
       "    <tr>\n",
       "      <th>961</th>\n",
       "      <td>0.0</td>\n",
       "      <td>0.0</td>\n",
       "      <td>0.0</td>\n",
       "      <td>0.0</td>\n",
       "      <td>0.0</td>\n",
       "      <td>0.0</td>\n",
       "      <td>0.0</td>\n",
       "      <td>0.0</td>\n",
       "      <td>0.0</td>\n",
       "      <td>0.0</td>\n",
       "      <td>...</td>\n",
       "      <td>0.0</td>\n",
       "      <td>0.0</td>\n",
       "      <td>0.0</td>\n",
       "      <td>0.0</td>\n",
       "      <td>0.0</td>\n",
       "      <td>0.0</td>\n",
       "      <td>0.0</td>\n",
       "      <td>0.0</td>\n",
       "      <td>0.0</td>\n",
       "      <td>0.0</td>\n",
       "    </tr>\n",
       "  </tbody>\n",
       "</table>\n",
       "<p>962 rows × 3566 columns</p>\n",
       "</div>"
      ],
      "text/plain": [
       "     000  000th  060   10  100  100b  100m  100mbps  10pm   11  ...  youtuber  \\\n",
       "0    0.0    0.0  0.0  0.0  0.0   0.0   0.0      0.0   0.0  0.0  ...       0.0   \n",
       "1    0.0    0.0  0.0  0.0  0.0   0.0   0.0      0.0   0.0  0.0  ...       0.0   \n",
       "2    0.0    0.0  0.0  0.0  0.0   0.0   0.0      0.0   0.0  0.0  ...       0.0   \n",
       "3    0.0    0.0  0.0  0.0  0.0   0.0   0.0      0.0   0.0  0.0  ...       0.0   \n",
       "4    0.0    0.0  0.0  0.0  0.0   0.0   0.0      0.0   0.0  0.0  ...       0.0   \n",
       "..   ...    ...  ...  ...  ...   ...   ...      ...   ...  ...  ...       ...   \n",
       "957  0.0    0.0  0.0  0.0  0.0   0.0   0.0      0.0   0.0  0.0  ...       0.0   \n",
       "958  0.0    0.0  0.0  0.0  0.0   0.0   0.0      0.0   0.0  0.0  ...       0.0   \n",
       "959  0.0    0.0  0.0  0.0  0.0   0.0   0.0      0.0   0.0  0.0  ...       0.0   \n",
       "960  0.0    0.0  0.0  0.0  0.0   0.0   0.0      0.0   0.0  0.0  ...       0.0   \n",
       "961  0.0    0.0  0.0  0.0  0.0   0.0   0.0      0.0   0.0  0.0  ...       0.0   \n",
       "\n",
       "     zappos  zdnet  zero  zhang  zip  zone  zoom  zte  zuckerberg  \n",
       "0       0.0    0.0   0.0    0.0  0.0   0.0   0.0  0.0         0.0  \n",
       "1       0.0    0.0   0.0    0.0  0.0   0.0   0.0  0.0         0.0  \n",
       "2       0.0    0.0   0.0    0.0  0.0   0.0   0.0  0.0         0.0  \n",
       "3       0.0    0.0   0.0    0.0  0.0   0.0   0.0  0.0         0.0  \n",
       "4       0.0    0.0   0.0    0.0  0.0   0.0   0.0  0.0         0.0  \n",
       "..      ...    ...   ...    ...  ...   ...   ...  ...         ...  \n",
       "957     0.0    0.0   0.0    0.0  0.0   0.0   0.0  0.0         0.0  \n",
       "958     0.0    0.0   0.0    0.0  0.0   0.0   0.0  0.0         0.0  \n",
       "959     0.0    0.0   0.0    0.0  0.0   0.0   0.0  0.0         0.0  \n",
       "960     0.0    0.0   0.0    0.0  0.0   0.0   0.0  0.0         0.0  \n",
       "961     0.0    0.0   0.0    0.0  0.0   0.0   0.0  0.0         0.0  \n",
       "\n",
       "[962 rows x 3566 columns]"
      ]
     },
     "execution_count": 75,
     "metadata": {},
     "output_type": "execute_result"
    }
   ],
   "source": [
    "# create the document-term matrix with TF-IDF vectorizer \n",
    "cv_tfidf = TfidfVectorizer(stop_words=\"english\")\n",
    "X_tfidf = cv_tfidf.fit_transform(posts_top.title).toarray()\n",
    "\n",
    "dt_tfidf = pd.DataFrame(X_tfidf,columns=cv_tfidf.get_feature_names()) \n",
    "dt_tfidf"
   ]
  },
  {
   "cell_type": "code",
   "execution_count": 88,
   "id": "printable-wallpaper",
   "metadata": {},
   "outputs": [
    {
     "name": "stderr",
     "output_type": "stream",
     "text": [
      "/Users/amybutler/opt/anaconda3/lib/python3.8/site-packages/sklearn/decomposition/_nmf.py:1076: ConvergenceWarning: Maximum number of iterations 200 reached. Increase it to improve convergence.\n",
      "  warnings.warn(\"Maximum number of iterations %d reached. Increase it to\"\n"
     ]
    },
    {
     "data": {
      "text/plain": [
       "(962, 27)"
      ]
     },
     "execution_count": 88,
     "metadata": {},
     "output_type": "execute_result"
    }
   ],
   "source": [
    "nmf_model = NMF(27)  \n",
    "post_topic2 = nmf_model.fit_transform(X_tfidf)\n",
    "post_topic2.shape"
   ]
  },
  {
   "cell_type": "code",
   "execution_count": 89,
   "id": "unlikely-surfing",
   "metadata": {},
   "outputs": [
    {
     "data": {
      "text/plain": [
       "[['musk', 'elon', 'tesla', 'company', 'fortune', 'boring'],\n",
       " ['facebook', 'ads', 'content', 'news', 'bans', 'zuckerberg'],\n",
       " ['spacex', 'starship', 'starlink', 'rocket', 'launches', 'test'],\n",
       " ['google', 'search', 'reportedly', 'france', 'billion', 'tracking'],\n",
       " ['twitter', 'tweets', 'trump', 'account', 'election', 'misinformation'],\n",
       " ['data', 'location', 'selling', 'customers', 'sued', 'carriers'],\n",
       " ['apple', 'iphone', 'fined', 'security', 'forced', 'iphones'],\n",
       " ['china', 'huawei', 'zoom', 'chipmaker', 'technology', 'censored'],\n",
       " ['new', 'detect', 'cell', 'used', '3d', 'feature'],\n",
       " ['tesla', 'car', 'electric', 'volkswagen', 'model', 'working'],\n",
       " ['covid', '19', 'patients', 'ventilators', 'hospitals', 'treat'],\n",
       " ['tech', 'big', 'antitrust', 'science', 'giants', 'news'],\n",
       " ['ban', 'trump', 'tiktok', 'app', 'youtube', 'ads'],\n",
       " ['says', 'ceo', 'parler', 'carbon', 'zero', 'report'],\n",
       " ['amazon', 'reportedly', 'alexa', 'plan', 'workers', 'service'],\n",
       " ['microsoft', 'office', 'windows', '10', 'flight', 'cloud'],\n",
       " ['internet', 'russia', 'service', 'chinese', 'citizens', 'plan'],\n",
       " ['court', 'rules', 'net', 'neutrality', 'supreme', 'eu'],\n",
       " ['000', '10', 'self', 'driving', 'bitcoin', 'cars'],\n",
       " ['world', 'fastest', 'japan', 'supercomputers', 'valuable', 'power'],\n",
       " ['fcc', 'phone', 'broadband', 'calls', 'finally', 'america'],\n",
       " ['users', 'million', 'pay', 'private', 'uploaded', 'videos'],\n",
       " ['hackers', 'leak', 'steal', 'threaten', 'surgery', 'plastic'],\n",
       " ['coronavirus', 'pandemic', 'vaccine', 'global', 'privacy', 'concerns'],\n",
       " ['year', 'online', 'old', 'accounts', 'sold', 'netflix'],\n",
       " ['cells', 'scientists', 'using', 'cancer', 'developed', 'living'],\n",
       " ['nasa', 'space', 'mars', 'rover', 'work', 'pi']]"
      ]
     },
     "execution_count": 89,
     "metadata": {},
     "output_type": "execute_result"
    }
   ],
   "source": [
    "words2 = vectorizer.get_feature_names()\n",
    "t2 = nmf_model.components_.argsort(axis=1)[:,-1:-7:-1]\n",
    "topic_words = [[words[e] for e in l] for l in t2]\n",
    "topic_words"
   ]
  },
  {
   "cell_type": "code",
   "execution_count": 78,
   "id": "threaded-medicine",
   "metadata": {},
   "outputs": [],
   "source": [
    "## these 12 topics with tf-idf vectorizer worked better than just count vectorizer\n",
    "## tried 15 topics - looks pretty good\n",
    "## 20 topics got bitcoin as separate topic\n",
    "## 25 looks good too\n",
    "# tried 27 -- it's putting bitcoin with cars"
   ]
  },
  {
   "cell_type": "code",
   "execution_count": null,
   "id": "cognitive-bottom",
   "metadata": {},
   "outputs": [],
   "source": [
    "# Need to add more preprocessing after pull all of the data\n",
    "# vectorizer did lowercase and removed stop words\n",
    "\n",
    "# try bi-grams \n",
    "# entity recognition\n",
    "# maybe remove the numbers\n",
    "# stemming/lemmatization\n",
    "# POS tagging\n"
   ]
  }
 ],
 "metadata": {
  "kernelspec": {
   "display_name": "Python 3",
   "language": "python",
   "name": "python3"
  },
  "language_info": {
   "codemirror_mode": {
    "name": "ipython",
    "version": 3
   },
   "file_extension": ".py",
   "mimetype": "text/x-python",
   "name": "python",
   "nbconvert_exporter": "python",
   "pygments_lexer": "ipython3",
   "version": "3.8.6"
  }
 },
 "nbformat": 4,
 "nbformat_minor": 5
}
