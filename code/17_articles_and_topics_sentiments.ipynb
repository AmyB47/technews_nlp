{
 "cells": [
  {
   "cell_type": "code",
   "execution_count": null,
   "id": "digital-montgomery",
   "metadata": {},
   "outputs": [],
   "source": [
    "\"\"\"\n",
    "aggregate the sentiment scores of comments to articles\n",
    "and then to topics\n",
    "\n",
    "will weight comment sentiments by comment scores\n",
    "\n",
    "add +1 to zero scores, so comment with no votes gets weight of 1 for the person that posted it\n",
    "currently, any post automatically gets +1 when user posts, but older years did not and have zero \n",
    "\n",
    "comment with negative score will get weight of  zero - \n",
    "    assuming negative score means fellow community members disagree and will not include in sentiment\n",
    "    about article or topic\n",
    "\n",
    "\"\"\""
   ]
  },
  {
   "cell_type": "code",
   "execution_count": 75,
   "id": "blind-lesson",
   "metadata": {},
   "outputs": [],
   "source": [
    "import pickle\n",
    "import pandas as pd\n",
    "import numpy as np\n",
    "import datetime as dt"
   ]
  },
  {
   "cell_type": "code",
   "execution_count": 33,
   "id": "sixth-electronics",
   "metadata": {},
   "outputs": [
    {
     "data": {
      "text/plain": [
       "(290871, 18)"
      ]
     },
     "execution_count": 33,
     "metadata": {},
     "output_type": "execute_result"
    }
   ],
   "source": [
    "with open('comments_sentiment.pickle', 'rb') as read_file:\n",
    "    comments = pickle.load(read_file)\n",
    "    \n",
    "comments.shape"
   ]
  },
  {
   "cell_type": "code",
   "execution_count": 34,
   "id": "important-bikini",
   "metadata": {},
   "outputs": [
    {
     "data": {
      "text/plain": [
       "-187.0"
      ]
     },
     "execution_count": 34,
     "metadata": {},
     "output_type": "execute_result"
    }
   ],
   "source": [
    "min(comments.score)"
   ]
  },
  {
   "cell_type": "code",
   "execution_count": 39,
   "id": "sapphire-candidate",
   "metadata": {},
   "outputs": [
    {
     "data": {
      "text/plain": [
       " 1.0      225080\n",
       " 2.0       17855\n",
       " 3.0        9062\n",
       " 0.0        6628\n",
       " 4.0        4032\n",
       "           ...  \n",
       " 325.0         1\n",
       " 221.0         1\n",
       "-53.0          1\n",
       " 672.0         1\n",
       " 226.0         1\n",
       "Name: score, Length: 391, dtype: int64"
      ]
     },
     "execution_count": 39,
     "metadata": {},
     "output_type": "execute_result"
    }
   ],
   "source": [
    "comments.score.value_counts()"
   ]
  },
  {
   "cell_type": "code",
   "execution_count": 40,
   "id": "neither-lottery",
   "metadata": {},
   "outputs": [
    {
     "name": "stdout",
     "output_type": "stream",
     "text": [
      "<class 'pandas.core.frame.DataFrame'>\n",
      "RangeIndex: 290871 entries, 0 to 290870\n",
      "Data columns (total 18 columns):\n",
      " #   Column              Non-Null Count   Dtype  \n",
      "---  ------              --------------   -----  \n",
      " 0   author              290871 non-null  object \n",
      " 1   author_created_utc  46645 non-null   float64\n",
      " 2   body                290871 non-null  object \n",
      " 3   created_utc         290869 non-null  object \n",
      " 4   id                  290869 non-null  object \n",
      " 5   link_id             290869 non-null  object \n",
      " 6   parent_id           290869 non-null  object \n",
      " 7   parent_id           290869 non-null  object \n",
      " 8   permalink           272782 non-null  object \n",
      " 9   retrieved_on        289606 non-null  float64\n",
      " 10  score               290867 non-null  float64\n",
      " 11  created             290867 non-null  float64\n",
      " 12  subreddit           290867 non-null  object \n",
      " 13  updated_utc         25343 non-null   float64\n",
      " 14  neg                 290871 non-null  float64\n",
      " 15  neu                 290871 non-null  float64\n",
      " 16  pos                 290871 non-null  float64\n",
      " 17  compound            290871 non-null  float64\n",
      "dtypes: float64(9), object(9)\n",
      "memory usage: 39.9+ MB\n"
     ]
    }
   ],
   "source": [
    "comments.info()"
   ]
  },
  {
   "cell_type": "code",
   "execution_count": 41,
   "id": "hidden-gospel",
   "metadata": {},
   "outputs": [
    {
     "data": {
      "text/html": [
       "<div>\n",
       "<style scoped>\n",
       "    .dataframe tbody tr th:only-of-type {\n",
       "        vertical-align: middle;\n",
       "    }\n",
       "\n",
       "    .dataframe tbody tr th {\n",
       "        vertical-align: top;\n",
       "    }\n",
       "\n",
       "    .dataframe thead th {\n",
       "        text-align: right;\n",
       "    }\n",
       "</style>\n",
       "<table border=\"1\" class=\"dataframe\">\n",
       "  <thead>\n",
       "    <tr style=\"text-align: right;\">\n",
       "      <th></th>\n",
       "      <th>author</th>\n",
       "      <th>author_created_utc</th>\n",
       "      <th>body</th>\n",
       "      <th>created_utc</th>\n",
       "      <th>id</th>\n",
       "      <th>link_id</th>\n",
       "      <th>parent_id</th>\n",
       "      <th>parent_id</th>\n",
       "      <th>permalink</th>\n",
       "      <th>retrieved_on</th>\n",
       "      <th>score</th>\n",
       "      <th>created</th>\n",
       "      <th>subreddit</th>\n",
       "      <th>updated_utc</th>\n",
       "      <th>neg</th>\n",
       "      <th>neu</th>\n",
       "      <th>pos</th>\n",
       "      <th>compound</th>\n",
       "    </tr>\n",
       "  </thead>\n",
       "  <tbody>\n",
       "    <tr>\n",
       "      <th>9127</th>\n",
       "      <td>HULKx</td>\n",
       "      <td>1.393546e+09</td>\n",
       "      <td>They aren't allowed to direct hire you for a s...</td>\n",
       "      <td>NaN</td>\n",
       "      <td>NaN</td>\n",
       "      <td>NaN</td>\n",
       "      <td>NaN</td>\n",
       "      <td>NaN</td>\n",
       "      <td>NaN</td>\n",
       "      <td>NaN</td>\n",
       "      <td>NaN</td>\n",
       "      <td>NaN</td>\n",
       "      <td>NaN</td>\n",
       "      <td>NaN</td>\n",
       "      <td>0.0</td>\n",
       "      <td>1.000</td>\n",
       "      <td>0.000</td>\n",
       "      <td>0.0000</td>\n",
       "    </tr>\n",
       "    <tr>\n",
       "      <th>9128</th>\n",
       "      <td>Everything else you described is the same as m...</td>\n",
       "      <td>0.000000e+00</td>\n",
       "      <td>ch8sfvg</td>\n",
       "      <td>1.0</td>\n",
       "      <td>1433637576</td>\n",
       "      <td>3</td>\n",
       "      <td>technews</td>\n",
       "      <td>technews</td>\n",
       "      <td>NaN</td>\n",
       "      <td>1.399171e+09</td>\n",
       "      <td>NaN</td>\n",
       "      <td>NaN</td>\n",
       "      <td>NaN</td>\n",
       "      <td>NaN</td>\n",
       "      <td>0.0</td>\n",
       "      <td>1.000</td>\n",
       "      <td>0.000</td>\n",
       "      <td>0.0000</td>\n",
       "    </tr>\n",
       "    <tr>\n",
       "      <th>54718</th>\n",
       "      <td>delicioussandwiches</td>\n",
       "      <td>1.335201e+09</td>\n",
       "      <td>Reddit is a fantastic source of market trends ...</td>\n",
       "      <td>NaN</td>\n",
       "      <td>NaN</td>\n",
       "      <td>NaN</td>\n",
       "      <td>NaN</td>\n",
       "      <td>NaN</td>\n",
       "      <td>NaN</td>\n",
       "      <td>NaN</td>\n",
       "      <td>NaN</td>\n",
       "      <td>NaN</td>\n",
       "      <td>NaN</td>\n",
       "      <td>NaN</td>\n",
       "      <td>0.0</td>\n",
       "      <td>0.667</td>\n",
       "      <td>0.333</td>\n",
       "      <td>0.7579</td>\n",
       "    </tr>\n",
       "    <tr>\n",
       "      <th>54719</th>\n",
       "      <td>The valuation is based purely on what it could...</td>\n",
       "      <td>0.000000e+00</td>\n",
       "      <td>0</td>\n",
       "      <td>t3_3fbun9</td>\n",
       "      <td>1440220535</td>\n",
       "      <td>1</td>\n",
       "      <td>technews</td>\n",
       "      <td>technews</td>\n",
       "      <td>NaN</td>\n",
       "      <td>1.438463e+09</td>\n",
       "      <td>NaN</td>\n",
       "      <td>NaN</td>\n",
       "      <td>NaN</td>\n",
       "      <td>NaN</td>\n",
       "      <td>0.0</td>\n",
       "      <td>1.000</td>\n",
       "      <td>0.000</td>\n",
       "      <td>0.0000</td>\n",
       "    </tr>\n",
       "  </tbody>\n",
       "</table>\n",
       "</div>"
      ],
      "text/plain": [
       "                                                  author  author_created_utc  \\\n",
       "9127                                               HULKx        1.393546e+09   \n",
       "9128   Everything else you described is the same as m...        0.000000e+00   \n",
       "54718                                delicioussandwiches        1.335201e+09   \n",
       "54719  The valuation is based purely on what it could...        0.000000e+00   \n",
       "\n",
       "                                                    body created_utc  \\\n",
       "9127   They aren't allowed to direct hire you for a s...         NaN   \n",
       "9128                                             ch8sfvg         1.0   \n",
       "54718  Reddit is a fantastic source of market trends ...         NaN   \n",
       "54719                                                  0   t3_3fbun9   \n",
       "\n",
       "               id link_id parent_id parent_id permalink  retrieved_on  score  \\\n",
       "9127          NaN     NaN       NaN       NaN       NaN           NaN    NaN   \n",
       "9128   1433637576       3  technews  technews       NaN  1.399171e+09    NaN   \n",
       "54718         NaN     NaN       NaN       NaN       NaN           NaN    NaN   \n",
       "54719  1440220535       1  technews  technews       NaN  1.438463e+09    NaN   \n",
       "\n",
       "       created subreddit  updated_utc  neg    neu    pos  compound  \n",
       "9127       NaN       NaN          NaN  0.0  1.000  0.000    0.0000  \n",
       "9128       NaN       NaN          NaN  0.0  1.000  0.000    0.0000  \n",
       "54718      NaN       NaN          NaN  0.0  0.667  0.333    0.7579  \n",
       "54719      NaN       NaN          NaN  0.0  1.000  0.000    0.0000  "
      ]
     },
     "execution_count": 41,
     "metadata": {},
     "output_type": "execute_result"
    }
   ],
   "source": [
    "# couple missing scores\n",
    "comments[comments.score.isin([np.nan])]\n",
    "\n",
    "# these are also missing the link_id to connect to the article, so will remove\n",
    "# looks like something in the Pushshift API records miss-aligned the data with fields"
   ]
  },
  {
   "cell_type": "code",
   "execution_count": 42,
   "id": "native-contact",
   "metadata": {},
   "outputs": [
    {
     "data": {
      "text/plain": [
       "(290867, 18)"
      ]
     },
     "execution_count": 42,
     "metadata": {},
     "output_type": "execute_result"
    }
   ],
   "source": [
    "f1_comments = comments[~comments.score.isin([np.nan])]\n",
    "f1_comments.shape"
   ]
  },
  {
   "cell_type": "code",
   "execution_count": 43,
   "id": "attempted-equilibrium",
   "metadata": {},
   "outputs": [
    {
     "data": {
      "text/plain": [
       "6628"
      ]
     },
     "execution_count": 43,
     "metadata": {},
     "output_type": "execute_result"
    }
   ],
   "source": [
    "len(comments[comments['score'] == 0])"
   ]
  },
  {
   "cell_type": "code",
   "execution_count": 44,
   "id": "faced-farming",
   "metadata": {},
   "outputs": [],
   "source": [
    "comments['comment_weight'] = np.where(comments['score'] ==0, comments['score']+1, comments['score'])\n"
   ]
  },
  {
   "cell_type": "code",
   "execution_count": 45,
   "id": "gothic-affiliate",
   "metadata": {},
   "outputs": [
    {
     "data": {
      "text/plain": [
       "6074"
      ]
     },
     "execution_count": 45,
     "metadata": {},
     "output_type": "execute_result"
    }
   ],
   "source": [
    "len(comments[comments['score']<0])"
   ]
  },
  {
   "cell_type": "code",
   "execution_count": 46,
   "id": "fundamental-anaheim",
   "metadata": {},
   "outputs": [
    {
     "data": {
      "text/plain": [
       "(284793, 19)"
      ]
     },
     "execution_count": 46,
     "metadata": {},
     "output_type": "execute_result"
    }
   ],
   "source": [
    "# comments the subreddit community agreed with\n",
    "\n",
    "comm_comments = comments[comments['score'] >=0]\n",
    "comm_comments.shape"
   ]
  },
  {
   "cell_type": "code",
   "execution_count": 47,
   "id": "altered-effect",
   "metadata": {},
   "outputs": [
    {
     "name": "stderr",
     "output_type": "stream",
     "text": [
      "<ipython-input-47-69436d3b2f5f>:4: SettingWithCopyWarning: \n",
      "A value is trying to be set on a copy of a slice from a DataFrame.\n",
      "Try using .loc[row_indexer,col_indexer] = value instead\n",
      "\n",
      "See the caveats in the documentation: https://pandas.pydata.org/pandas-docs/stable/user_guide/indexing.html#returning-a-view-versus-a-copy\n",
      "  comm_comments['sentXwgt'] = comm_comments['compound'] * comm_comments['comment_weight']\n"
     ]
    },
    {
     "data": {
      "text/html": [
       "<div>\n",
       "<style scoped>\n",
       "    .dataframe tbody tr th:only-of-type {\n",
       "        vertical-align: middle;\n",
       "    }\n",
       "\n",
       "    .dataframe tbody tr th {\n",
       "        vertical-align: top;\n",
       "    }\n",
       "\n",
       "    .dataframe thead th {\n",
       "        text-align: right;\n",
       "    }\n",
       "</style>\n",
       "<table border=\"1\" class=\"dataframe\">\n",
       "  <thead>\n",
       "    <tr style=\"text-align: right;\">\n",
       "      <th></th>\n",
       "      <th>author</th>\n",
       "      <th>author_created_utc</th>\n",
       "      <th>body</th>\n",
       "      <th>created_utc</th>\n",
       "      <th>id</th>\n",
       "      <th>link_id</th>\n",
       "      <th>parent_id</th>\n",
       "      <th>parent_id</th>\n",
       "      <th>permalink</th>\n",
       "      <th>retrieved_on</th>\n",
       "      <th>score</th>\n",
       "      <th>created</th>\n",
       "      <th>subreddit</th>\n",
       "      <th>updated_utc</th>\n",
       "      <th>neg</th>\n",
       "      <th>neu</th>\n",
       "      <th>pos</th>\n",
       "      <th>compound</th>\n",
       "      <th>comment_weight</th>\n",
       "      <th>sentXwgt</th>\n",
       "    </tr>\n",
       "  </thead>\n",
       "  <tbody>\n",
       "    <tr>\n",
       "      <th>0</th>\n",
       "      <td>wsxedcrf</td>\n",
       "      <td>1.390431e+09</td>\n",
       "      <td>Sure, something like What's the weather? Set t...</td>\n",
       "      <td>1514775934.0</td>\n",
       "      <td>ds0v85z</td>\n",
       "      <td>t3_7m68fe</td>\n",
       "      <td>t3_7m68fe</td>\n",
       "      <td>t3_7m68fe</td>\n",
       "      <td>/r/technews/comments/7m68fe/46_of_americans_us...</td>\n",
       "      <td>1.517442e+09</td>\n",
       "      <td>1.0</td>\n",
       "      <td>1.514794e+09</td>\n",
       "      <td>technews</td>\n",
       "      <td>NaN</td>\n",
       "      <td>0.060</td>\n",
       "      <td>0.749</td>\n",
       "      <td>0.191</td>\n",
       "      <td>0.5411</td>\n",
       "      <td>1.0</td>\n",
       "      <td>0.5411</td>\n",
       "    </tr>\n",
       "    <tr>\n",
       "      <th>1</th>\n",
       "      <td>SoundDr</td>\n",
       "      <td>1.363845e+09</td>\n",
       "      <td>They are just as bad as patent trolls. I love ...</td>\n",
       "      <td>1514765852.0</td>\n",
       "      <td>ds0nxpm</td>\n",
       "      <td>t3_7n92ka</td>\n",
       "      <td>t1_ds02bc5</td>\n",
       "      <td>t1_ds02bc5</td>\n",
       "      <td>/r/technews/comments/7n92ka/steve_jobs_is_an_i...</td>\n",
       "      <td>1.517436e+09</td>\n",
       "      <td>4.0</td>\n",
       "      <td>1.514784e+09</td>\n",
       "      <td>technews</td>\n",
       "      <td>NaN</td>\n",
       "      <td>0.114</td>\n",
       "      <td>0.749</td>\n",
       "      <td>0.137</td>\n",
       "      <td>0.1779</td>\n",
       "      <td>4.0</td>\n",
       "      <td>0.7116</td>\n",
       "    </tr>\n",
       "    <tr>\n",
       "      <th>2</th>\n",
       "      <td>negativerad</td>\n",
       "      <td>1.265179e+09</td>\n",
       "      <td>Steve Jobs</td>\n",
       "      <td>1514764847.0</td>\n",
       "      <td>ds0n4dz</td>\n",
       "      <td>t3_7n92ka</td>\n",
       "      <td>t1_ds0klv2</td>\n",
       "      <td>t1_ds0klv2</td>\n",
       "      <td>/r/technews/comments/7n92ka/steve_jobs_is_an_i...</td>\n",
       "      <td>1.517433e+09</td>\n",
       "      <td>1.0</td>\n",
       "      <td>1.514783e+09</td>\n",
       "      <td>technews</td>\n",
       "      <td>NaN</td>\n",
       "      <td>0.000</td>\n",
       "      <td>1.000</td>\n",
       "      <td>0.000</td>\n",
       "      <td>0.0000</td>\n",
       "      <td>1.0</td>\n",
       "      <td>0.0000</td>\n",
       "    </tr>\n",
       "    <tr>\n",
       "      <th>3</th>\n",
       "      <td>snapmehummingbirdeb</td>\n",
       "      <td>1.435642e+09</td>\n",
       "      <td>The real question is who would want to wear by...</td>\n",
       "      <td>1514761787.0</td>\n",
       "      <td>ds0klv2</td>\n",
       "      <td>t3_7n92ka</td>\n",
       "      <td>t3_7n92ka</td>\n",
       "      <td>t3_7n92ka</td>\n",
       "      <td>/r/technews/comments/7n92ka/steve_jobs_is_an_i...</td>\n",
       "      <td>1.514762e+09</td>\n",
       "      <td>1.0</td>\n",
       "      <td>1.514780e+09</td>\n",
       "      <td>technews</td>\n",
       "      <td>1.514762e+09</td>\n",
       "      <td>0.000</td>\n",
       "      <td>0.894</td>\n",
       "      <td>0.106</td>\n",
       "      <td>0.0772</td>\n",
       "      <td>1.0</td>\n",
       "      <td>0.0772</td>\n",
       "    </tr>\n",
       "    <tr>\n",
       "      <th>4</th>\n",
       "      <td>autotldr</td>\n",
       "      <td>1.327942e+09</td>\n",
       "      <td>This is the best tl;dr I could make, [original...</td>\n",
       "      <td>1514755490.0</td>\n",
       "      <td>ds0fby8</td>\n",
       "      <td>t3_7l4gfm</td>\n",
       "      <td>t3_7l4gfm</td>\n",
       "      <td>t3_7l4gfm</td>\n",
       "      <td>/r/technews/comments/7l4gfm/want_to_guarantee_...</td>\n",
       "      <td>1.514755e+09</td>\n",
       "      <td>1.0</td>\n",
       "      <td>1.514773e+09</td>\n",
       "      <td>technews</td>\n",
       "      <td>1.514755e+09</td>\n",
       "      <td>0.013</td>\n",
       "      <td>0.836</td>\n",
       "      <td>0.152</td>\n",
       "      <td>0.9601</td>\n",
       "      <td>1.0</td>\n",
       "      <td>0.9601</td>\n",
       "    </tr>\n",
       "  </tbody>\n",
       "</table>\n",
       "</div>"
      ],
      "text/plain": [
       "                author  author_created_utc  \\\n",
       "0             wsxedcrf        1.390431e+09   \n",
       "1              SoundDr        1.363845e+09   \n",
       "2          negativerad        1.265179e+09   \n",
       "3  snapmehummingbirdeb        1.435642e+09   \n",
       "4             autotldr        1.327942e+09   \n",
       "\n",
       "                                                body   created_utc       id  \\\n",
       "0  Sure, something like What's the weather? Set t...  1514775934.0  ds0v85z   \n",
       "1  They are just as bad as patent trolls. I love ...  1514765852.0  ds0nxpm   \n",
       "2                                         Steve Jobs  1514764847.0  ds0n4dz   \n",
       "3  The real question is who would want to wear by...  1514761787.0  ds0klv2   \n",
       "4  This is the best tl;dr I could make, [original...  1514755490.0  ds0fby8   \n",
       "\n",
       "     link_id   parent_id   parent_id  \\\n",
       "0  t3_7m68fe   t3_7m68fe   t3_7m68fe   \n",
       "1  t3_7n92ka  t1_ds02bc5  t1_ds02bc5   \n",
       "2  t3_7n92ka  t1_ds0klv2  t1_ds0klv2   \n",
       "3  t3_7n92ka   t3_7n92ka   t3_7n92ka   \n",
       "4  t3_7l4gfm   t3_7l4gfm   t3_7l4gfm   \n",
       "\n",
       "                                           permalink  retrieved_on  score  \\\n",
       "0  /r/technews/comments/7m68fe/46_of_americans_us...  1.517442e+09    1.0   \n",
       "1  /r/technews/comments/7n92ka/steve_jobs_is_an_i...  1.517436e+09    4.0   \n",
       "2  /r/technews/comments/7n92ka/steve_jobs_is_an_i...  1.517433e+09    1.0   \n",
       "3  /r/technews/comments/7n92ka/steve_jobs_is_an_i...  1.514762e+09    1.0   \n",
       "4  /r/technews/comments/7l4gfm/want_to_guarantee_...  1.514755e+09    1.0   \n",
       "\n",
       "        created subreddit   updated_utc    neg    neu    pos  compound  \\\n",
       "0  1.514794e+09  technews           NaN  0.060  0.749  0.191    0.5411   \n",
       "1  1.514784e+09  technews           NaN  0.114  0.749  0.137    0.1779   \n",
       "2  1.514783e+09  technews           NaN  0.000  1.000  0.000    0.0000   \n",
       "3  1.514780e+09  technews  1.514762e+09  0.000  0.894  0.106    0.0772   \n",
       "4  1.514773e+09  technews  1.514755e+09  0.013  0.836  0.152    0.9601   \n",
       "\n",
       "   comment_weight  sentXwgt  \n",
       "0             1.0    0.5411  \n",
       "1             4.0    0.7116  \n",
       "2             1.0    0.0000  \n",
       "3             1.0    0.0772  \n",
       "4             1.0    0.9601  "
      ]
     },
     "execution_count": 47,
     "metadata": {},
     "output_type": "execute_result"
    }
   ],
   "source": [
    "# add sentiment * comment_weight for each comment\n",
    "# then will do weighted average of sentiment scores\n",
    "\n",
    "comm_comments['sentXwgt'] = comm_comments['compound'] * comm_comments['comment_weight']\n",
    "\n",
    "comm_comments.head()"
   ]
  },
  {
   "cell_type": "code",
   "execution_count": 50,
   "id": "approximate-heading",
   "metadata": {},
   "outputs": [
    {
     "data": {
      "text/html": [
       "<div>\n",
       "<style scoped>\n",
       "    .dataframe tbody tr th:only-of-type {\n",
       "        vertical-align: middle;\n",
       "    }\n",
       "\n",
       "    .dataframe tbody tr th {\n",
       "        vertical-align: top;\n",
       "    }\n",
       "\n",
       "    .dataframe thead th {\n",
       "        text-align: right;\n",
       "    }\n",
       "</style>\n",
       "<table border=\"1\" class=\"dataframe\">\n",
       "  <thead>\n",
       "    <tr style=\"text-align: right;\">\n",
       "      <th></th>\n",
       "      <th>link_id</th>\n",
       "      <th>sentXwgt</th>\n",
       "      <th>comment_weight</th>\n",
       "    </tr>\n",
       "  </thead>\n",
       "  <tbody>\n",
       "    <tr>\n",
       "      <th>0</th>\n",
       "      <td>t3_10sqb1</td>\n",
       "      <td>0.5685</td>\n",
       "      <td>18.0</td>\n",
       "    </tr>\n",
       "    <tr>\n",
       "      <th>1</th>\n",
       "      <td>t3_10tetw</td>\n",
       "      <td>0.0516</td>\n",
       "      <td>3.0</td>\n",
       "    </tr>\n",
       "    <tr>\n",
       "      <th>2</th>\n",
       "      <td>t3_125zd4</td>\n",
       "      <td>0.0000</td>\n",
       "      <td>1.0</td>\n",
       "    </tr>\n",
       "    <tr>\n",
       "      <th>3</th>\n",
       "      <td>t3_127s35</td>\n",
       "      <td>0.2520</td>\n",
       "      <td>1.0</td>\n",
       "    </tr>\n",
       "    <tr>\n",
       "      <th>4</th>\n",
       "      <td>t3_13nytw</td>\n",
       "      <td>0.5255</td>\n",
       "      <td>1.0</td>\n",
       "    </tr>\n",
       "  </tbody>\n",
       "</table>\n",
       "</div>"
      ],
      "text/plain": [
       "     link_id  sentXwgt  comment_weight\n",
       "0  t3_10sqb1    0.5685            18.0\n",
       "1  t3_10tetw    0.0516             3.0\n",
       "2  t3_125zd4    0.0000             1.0\n",
       "3  t3_127s35    0.2520             1.0\n",
       "4  t3_13nytw    0.5255             1.0"
      ]
     },
     "execution_count": 50,
     "metadata": {},
     "output_type": "execute_result"
    }
   ],
   "source": [
    "# aggregate based on link_id\n",
    "\n",
    "agg_linkID = comm_comments.groupby(['link_id']).agg({'sentXwgt': np.sum, 'comment_weight': np.sum}).reset_index()\n",
    "agg_linkID.head()"
   ]
  },
  {
   "cell_type": "code",
   "execution_count": 52,
   "id": "loaded-transportation",
   "metadata": {},
   "outputs": [
    {
     "data": {
      "text/html": [
       "<div>\n",
       "<style scoped>\n",
       "    .dataframe tbody tr th:only-of-type {\n",
       "        vertical-align: middle;\n",
       "    }\n",
       "\n",
       "    .dataframe tbody tr th {\n",
       "        vertical-align: top;\n",
       "    }\n",
       "\n",
       "    .dataframe thead th {\n",
       "        text-align: right;\n",
       "    }\n",
       "</style>\n",
       "<table border=\"1\" class=\"dataframe\">\n",
       "  <thead>\n",
       "    <tr style=\"text-align: right;\">\n",
       "      <th></th>\n",
       "      <th>author</th>\n",
       "      <th>author_created_utc</th>\n",
       "      <th>body</th>\n",
       "      <th>created_utc</th>\n",
       "      <th>id</th>\n",
       "      <th>link_id</th>\n",
       "      <th>parent_id</th>\n",
       "      <th>parent_id</th>\n",
       "      <th>permalink</th>\n",
       "      <th>retrieved_on</th>\n",
       "      <th>score</th>\n",
       "      <th>created</th>\n",
       "      <th>subreddit</th>\n",
       "      <th>updated_utc</th>\n",
       "      <th>neg</th>\n",
       "      <th>neu</th>\n",
       "      <th>pos</th>\n",
       "      <th>compound</th>\n",
       "      <th>comment_weight</th>\n",
       "      <th>sentXwgt</th>\n",
       "    </tr>\n",
       "  </thead>\n",
       "  <tbody>\n",
       "    <tr>\n",
       "      <th>290848</th>\n",
       "      <td>Zilveari</td>\n",
       "      <td>1.348154e+09</td>\n",
       "      <td>Wow... I'm screwing every post up today... thi...</td>\n",
       "      <td>1349193880</td>\n",
       "      <td>c6gi61z</td>\n",
       "      <td>t3_10tetw</td>\n",
       "      <td>t3_10tetw</td>\n",
       "      <td>t3_10tetw</td>\n",
       "      <td>NaN</td>\n",
       "      <td>1.430044e+09</td>\n",
       "      <td>1.0</td>\n",
       "      <td>1.349212e+09</td>\n",
       "      <td>technews</td>\n",
       "      <td>NaN</td>\n",
       "      <td>0.154</td>\n",
       "      <td>0.742</td>\n",
       "      <td>0.104</td>\n",
       "      <td>0.0516</td>\n",
       "      <td>1.0</td>\n",
       "      <td>0.0516</td>\n",
       "    </tr>\n",
       "    <tr>\n",
       "      <th>290849</th>\n",
       "      <td>inspired2apathy</td>\n",
       "      <td>1.222228e+09</td>\n",
       "      <td>link?</td>\n",
       "      <td>1349193643</td>\n",
       "      <td>c6gi3nd</td>\n",
       "      <td>t3_10tetw</td>\n",
       "      <td>t3_10tetw</td>\n",
       "      <td>t3_10tetw</td>\n",
       "      <td>NaN</td>\n",
       "      <td>1.430044e+09</td>\n",
       "      <td>2.0</td>\n",
       "      <td>1.349212e+09</td>\n",
       "      <td>technews</td>\n",
       "      <td>NaN</td>\n",
       "      <td>0.000</td>\n",
       "      <td>1.000</td>\n",
       "      <td>0.000</td>\n",
       "      <td>0.0000</td>\n",
       "      <td>2.0</td>\n",
       "      <td>0.0000</td>\n",
       "    </tr>\n",
       "  </tbody>\n",
       "</table>\n",
       "</div>"
      ],
      "text/plain": [
       "                 author  author_created_utc  \\\n",
       "290848         Zilveari        1.348154e+09   \n",
       "290849  inspired2apathy        1.222228e+09   \n",
       "\n",
       "                                                     body created_utc  \\\n",
       "290848  Wow... I'm screwing every post up today... thi...  1349193880   \n",
       "290849                                              link?  1349193643   \n",
       "\n",
       "             id    link_id  parent_id  parent_id permalink  retrieved_on  \\\n",
       "290848  c6gi61z  t3_10tetw  t3_10tetw  t3_10tetw       NaN  1.430044e+09   \n",
       "290849  c6gi3nd  t3_10tetw  t3_10tetw  t3_10tetw       NaN  1.430044e+09   \n",
       "\n",
       "        score       created subreddit  updated_utc    neg    neu    pos  \\\n",
       "290848    1.0  1.349212e+09  technews          NaN  0.154  0.742  0.104   \n",
       "290849    2.0  1.349212e+09  technews          NaN  0.000  1.000  0.000   \n",
       "\n",
       "        compound  comment_weight  sentXwgt  \n",
       "290848    0.0516             1.0    0.0516  \n",
       "290849    0.0000             2.0    0.0000  "
      ]
     },
     "execution_count": 52,
     "metadata": {},
     "output_type": "execute_result"
    }
   ],
   "source": [
    "comm_comments[comm_comments['link_id']=='t3_10tetw']"
   ]
  },
  {
   "cell_type": "code",
   "execution_count": 54,
   "id": "spanish-attendance",
   "metadata": {},
   "outputs": [
    {
     "data": {
      "text/html": [
       "<div>\n",
       "<style scoped>\n",
       "    .dataframe tbody tr th:only-of-type {\n",
       "        vertical-align: middle;\n",
       "    }\n",
       "\n",
       "    .dataframe tbody tr th {\n",
       "        vertical-align: top;\n",
       "    }\n",
       "\n",
       "    .dataframe thead th {\n",
       "        text-align: right;\n",
       "    }\n",
       "</style>\n",
       "<table border=\"1\" class=\"dataframe\">\n",
       "  <thead>\n",
       "    <tr style=\"text-align: right;\">\n",
       "      <th></th>\n",
       "      <th>link_id</th>\n",
       "      <th>sentXwgt</th>\n",
       "      <th>comment_weight</th>\n",
       "      <th>wgt_avg_sent</th>\n",
       "    </tr>\n",
       "  </thead>\n",
       "  <tbody>\n",
       "    <tr>\n",
       "      <th>0</th>\n",
       "      <td>t3_10sqb1</td>\n",
       "      <td>0.5685</td>\n",
       "      <td>18.0</td>\n",
       "      <td>0.031583</td>\n",
       "    </tr>\n",
       "    <tr>\n",
       "      <th>1</th>\n",
       "      <td>t3_10tetw</td>\n",
       "      <td>0.0516</td>\n",
       "      <td>3.0</td>\n",
       "      <td>0.017200</td>\n",
       "    </tr>\n",
       "    <tr>\n",
       "      <th>2</th>\n",
       "      <td>t3_125zd4</td>\n",
       "      <td>0.0000</td>\n",
       "      <td>1.0</td>\n",
       "      <td>0.000000</td>\n",
       "    </tr>\n",
       "    <tr>\n",
       "      <th>3</th>\n",
       "      <td>t3_127s35</td>\n",
       "      <td>0.2520</td>\n",
       "      <td>1.0</td>\n",
       "      <td>0.252000</td>\n",
       "    </tr>\n",
       "    <tr>\n",
       "      <th>4</th>\n",
       "      <td>t3_13nytw</td>\n",
       "      <td>0.5255</td>\n",
       "      <td>1.0</td>\n",
       "      <td>0.525500</td>\n",
       "    </tr>\n",
       "  </tbody>\n",
       "</table>\n",
       "</div>"
      ],
      "text/plain": [
       "     link_id  sentXwgt  comment_weight  wgt_avg_sent\n",
       "0  t3_10sqb1    0.5685            18.0      0.031583\n",
       "1  t3_10tetw    0.0516             3.0      0.017200\n",
       "2  t3_125zd4    0.0000             1.0      0.000000\n",
       "3  t3_127s35    0.2520             1.0      0.252000\n",
       "4  t3_13nytw    0.5255             1.0      0.525500"
      ]
     },
     "execution_count": 54,
     "metadata": {},
     "output_type": "execute_result"
    }
   ],
   "source": [
    "agg_linkID['wgt_avg_sent'] = agg_linkID['sentXwgt'] / agg_linkID['comment_weight']\n",
    "\n",
    "agg_linkID.head()"
   ]
  },
  {
   "cell_type": "code",
   "execution_count": 55,
   "id": "binding-feedback",
   "metadata": {},
   "outputs": [
    {
     "data": {
      "text/html": [
       "<div>\n",
       "<style scoped>\n",
       "    .dataframe tbody tr th:only-of-type {\n",
       "        vertical-align: middle;\n",
       "    }\n",
       "\n",
       "    .dataframe tbody tr th {\n",
       "        vertical-align: top;\n",
       "    }\n",
       "\n",
       "    .dataframe thead th {\n",
       "        text-align: right;\n",
       "    }\n",
       "</style>\n",
       "<table border=\"1\" class=\"dataframe\">\n",
       "  <thead>\n",
       "    <tr style=\"text-align: right;\">\n",
       "      <th></th>\n",
       "      <th>link_id</th>\n",
       "      <th>sentXwgt</th>\n",
       "      <th>comment_weight</th>\n",
       "      <th>wgt_avg_sent</th>\n",
       "      <th>post_id</th>\n",
       "    </tr>\n",
       "  </thead>\n",
       "  <tbody>\n",
       "    <tr>\n",
       "      <th>0</th>\n",
       "      <td>t3_10sqb1</td>\n",
       "      <td>0.5685</td>\n",
       "      <td>18.0</td>\n",
       "      <td>0.031583</td>\n",
       "      <td>10sqb1</td>\n",
       "    </tr>\n",
       "    <tr>\n",
       "      <th>1</th>\n",
       "      <td>t3_10tetw</td>\n",
       "      <td>0.0516</td>\n",
       "      <td>3.0</td>\n",
       "      <td>0.017200</td>\n",
       "      <td>10tetw</td>\n",
       "    </tr>\n",
       "    <tr>\n",
       "      <th>2</th>\n",
       "      <td>t3_125zd4</td>\n",
       "      <td>0.0000</td>\n",
       "      <td>1.0</td>\n",
       "      <td>0.000000</td>\n",
       "      <td>125zd4</td>\n",
       "    </tr>\n",
       "    <tr>\n",
       "      <th>3</th>\n",
       "      <td>t3_127s35</td>\n",
       "      <td>0.2520</td>\n",
       "      <td>1.0</td>\n",
       "      <td>0.252000</td>\n",
       "      <td>127s35</td>\n",
       "    </tr>\n",
       "    <tr>\n",
       "      <th>4</th>\n",
       "      <td>t3_13nytw</td>\n",
       "      <td>0.5255</td>\n",
       "      <td>1.0</td>\n",
       "      <td>0.525500</td>\n",
       "      <td>13nytw</td>\n",
       "    </tr>\n",
       "  </tbody>\n",
       "</table>\n",
       "</div>"
      ],
      "text/plain": [
       "     link_id  sentXwgt  comment_weight  wgt_avg_sent post_id\n",
       "0  t3_10sqb1    0.5685            18.0      0.031583  10sqb1\n",
       "1  t3_10tetw    0.0516             3.0      0.017200  10tetw\n",
       "2  t3_125zd4    0.0000             1.0      0.000000  125zd4\n",
       "3  t3_127s35    0.2520             1.0      0.252000  127s35\n",
       "4  t3_13nytw    0.5255             1.0      0.525500  13nytw"
      ]
     },
     "execution_count": 55,
     "metadata": {},
     "output_type": "execute_result"
    }
   ],
   "source": [
    "agg_linkID['post_id'] = agg_linkID['link_id'].str[3:]\n",
    "\n",
    "agg_linkID.head()"
   ]
  },
  {
   "cell_type": "code",
   "execution_count": 56,
   "id": "empty-course",
   "metadata": {},
   "outputs": [
    {
     "data": {
      "text/plain": [
       "(10110, 5)"
      ]
     },
     "execution_count": 56,
     "metadata": {},
     "output_type": "execute_result"
    }
   ],
   "source": [
    "# posts with comments\n",
    "agg_linkID.shape"
   ]
  },
  {
   "cell_type": "code",
   "execution_count": null,
   "id": "mathematical-client",
   "metadata": {},
   "outputs": [],
   "source": [
    "##########################"
   ]
  },
  {
   "cell_type": "code",
   "execution_count": 57,
   "id": "macro-warrior",
   "metadata": {},
   "outputs": [
    {
     "data": {
      "text/html": [
       "<div>\n",
       "<style scoped>\n",
       "    .dataframe tbody tr th:only-of-type {\n",
       "        vertical-align: middle;\n",
       "    }\n",
       "\n",
       "    .dataframe tbody tr th {\n",
       "        vertical-align: top;\n",
       "    }\n",
       "\n",
       "    .dataframe thead th {\n",
       "        text-align: right;\n",
       "    }\n",
       "</style>\n",
       "<table border=\"1\" class=\"dataframe\">\n",
       "  <thead>\n",
       "    <tr style=\"text-align: right;\">\n",
       "      <th></th>\n",
       "      <th>index</th>\n",
       "      <th>id</th>\n",
       "      <th>created_utc</th>\n",
       "      <th>date_time</th>\n",
       "      <th>author</th>\n",
       "      <th>author_fullname</th>\n",
       "      <th>title</th>\n",
       "      <th>url</th>\n",
       "      <th>domain</th>\n",
       "      <th>num_comments</th>\n",
       "      <th>...</th>\n",
       "      <th>C_10</th>\n",
       "      <th>C_11</th>\n",
       "      <th>C_12</th>\n",
       "      <th>C_13</th>\n",
       "      <th>C_14</th>\n",
       "      <th>C_15</th>\n",
       "      <th>C_16</th>\n",
       "      <th>C_17</th>\n",
       "      <th>C_18</th>\n",
       "      <th>C_19</th>\n",
       "    </tr>\n",
       "  </thead>\n",
       "  <tbody>\n",
       "    <tr>\n",
       "      <th>0</th>\n",
       "      <td>0</td>\n",
       "      <td>29j6ov</td>\n",
       "      <td>1404184792</td>\n",
       "      <td>2014-07-01 03:19:52</td>\n",
       "      <td>Password_is_123456</td>\n",
       "      <td>t2_6crtu</td>\n",
       "      <td>New leaks show off the iPhone 6's curved edged...</td>\n",
       "      <td>http://www.cnet.com/news/new-leaks-show-off-up...</td>\n",
       "      <td>cnet.com</td>\n",
       "      <td>0</td>\n",
       "      <td>...</td>\n",
       "      <td>0.00000</td>\n",
       "      <td>0.15604</td>\n",
       "      <td>0.00000</td>\n",
       "      <td>0.00000</td>\n",
       "      <td>0.00526</td>\n",
       "      <td>0.00000</td>\n",
       "      <td>0.00000</td>\n",
       "      <td>0.00000</td>\n",
       "      <td>0.00000</td>\n",
       "      <td>0.00000</td>\n",
       "    </tr>\n",
       "    <tr>\n",
       "      <th>1</th>\n",
       "      <td>1</td>\n",
       "      <td>29j6op</td>\n",
       "      <td>1404184791</td>\n",
       "      <td>2014-07-01 03:19:51</td>\n",
       "      <td>Password_is_123456</td>\n",
       "      <td>t2_6crtu</td>\n",
       "      <td>Millions of dynamic DNS users suffer after Mic...</td>\n",
       "      <td>http://arstechnica.com/security/2014/06/millio...</td>\n",
       "      <td>arstechnica.com</td>\n",
       "      <td>6</td>\n",
       "      <td>...</td>\n",
       "      <td>0.00009</td>\n",
       "      <td>0.00170</td>\n",
       "      <td>0.00000</td>\n",
       "      <td>0.18426</td>\n",
       "      <td>0.00000</td>\n",
       "      <td>0.00000</td>\n",
       "      <td>0.01007</td>\n",
       "      <td>0.00000</td>\n",
       "      <td>0.00000</td>\n",
       "      <td>0.00000</td>\n",
       "    </tr>\n",
       "    <tr>\n",
       "      <th>2</th>\n",
       "      <td>2</td>\n",
       "      <td>29j2c1</td>\n",
       "      <td>1404181722</td>\n",
       "      <td>2014-07-01 02:28:42</td>\n",
       "      <td>[deleted]</td>\n",
       "      <td>NaN</td>\n",
       "      <td>Paypal Freezes ProtonMail Campaign Funds</td>\n",
       "      <td>https://protonmail.ch/blog/paypal-freezes-prot...</td>\n",
       "      <td>protonmail.ch</td>\n",
       "      <td>0</td>\n",
       "      <td>...</td>\n",
       "      <td>0.00056</td>\n",
       "      <td>0.00000</td>\n",
       "      <td>0.00039</td>\n",
       "      <td>0.00055</td>\n",
       "      <td>0.00004</td>\n",
       "      <td>0.00029</td>\n",
       "      <td>0.00098</td>\n",
       "      <td>0.00075</td>\n",
       "      <td>0.00047</td>\n",
       "      <td>0.00028</td>\n",
       "    </tr>\n",
       "    <tr>\n",
       "      <th>3</th>\n",
       "      <td>3</td>\n",
       "      <td>29hy6f</td>\n",
       "      <td>1404156644</td>\n",
       "      <td>2014-06-30 19:30:44</td>\n",
       "      <td>ANIMAL_NewYork</td>\n",
       "      <td>t2_h1mjr</td>\n",
       "      <td>UNETHICAL FACEBOOK “EMOTIONAL CONTAGION” STUDY...</td>\n",
       "      <td>http://animalnewyork.com/2014/facebook-emotion...</td>\n",
       "      <td>animalnewyork.com</td>\n",
       "      <td>0</td>\n",
       "      <td>...</td>\n",
       "      <td>0.00247</td>\n",
       "      <td>0.00000</td>\n",
       "      <td>0.00027</td>\n",
       "      <td>0.00000</td>\n",
       "      <td>0.00000</td>\n",
       "      <td>0.00608</td>\n",
       "      <td>0.00429</td>\n",
       "      <td>0.00000</td>\n",
       "      <td>0.00329</td>\n",
       "      <td>0.00321</td>\n",
       "    </tr>\n",
       "    <tr>\n",
       "      <th>4</th>\n",
       "      <td>4</td>\n",
       "      <td>29hvyr</td>\n",
       "      <td>1404155395</td>\n",
       "      <td>2014-06-30 19:09:55</td>\n",
       "      <td>Password_is_123456</td>\n",
       "      <td>t2_6crtu</td>\n",
       "      <td>Microsoft May Prioritize The Desktop In Windows 9</td>\n",
       "      <td>http://techcrunch.com/2014/06/30/microsoft-may...</td>\n",
       "      <td>techcrunch.com</td>\n",
       "      <td>23</td>\n",
       "      <td>...</td>\n",
       "      <td>0.00000</td>\n",
       "      <td>0.00000</td>\n",
       "      <td>0.00000</td>\n",
       "      <td>0.18218</td>\n",
       "      <td>0.00000</td>\n",
       "      <td>0.00000</td>\n",
       "      <td>0.00000</td>\n",
       "      <td>0.00000</td>\n",
       "      <td>0.00000</td>\n",
       "      <td>0.00000</td>\n",
       "    </tr>\n",
       "  </tbody>\n",
       "</table>\n",
       "<p>5 rows × 41 columns</p>\n",
       "</div>"
      ],
      "text/plain": [
       "   index      id  created_utc           date_time              author  \\\n",
       "0      0  29j6ov   1404184792 2014-07-01 03:19:52  Password_is_123456   \n",
       "1      1  29j6op   1404184791 2014-07-01 03:19:51  Password_is_123456   \n",
       "2      2  29j2c1   1404181722 2014-07-01 02:28:42           [deleted]   \n",
       "3      3  29hy6f   1404156644 2014-06-30 19:30:44      ANIMAL_NewYork   \n",
       "4      4  29hvyr   1404155395 2014-06-30 19:09:55  Password_is_123456   \n",
       "\n",
       "  author_fullname                                              title  \\\n",
       "0        t2_6crtu  New leaks show off the iPhone 6's curved edged...   \n",
       "1        t2_6crtu  Millions of dynamic DNS users suffer after Mic...   \n",
       "2             NaN           Paypal Freezes ProtonMail Campaign Funds   \n",
       "3        t2_h1mjr  UNETHICAL FACEBOOK “EMOTIONAL CONTAGION” STUDY...   \n",
       "4        t2_6crtu  Microsoft May Prioritize The Desktop In Windows 9   \n",
       "\n",
       "                                                 url             domain  \\\n",
       "0  http://www.cnet.com/news/new-leaks-show-off-up...           cnet.com   \n",
       "1  http://arstechnica.com/security/2014/06/millio...    arstechnica.com   \n",
       "2  https://protonmail.ch/blog/paypal-freezes-prot...      protonmail.ch   \n",
       "3  http://animalnewyork.com/2014/facebook-emotion...  animalnewyork.com   \n",
       "4  http://techcrunch.com/2014/06/30/microsoft-may...     techcrunch.com   \n",
       "\n",
       "   num_comments  ...     C_10     C_11     C_12     C_13     C_14     C_15  \\\n",
       "0             0  ...  0.00000  0.15604  0.00000  0.00000  0.00526  0.00000   \n",
       "1             6  ...  0.00009  0.00170  0.00000  0.18426  0.00000  0.00000   \n",
       "2             0  ...  0.00056  0.00000  0.00039  0.00055  0.00004  0.00029   \n",
       "3             0  ...  0.00247  0.00000  0.00027  0.00000  0.00000  0.00608   \n",
       "4            23  ...  0.00000  0.00000  0.00000  0.18218  0.00000  0.00000   \n",
       "\n",
       "      C_16     C_17     C_18     C_19  \n",
       "0  0.00000  0.00000  0.00000  0.00000  \n",
       "1  0.01007  0.00000  0.00000  0.00000  \n",
       "2  0.00098  0.00075  0.00047  0.00028  \n",
       "3  0.00429  0.00000  0.00329  0.00321  \n",
       "4  0.00000  0.00000  0.00000  0.00000  \n",
       "\n",
       "[5 rows x 41 columns]"
      ]
     },
     "execution_count": 57,
     "metadata": {},
     "output_type": "execute_result"
    }
   ],
   "source": [
    "#match to articles and article topic assignment\n",
    "\n",
    "with open('cv_nmf_topics_posts2.pickle', 'rb') as read_file:\n",
    "    posts = pickle.load(read_file)\n",
    "    \n",
    "posts.head()\n"
   ]
  },
  {
   "cell_type": "code",
   "execution_count": 58,
   "id": "fleet-scientist",
   "metadata": {},
   "outputs": [
    {
     "data": {
      "text/plain": [
       "(48082, 41)"
      ]
     },
     "execution_count": 58,
     "metadata": {},
     "output_type": "execute_result"
    }
   ],
   "source": [
    "posts.shape"
   ]
  },
  {
   "cell_type": "code",
   "execution_count": 59,
   "id": "assured-inclusion",
   "metadata": {},
   "outputs": [
    {
     "data": {
      "text/plain": [
       "37484"
      ]
     },
     "execution_count": 59,
     "metadata": {},
     "output_type": "execute_result"
    }
   ],
   "source": [
    "len(posts[posts.num_comments == 0])"
   ]
  },
  {
   "cell_type": "code",
   "execution_count": 62,
   "id": "artistic-lotus",
   "metadata": {},
   "outputs": [
    {
     "data": {
      "text/plain": [
       "Index(['index', 'id', 'created_utc', 'date_time', 'author', 'author_fullname',\n",
       "       'title', 'url', 'domain', 'num_comments', 'score', 'permalink',\n",
       "       'full_link', 'refine_title', 'preproc_title', 'unstemmed', 'stem_title',\n",
       "       'processed_title', 'title_nouns', 'post_topic_nmf', 'title_nouns',\n",
       "       'C_0', 'C_1', 'C_2', 'C_3', 'C_4', 'C_5', 'C_6', 'C_7', 'C_8', 'C_9',\n",
       "       'C_10', 'C_11', 'C_12', 'C_13', 'C_14', 'C_15', 'C_16', 'C_17', 'C_18',\n",
       "       'C_19'],\n",
       "      dtype='object')"
      ]
     },
     "execution_count": 62,
     "metadata": {},
     "output_type": "execute_result"
    }
   ],
   "source": [
    "posts.columns"
   ]
  },
  {
   "cell_type": "code",
   "execution_count": 65,
   "id": "filled-payroll",
   "metadata": {},
   "outputs": [
    {
     "data": {
      "text/html": [
       "<div>\n",
       "<style scoped>\n",
       "    .dataframe tbody tr th:only-of-type {\n",
       "        vertical-align: middle;\n",
       "    }\n",
       "\n",
       "    .dataframe tbody tr th {\n",
       "        vertical-align: top;\n",
       "    }\n",
       "\n",
       "    .dataframe thead th {\n",
       "        text-align: right;\n",
       "    }\n",
       "</style>\n",
       "<table border=\"1\" class=\"dataframe\">\n",
       "  <thead>\n",
       "    <tr style=\"text-align: right;\">\n",
       "      <th></th>\n",
       "      <th>index</th>\n",
       "      <th>id</th>\n",
       "      <th>created_utc</th>\n",
       "      <th>date_time</th>\n",
       "      <th>author</th>\n",
       "      <th>author_fullname</th>\n",
       "      <th>title</th>\n",
       "      <th>url</th>\n",
       "      <th>domain</th>\n",
       "      <th>num_comments</th>\n",
       "      <th>...</th>\n",
       "      <th>C_10</th>\n",
       "      <th>C_11</th>\n",
       "      <th>C_12</th>\n",
       "      <th>C_13</th>\n",
       "      <th>C_14</th>\n",
       "      <th>C_15</th>\n",
       "      <th>C_16</th>\n",
       "      <th>C_17</th>\n",
       "      <th>C_18</th>\n",
       "      <th>C_19</th>\n",
       "    </tr>\n",
       "  </thead>\n",
       "  <tbody>\n",
       "    <tr>\n",
       "      <th>42167</th>\n",
       "      <td>24</td>\n",
       "      <td>10sqb1</td>\n",
       "      <td>1349147284</td>\n",
       "      <td>2012-10-02 03:08:04</td>\n",
       "      <td>zacksm693</td>\n",
       "      <td>t2_6xgkk</td>\n",
       "      <td>A human-like FEMALE ANDROID ROBOT made in Japan</td>\n",
       "      <td>http://splittingmythoughtsinto2.blogspot.sg/20...</td>\n",
       "      <td>splittingmythoughtsinto2.blogspot.sg</td>\n",
       "      <td>9</td>\n",
       "      <td>...</td>\n",
       "      <td>0.0</td>\n",
       "      <td>0.0</td>\n",
       "      <td>0.00102</td>\n",
       "      <td>0.0</td>\n",
       "      <td>0.0</td>\n",
       "      <td>0.00483</td>\n",
       "      <td>0.0</td>\n",
       "      <td>0.0</td>\n",
       "      <td>0.00037</td>\n",
       "      <td>0.0</td>\n",
       "    </tr>\n",
       "  </tbody>\n",
       "</table>\n",
       "<p>1 rows × 41 columns</p>\n",
       "</div>"
      ],
      "text/plain": [
       "       index      id  created_utc           date_time     author  \\\n",
       "42167     24  10sqb1   1349147284 2012-10-02 03:08:04  zacksm693   \n",
       "\n",
       "      author_fullname                                            title  \\\n",
       "42167        t2_6xgkk  A human-like FEMALE ANDROID ROBOT made in Japan   \n",
       "\n",
       "                                                     url  \\\n",
       "42167  http://splittingmythoughtsinto2.blogspot.sg/20...   \n",
       "\n",
       "                                     domain  num_comments  ...  C_10 C_11  \\\n",
       "42167  splittingmythoughtsinto2.blogspot.sg             9  ...   0.0  0.0   \n",
       "\n",
       "          C_12 C_13 C_14     C_15 C_16 C_17     C_18  C_19  \n",
       "42167  0.00102  0.0  0.0  0.00483  0.0  0.0  0.00037   0.0  \n",
       "\n",
       "[1 rows x 41 columns]"
      ]
     },
     "execution_count": 65,
     "metadata": {},
     "output_type": "execute_result"
    }
   ],
   "source": [
    "# checking a few instances of link_id in comments data with id of post\n",
    "posts[posts['id']=='10sqb1']"
   ]
  },
  {
   "cell_type": "code",
   "execution_count": 64,
   "id": "equipped-silence",
   "metadata": {},
   "outputs": [
    {
     "data": {
      "text/html": [
       "<div>\n",
       "<style scoped>\n",
       "    .dataframe tbody tr th:only-of-type {\n",
       "        vertical-align: middle;\n",
       "    }\n",
       "\n",
       "    .dataframe tbody tr th {\n",
       "        vertical-align: top;\n",
       "    }\n",
       "\n",
       "    .dataframe thead th {\n",
       "        text-align: right;\n",
       "    }\n",
       "</style>\n",
       "<table border=\"1\" class=\"dataframe\">\n",
       "  <thead>\n",
       "    <tr style=\"text-align: right;\">\n",
       "      <th></th>\n",
       "      <th>index</th>\n",
       "      <th>id</th>\n",
       "      <th>created_utc</th>\n",
       "      <th>date_time</th>\n",
       "      <th>author</th>\n",
       "      <th>author_fullname</th>\n",
       "      <th>title</th>\n",
       "      <th>url</th>\n",
       "      <th>domain</th>\n",
       "      <th>num_comments</th>\n",
       "      <th>...</th>\n",
       "      <th>C_10</th>\n",
       "      <th>C_11</th>\n",
       "      <th>C_12</th>\n",
       "      <th>C_13</th>\n",
       "      <th>C_14</th>\n",
       "      <th>C_15</th>\n",
       "      <th>C_16</th>\n",
       "      <th>C_17</th>\n",
       "      <th>C_18</th>\n",
       "      <th>C_19</th>\n",
       "    </tr>\n",
       "  </thead>\n",
       "  <tbody>\n",
       "    <tr>\n",
       "      <th>42153</th>\n",
       "      <td>9</td>\n",
       "      <td>13nytw</td>\n",
       "      <td>1353675368</td>\n",
       "      <td>2012-11-23 12:56:08</td>\n",
       "      <td>venturepro</td>\n",
       "      <td>t2_9orr7</td>\n",
       "      <td>The million euro question for startups: did yo...</td>\n",
       "      <td>http://www.whiteboardmag.com/startups-create-l...</td>\n",
       "      <td>whiteboardmag.com</td>\n",
       "      <td>1</td>\n",
       "      <td>...</td>\n",
       "      <td>0.0122</td>\n",
       "      <td>0.0</td>\n",
       "      <td>0.0</td>\n",
       "      <td>0.00125</td>\n",
       "      <td>0.0</td>\n",
       "      <td>0.00268</td>\n",
       "      <td>0.00035</td>\n",
       "      <td>0.00994</td>\n",
       "      <td>0.00255</td>\n",
       "      <td>0.00543</td>\n",
       "    </tr>\n",
       "  </tbody>\n",
       "</table>\n",
       "<p>1 rows × 41 columns</p>\n",
       "</div>"
      ],
      "text/plain": [
       "       index      id  created_utc           date_time      author  \\\n",
       "42153      9  13nytw   1353675368 2012-11-23 12:56:08  venturepro   \n",
       "\n",
       "      author_fullname                                              title  \\\n",
       "42153        t2_9orr7  The million euro question for startups: did yo...   \n",
       "\n",
       "                                                     url             domain  \\\n",
       "42153  http://www.whiteboardmag.com/startups-create-l...  whiteboardmag.com   \n",
       "\n",
       "       num_comments  ...    C_10 C_11 C_12     C_13 C_14     C_15     C_16  \\\n",
       "42153             1  ...  0.0122  0.0  0.0  0.00125  0.0  0.00268  0.00035   \n",
       "\n",
       "          C_17     C_18     C_19  \n",
       "42153  0.00994  0.00255  0.00543  \n",
       "\n",
       "[1 rows x 41 columns]"
      ]
     },
     "execution_count": 64,
     "metadata": {},
     "output_type": "execute_result"
    }
   ],
   "source": [
    "posts[posts['id']=='13nytw']"
   ]
  },
  {
   "cell_type": "code",
   "execution_count": 72,
   "id": "cordless-piano",
   "metadata": {},
   "outputs": [
    {
     "data": {
      "text/html": [
       "<div>\n",
       "<style scoped>\n",
       "    .dataframe tbody tr th:only-of-type {\n",
       "        vertical-align: middle;\n",
       "    }\n",
       "\n",
       "    .dataframe tbody tr th {\n",
       "        vertical-align: top;\n",
       "    }\n",
       "\n",
       "    .dataframe thead th {\n",
       "        text-align: right;\n",
       "    }\n",
       "</style>\n",
       "<table border=\"1\" class=\"dataframe\">\n",
       "  <thead>\n",
       "    <tr style=\"text-align: right;\">\n",
       "      <th></th>\n",
       "      <th>index</th>\n",
       "      <th>id</th>\n",
       "      <th>created_utc</th>\n",
       "      <th>date_time</th>\n",
       "      <th>author</th>\n",
       "      <th>author_fullname</th>\n",
       "      <th>title</th>\n",
       "      <th>url</th>\n",
       "      <th>domain</th>\n",
       "      <th>num_comments</th>\n",
       "      <th>...</th>\n",
       "      <th>C_12</th>\n",
       "      <th>C_13</th>\n",
       "      <th>C_14</th>\n",
       "      <th>C_15</th>\n",
       "      <th>C_16</th>\n",
       "      <th>C_17</th>\n",
       "      <th>C_18</th>\n",
       "      <th>C_19</th>\n",
       "      <th>post_id</th>\n",
       "      <th>wgt_avg_sent</th>\n",
       "    </tr>\n",
       "  </thead>\n",
       "  <tbody>\n",
       "    <tr>\n",
       "      <th>0</th>\n",
       "      <td>0</td>\n",
       "      <td>29j6ov</td>\n",
       "      <td>1404184792</td>\n",
       "      <td>2014-07-01 03:19:52</td>\n",
       "      <td>Password_is_123456</td>\n",
       "      <td>t2_6crtu</td>\n",
       "      <td>New leaks show off the iPhone 6's curved edged...</td>\n",
       "      <td>http://www.cnet.com/news/new-leaks-show-off-up...</td>\n",
       "      <td>cnet.com</td>\n",
       "      <td>0</td>\n",
       "      <td>...</td>\n",
       "      <td>0.00000</td>\n",
       "      <td>0.00000</td>\n",
       "      <td>0.00526</td>\n",
       "      <td>0.00000</td>\n",
       "      <td>0.00000</td>\n",
       "      <td>0.00000</td>\n",
       "      <td>0.00000</td>\n",
       "      <td>0.00000</td>\n",
       "      <td>NaN</td>\n",
       "      <td>NaN</td>\n",
       "    </tr>\n",
       "    <tr>\n",
       "      <th>1</th>\n",
       "      <td>1</td>\n",
       "      <td>29j6op</td>\n",
       "      <td>1404184791</td>\n",
       "      <td>2014-07-01 03:19:51</td>\n",
       "      <td>Password_is_123456</td>\n",
       "      <td>t2_6crtu</td>\n",
       "      <td>Millions of dynamic DNS users suffer after Mic...</td>\n",
       "      <td>http://arstechnica.com/security/2014/06/millio...</td>\n",
       "      <td>arstechnica.com</td>\n",
       "      <td>6</td>\n",
       "      <td>...</td>\n",
       "      <td>0.00000</td>\n",
       "      <td>0.18426</td>\n",
       "      <td>0.00000</td>\n",
       "      <td>0.00000</td>\n",
       "      <td>0.01007</td>\n",
       "      <td>0.00000</td>\n",
       "      <td>0.00000</td>\n",
       "      <td>0.00000</td>\n",
       "      <td>29j6op</td>\n",
       "      <td>0.155025</td>\n",
       "    </tr>\n",
       "    <tr>\n",
       "      <th>2</th>\n",
       "      <td>2</td>\n",
       "      <td>29j2c1</td>\n",
       "      <td>1404181722</td>\n",
       "      <td>2014-07-01 02:28:42</td>\n",
       "      <td>[deleted]</td>\n",
       "      <td>NaN</td>\n",
       "      <td>Paypal Freezes ProtonMail Campaign Funds</td>\n",
       "      <td>https://protonmail.ch/blog/paypal-freezes-prot...</td>\n",
       "      <td>protonmail.ch</td>\n",
       "      <td>0</td>\n",
       "      <td>...</td>\n",
       "      <td>0.00039</td>\n",
       "      <td>0.00055</td>\n",
       "      <td>0.00004</td>\n",
       "      <td>0.00029</td>\n",
       "      <td>0.00098</td>\n",
       "      <td>0.00075</td>\n",
       "      <td>0.00047</td>\n",
       "      <td>0.00028</td>\n",
       "      <td>NaN</td>\n",
       "      <td>NaN</td>\n",
       "    </tr>\n",
       "    <tr>\n",
       "      <th>3</th>\n",
       "      <td>3</td>\n",
       "      <td>29hy6f</td>\n",
       "      <td>1404156644</td>\n",
       "      <td>2014-06-30 19:30:44</td>\n",
       "      <td>ANIMAL_NewYork</td>\n",
       "      <td>t2_h1mjr</td>\n",
       "      <td>UNETHICAL FACEBOOK “EMOTIONAL CONTAGION” STUDY...</td>\n",
       "      <td>http://animalnewyork.com/2014/facebook-emotion...</td>\n",
       "      <td>animalnewyork.com</td>\n",
       "      <td>0</td>\n",
       "      <td>...</td>\n",
       "      <td>0.00027</td>\n",
       "      <td>0.00000</td>\n",
       "      <td>0.00000</td>\n",
       "      <td>0.00608</td>\n",
       "      <td>0.00429</td>\n",
       "      <td>0.00000</td>\n",
       "      <td>0.00329</td>\n",
       "      <td>0.00321</td>\n",
       "      <td>NaN</td>\n",
       "      <td>NaN</td>\n",
       "    </tr>\n",
       "    <tr>\n",
       "      <th>4</th>\n",
       "      <td>4</td>\n",
       "      <td>29hvyr</td>\n",
       "      <td>1404155395</td>\n",
       "      <td>2014-06-30 19:09:55</td>\n",
       "      <td>Password_is_123456</td>\n",
       "      <td>t2_6crtu</td>\n",
       "      <td>Microsoft May Prioritize The Desktop In Windows 9</td>\n",
       "      <td>http://techcrunch.com/2014/06/30/microsoft-may...</td>\n",
       "      <td>techcrunch.com</td>\n",
       "      <td>23</td>\n",
       "      <td>...</td>\n",
       "      <td>0.00000</td>\n",
       "      <td>0.18218</td>\n",
       "      <td>0.00000</td>\n",
       "      <td>0.00000</td>\n",
       "      <td>0.00000</td>\n",
       "      <td>0.00000</td>\n",
       "      <td>0.00000</td>\n",
       "      <td>0.00000</td>\n",
       "      <td>29hvyr</td>\n",
       "      <td>0.261786</td>\n",
       "    </tr>\n",
       "  </tbody>\n",
       "</table>\n",
       "<p>5 rows × 43 columns</p>\n",
       "</div>"
      ],
      "text/plain": [
       "   index      id  created_utc           date_time              author  \\\n",
       "0      0  29j6ov   1404184792 2014-07-01 03:19:52  Password_is_123456   \n",
       "1      1  29j6op   1404184791 2014-07-01 03:19:51  Password_is_123456   \n",
       "2      2  29j2c1   1404181722 2014-07-01 02:28:42           [deleted]   \n",
       "3      3  29hy6f   1404156644 2014-06-30 19:30:44      ANIMAL_NewYork   \n",
       "4      4  29hvyr   1404155395 2014-06-30 19:09:55  Password_is_123456   \n",
       "\n",
       "  author_fullname                                              title  \\\n",
       "0        t2_6crtu  New leaks show off the iPhone 6's curved edged...   \n",
       "1        t2_6crtu  Millions of dynamic DNS users suffer after Mic...   \n",
       "2             NaN           Paypal Freezes ProtonMail Campaign Funds   \n",
       "3        t2_h1mjr  UNETHICAL FACEBOOK “EMOTIONAL CONTAGION” STUDY...   \n",
       "4        t2_6crtu  Microsoft May Prioritize The Desktop In Windows 9   \n",
       "\n",
       "                                                 url             domain  \\\n",
       "0  http://www.cnet.com/news/new-leaks-show-off-up...           cnet.com   \n",
       "1  http://arstechnica.com/security/2014/06/millio...    arstechnica.com   \n",
       "2  https://protonmail.ch/blog/paypal-freezes-prot...      protonmail.ch   \n",
       "3  http://animalnewyork.com/2014/facebook-emotion...  animalnewyork.com   \n",
       "4  http://techcrunch.com/2014/06/30/microsoft-may...     techcrunch.com   \n",
       "\n",
       "   num_comments  ...     C_12     C_13     C_14     C_15     C_16     C_17  \\\n",
       "0             0  ...  0.00000  0.00000  0.00526  0.00000  0.00000  0.00000   \n",
       "1             6  ...  0.00000  0.18426  0.00000  0.00000  0.01007  0.00000   \n",
       "2             0  ...  0.00039  0.00055  0.00004  0.00029  0.00098  0.00075   \n",
       "3             0  ...  0.00027  0.00000  0.00000  0.00608  0.00429  0.00000   \n",
       "4            23  ...  0.00000  0.18218  0.00000  0.00000  0.00000  0.00000   \n",
       "\n",
       "      C_18     C_19 post_id  wgt_avg_sent  \n",
       "0  0.00000  0.00000     NaN           NaN  \n",
       "1  0.00000  0.00000  29j6op      0.155025  \n",
       "2  0.00047  0.00028     NaN           NaN  \n",
       "3  0.00329  0.00321     NaN           NaN  \n",
       "4  0.00000  0.00000  29hvyr      0.261786  \n",
       "\n",
       "[5 rows x 43 columns]"
      ]
     },
     "execution_count": 72,
     "metadata": {},
     "output_type": "execute_result"
    }
   ],
   "source": [
    "# merge wght ave postsentiments with posts\n",
    "\n",
    "combo = pd.merge(posts, agg_linkID[['post_id', 'wgt_avg_sent']], how='left', left_on='id', right_on='post_id')\n",
    "combo.head()"
   ]
  },
  {
   "cell_type": "code",
   "execution_count": 69,
   "id": "mysterious-mexico",
   "metadata": {},
   "outputs": [
    {
     "data": {
      "text/plain": [
       "(48082, 43)"
      ]
     },
     "execution_count": 69,
     "metadata": {},
     "output_type": "execute_result"
    }
   ],
   "source": [
    "combo.shape"
   ]
  },
  {
   "cell_type": "code",
   "execution_count": 74,
   "id": "governing-humanitarian",
   "metadata": {},
   "outputs": [
    {
     "data": {
      "text/html": [
       "<div>\n",
       "<style scoped>\n",
       "    .dataframe tbody tr th:only-of-type {\n",
       "        vertical-align: middle;\n",
       "    }\n",
       "\n",
       "    .dataframe tbody tr th {\n",
       "        vertical-align: top;\n",
       "    }\n",
       "\n",
       "    .dataframe thead th {\n",
       "        text-align: right;\n",
       "    }\n",
       "</style>\n",
       "<table border=\"1\" class=\"dataframe\">\n",
       "  <thead>\n",
       "    <tr style=\"text-align: right;\">\n",
       "      <th></th>\n",
       "      <th>index</th>\n",
       "      <th>id</th>\n",
       "      <th>created_utc</th>\n",
       "      <th>date_time</th>\n",
       "      <th>author</th>\n",
       "      <th>author_fullname</th>\n",
       "      <th>title</th>\n",
       "      <th>url</th>\n",
       "      <th>domain</th>\n",
       "      <th>num_comments</th>\n",
       "      <th>...</th>\n",
       "      <th>C_12</th>\n",
       "      <th>C_13</th>\n",
       "      <th>C_14</th>\n",
       "      <th>C_15</th>\n",
       "      <th>C_16</th>\n",
       "      <th>C_17</th>\n",
       "      <th>C_18</th>\n",
       "      <th>C_19</th>\n",
       "      <th>post_id</th>\n",
       "      <th>wgt_avg_sent</th>\n",
       "    </tr>\n",
       "  </thead>\n",
       "  <tbody>\n",
       "    <tr>\n",
       "      <th>0</th>\n",
       "      <td>0</td>\n",
       "      <td>29j6ov</td>\n",
       "      <td>1404184792</td>\n",
       "      <td>2014-07-01 03:19:52</td>\n",
       "      <td>Password_is_123456</td>\n",
       "      <td>t2_6crtu</td>\n",
       "      <td>New leaks show off the iPhone 6's curved edged...</td>\n",
       "      <td>http://www.cnet.com/news/new-leaks-show-off-up...</td>\n",
       "      <td>cnet.com</td>\n",
       "      <td>0</td>\n",
       "      <td>...</td>\n",
       "      <td>0.00000</td>\n",
       "      <td>0.00000</td>\n",
       "      <td>0.00526</td>\n",
       "      <td>0.00000</td>\n",
       "      <td>0.00000</td>\n",
       "      <td>0.00000</td>\n",
       "      <td>0.00000</td>\n",
       "      <td>0.00000</td>\n",
       "      <td>NaN</td>\n",
       "      <td>0.000000</td>\n",
       "    </tr>\n",
       "    <tr>\n",
       "      <th>1</th>\n",
       "      <td>1</td>\n",
       "      <td>29j6op</td>\n",
       "      <td>1404184791</td>\n",
       "      <td>2014-07-01 03:19:51</td>\n",
       "      <td>Password_is_123456</td>\n",
       "      <td>t2_6crtu</td>\n",
       "      <td>Millions of dynamic DNS users suffer after Mic...</td>\n",
       "      <td>http://arstechnica.com/security/2014/06/millio...</td>\n",
       "      <td>arstechnica.com</td>\n",
       "      <td>6</td>\n",
       "      <td>...</td>\n",
       "      <td>0.00000</td>\n",
       "      <td>0.18426</td>\n",
       "      <td>0.00000</td>\n",
       "      <td>0.00000</td>\n",
       "      <td>0.01007</td>\n",
       "      <td>0.00000</td>\n",
       "      <td>0.00000</td>\n",
       "      <td>0.00000</td>\n",
       "      <td>29j6op</td>\n",
       "      <td>0.155025</td>\n",
       "    </tr>\n",
       "    <tr>\n",
       "      <th>2</th>\n",
       "      <td>2</td>\n",
       "      <td>29j2c1</td>\n",
       "      <td>1404181722</td>\n",
       "      <td>2014-07-01 02:28:42</td>\n",
       "      <td>[deleted]</td>\n",
       "      <td>NaN</td>\n",
       "      <td>Paypal Freezes ProtonMail Campaign Funds</td>\n",
       "      <td>https://protonmail.ch/blog/paypal-freezes-prot...</td>\n",
       "      <td>protonmail.ch</td>\n",
       "      <td>0</td>\n",
       "      <td>...</td>\n",
       "      <td>0.00039</td>\n",
       "      <td>0.00055</td>\n",
       "      <td>0.00004</td>\n",
       "      <td>0.00029</td>\n",
       "      <td>0.00098</td>\n",
       "      <td>0.00075</td>\n",
       "      <td>0.00047</td>\n",
       "      <td>0.00028</td>\n",
       "      <td>NaN</td>\n",
       "      <td>0.000000</td>\n",
       "    </tr>\n",
       "    <tr>\n",
       "      <th>3</th>\n",
       "      <td>3</td>\n",
       "      <td>29hy6f</td>\n",
       "      <td>1404156644</td>\n",
       "      <td>2014-06-30 19:30:44</td>\n",
       "      <td>ANIMAL_NewYork</td>\n",
       "      <td>t2_h1mjr</td>\n",
       "      <td>UNETHICAL FACEBOOK “EMOTIONAL CONTAGION” STUDY...</td>\n",
       "      <td>http://animalnewyork.com/2014/facebook-emotion...</td>\n",
       "      <td>animalnewyork.com</td>\n",
       "      <td>0</td>\n",
       "      <td>...</td>\n",
       "      <td>0.00027</td>\n",
       "      <td>0.00000</td>\n",
       "      <td>0.00000</td>\n",
       "      <td>0.00608</td>\n",
       "      <td>0.00429</td>\n",
       "      <td>0.00000</td>\n",
       "      <td>0.00329</td>\n",
       "      <td>0.00321</td>\n",
       "      <td>NaN</td>\n",
       "      <td>0.000000</td>\n",
       "    </tr>\n",
       "    <tr>\n",
       "      <th>4</th>\n",
       "      <td>4</td>\n",
       "      <td>29hvyr</td>\n",
       "      <td>1404155395</td>\n",
       "      <td>2014-06-30 19:09:55</td>\n",
       "      <td>Password_is_123456</td>\n",
       "      <td>t2_6crtu</td>\n",
       "      <td>Microsoft May Prioritize The Desktop In Windows 9</td>\n",
       "      <td>http://techcrunch.com/2014/06/30/microsoft-may...</td>\n",
       "      <td>techcrunch.com</td>\n",
       "      <td>23</td>\n",
       "      <td>...</td>\n",
       "      <td>0.00000</td>\n",
       "      <td>0.18218</td>\n",
       "      <td>0.00000</td>\n",
       "      <td>0.00000</td>\n",
       "      <td>0.00000</td>\n",
       "      <td>0.00000</td>\n",
       "      <td>0.00000</td>\n",
       "      <td>0.00000</td>\n",
       "      <td>29hvyr</td>\n",
       "      <td>0.261786</td>\n",
       "    </tr>\n",
       "  </tbody>\n",
       "</table>\n",
       "<p>5 rows × 43 columns</p>\n",
       "</div>"
      ],
      "text/plain": [
       "   index      id  created_utc           date_time              author  \\\n",
       "0      0  29j6ov   1404184792 2014-07-01 03:19:52  Password_is_123456   \n",
       "1      1  29j6op   1404184791 2014-07-01 03:19:51  Password_is_123456   \n",
       "2      2  29j2c1   1404181722 2014-07-01 02:28:42           [deleted]   \n",
       "3      3  29hy6f   1404156644 2014-06-30 19:30:44      ANIMAL_NewYork   \n",
       "4      4  29hvyr   1404155395 2014-06-30 19:09:55  Password_is_123456   \n",
       "\n",
       "  author_fullname                                              title  \\\n",
       "0        t2_6crtu  New leaks show off the iPhone 6's curved edged...   \n",
       "1        t2_6crtu  Millions of dynamic DNS users suffer after Mic...   \n",
       "2             NaN           Paypal Freezes ProtonMail Campaign Funds   \n",
       "3        t2_h1mjr  UNETHICAL FACEBOOK “EMOTIONAL CONTAGION” STUDY...   \n",
       "4        t2_6crtu  Microsoft May Prioritize The Desktop In Windows 9   \n",
       "\n",
       "                                                 url             domain  \\\n",
       "0  http://www.cnet.com/news/new-leaks-show-off-up...           cnet.com   \n",
       "1  http://arstechnica.com/security/2014/06/millio...    arstechnica.com   \n",
       "2  https://protonmail.ch/blog/paypal-freezes-prot...      protonmail.ch   \n",
       "3  http://animalnewyork.com/2014/facebook-emotion...  animalnewyork.com   \n",
       "4  http://techcrunch.com/2014/06/30/microsoft-may...     techcrunch.com   \n",
       "\n",
       "   num_comments  ...     C_12     C_13     C_14     C_15     C_16     C_17  \\\n",
       "0             0  ...  0.00000  0.00000  0.00526  0.00000  0.00000  0.00000   \n",
       "1             6  ...  0.00000  0.18426  0.00000  0.00000  0.01007  0.00000   \n",
       "2             0  ...  0.00039  0.00055  0.00004  0.00029  0.00098  0.00075   \n",
       "3             0  ...  0.00027  0.00000  0.00000  0.00608  0.00429  0.00000   \n",
       "4            23  ...  0.00000  0.18218  0.00000  0.00000  0.00000  0.00000   \n",
       "\n",
       "      C_18     C_19 post_id  wgt_avg_sent  \n",
       "0  0.00000  0.00000     NaN      0.000000  \n",
       "1  0.00000  0.00000  29j6op      0.155025  \n",
       "2  0.00047  0.00028     NaN      0.000000  \n",
       "3  0.00329  0.00321     NaN      0.000000  \n",
       "4  0.00000  0.00000  29hvyr      0.261786  \n",
       "\n",
       "[5 rows x 43 columns]"
      ]
     },
     "execution_count": 74,
     "metadata": {},
     "output_type": "execute_result"
    }
   ],
   "source": [
    "## aggregate sentitment at post level\n",
    "# if no comments assume neutral sentitment\n",
    "\n",
    "combo['wgt_avg_sent'] = combo['wgt_avg_sent'].fillna(0)\n",
    "combo.head()"
   ]
  },
  {
   "cell_type": "code",
   "execution_count": 102,
   "id": "juvenile-israel",
   "metadata": {},
   "outputs": [],
   "source": [
    "# save pickle with wgt avg community sentiment about post\n",
    "\n",
    "with open('posts_w_sentiment.pickle', 'wb') as to_write:\n",
    "    pickle.dump(combo, to_write)"
   ]
  },
  {
   "cell_type": "code",
   "execution_count": null,
   "id": "tender-prize",
   "metadata": {},
   "outputs": [],
   "source": [
    "###################"
   ]
  },
  {
   "cell_type": "code",
   "execution_count": 76,
   "id": "colored-arena",
   "metadata": {},
   "outputs": [],
   "source": [
    "## average sentiment by topic and timeframe\n",
    "\n",
    "combo['YEAR_MON'] = combo['date_time'].dt.strftime('%Y-%m')\n"
   ]
  },
  {
   "cell_type": "code",
   "execution_count": 78,
   "id": "copyrighted-finding",
   "metadata": {},
   "outputs": [],
   "source": [
    "#combo.head()"
   ]
  },
  {
   "cell_type": "code",
   "execution_count": 79,
   "id": "right-college",
   "metadata": {},
   "outputs": [
    {
     "data": {
      "text/html": [
       "<div>\n",
       "<style scoped>\n",
       "    .dataframe tbody tr th:only-of-type {\n",
       "        vertical-align: middle;\n",
       "    }\n",
       "\n",
       "    .dataframe tbody tr th {\n",
       "        vertical-align: top;\n",
       "    }\n",
       "\n",
       "    .dataframe thead th {\n",
       "        text-align: right;\n",
       "    }\n",
       "</style>\n",
       "<table border=\"1\" class=\"dataframe\">\n",
       "  <thead>\n",
       "    <tr style=\"text-align: right;\">\n",
       "      <th></th>\n",
       "      <th>post_topic_nmf</th>\n",
       "      <th>YEAR_MON</th>\n",
       "      <th>wgt_avg_sent</th>\n",
       "    </tr>\n",
       "  </thead>\n",
       "  <tbody>\n",
       "    <tr>\n",
       "      <th>0</th>\n",
       "      <td>0</td>\n",
       "      <td>2011-01</td>\n",
       "      <td>0.0</td>\n",
       "    </tr>\n",
       "    <tr>\n",
       "      <th>1</th>\n",
       "      <td>0</td>\n",
       "      <td>2011-02</td>\n",
       "      <td>0.0</td>\n",
       "    </tr>\n",
       "    <tr>\n",
       "      <th>2</th>\n",
       "      <td>0</td>\n",
       "      <td>2011-03</td>\n",
       "      <td>0.0</td>\n",
       "    </tr>\n",
       "    <tr>\n",
       "      <th>3</th>\n",
       "      <td>0</td>\n",
       "      <td>2011-04</td>\n",
       "      <td>0.0</td>\n",
       "    </tr>\n",
       "    <tr>\n",
       "      <th>4</th>\n",
       "      <td>0</td>\n",
       "      <td>2011-05</td>\n",
       "      <td>0.0</td>\n",
       "    </tr>\n",
       "  </tbody>\n",
       "</table>\n",
       "</div>"
      ],
      "text/plain": [
       "   post_topic_nmf YEAR_MON  wgt_avg_sent\n",
       "0               0  2011-01           0.0\n",
       "1               0  2011-02           0.0\n",
       "2               0  2011-03           0.0\n",
       "3               0  2011-04           0.0\n",
       "4               0  2011-05           0.0"
      ]
     },
     "execution_count": 79,
     "metadata": {},
     "output_type": "execute_result"
    }
   ],
   "source": [
    "agg_posts = combo.groupby(['post_topic_nmf', 'YEAR_MON']).agg({'wgt_avg_sent': np.mean}).reset_index()\n",
    "agg_posts.head()"
   ]
  },
  {
   "cell_type": "code",
   "execution_count": 80,
   "id": "recognized-simple",
   "metadata": {},
   "outputs": [],
   "source": [
    "####### \n",
    "# plots by topic"
   ]
  },
  {
   "cell_type": "code",
   "execution_count": 98,
   "id": "intense-spine",
   "metadata": {},
   "outputs": [
    {
     "data": {
      "text/plain": [
       "<AxesSubplot:xlabel='YEAR_MON'>"
      ]
     },
     "execution_count": 98,
     "metadata": {},
     "output_type": "execute_result"
    },
    {
     "data": {
      "image/png": "[encoded data removed]",
      "text/plain": [
       "<Figure size 1440x360 with 1 Axes>"
      ]
     },
     "metadata": {
      "needs_background": "light"
     },
     "output_type": "display_data"
    }
   ],
   "source": [
    "\n",
    "agg_posts[agg_posts['post_topic_nmf'] ==15].plot.bar(x='YEAR_MON', y='wgt_avg_sent', figsize=(20,5))\n"
   ]
  },
  {
   "cell_type": "code",
   "execution_count": 99,
   "id": "dirty-burden",
   "metadata": {},
   "outputs": [
    {
     "data": {
      "text/plain": [
       "<AxesSubplot:xlabel='YEAR_MON'>"
      ]
     },
     "execution_count": 99,
     "metadata": {},
     "output_type": "execute_result"
    },
    {
     "data": {
      "image/png": "[encoded data removed]",
      "text/plain": [
       "<Figure size 1440x360 with 1 Axes>"
      ]
     },
     "metadata": {
      "needs_background": "light"
     },
     "output_type": "display_data"
    }
   ],
   "source": [
    "agg_posts[agg_posts['post_topic_nmf'] ==1].plot.bar(x='YEAR_MON', y='wgt_avg_sent', figsize=(20,5))"
   ]
  },
  {
   "cell_type": "code",
   "execution_count": 100,
   "id": "abroad-enlargement",
   "metadata": {},
   "outputs": [
    {
     "data": {
      "text/plain": [
       "<AxesSubplot:xlabel='YEAR_MON'>"
      ]
     },
     "execution_count": 100,
     "metadata": {},
     "output_type": "execute_result"
    },
    {
     "data": {
      "image/png": "[encoded data removed]",
      "text/plain": [
       "<Figure size 1440x360 with 1 Axes>"
      ]
     },
     "metadata": {
      "needs_background": "light"
     },
     "output_type": "display_data"
    }
   ],
   "source": [
    "agg_posts[agg_posts['post_topic_nmf'] ==2].plot.bar(x='YEAR_MON', y='wgt_avg_sent', figsize=(20,5))"
   ]
  },
  {
   "cell_type": "code",
   "execution_count": 86,
   "id": "featured-programmer",
   "metadata": {},
   "outputs": [
    {
     "data": {
      "text/plain": [
       "<AxesSubplot:xlabel='YEAR_MON'>"
      ]
     },
     "execution_count": 86,
     "metadata": {},
     "output_type": "execute_result"
    },
    {
     "data": {
      "image/png": "[encoded data removed]",
      "text/plain": [
       "<Figure size 432x288 with 1 Axes>"
      ]
     },
     "metadata": {
      "needs_background": "light"
     },
     "output_type": "display_data"
    }
   ],
   "source": [
    "agg_posts[agg_posts['post_topic_nmf'] ==3].plot(x='YEAR_MON', y='wgt_avg_sent')"
   ]
  },
  {
   "cell_type": "code",
   "execution_count": 87,
   "id": "clinical-flashing",
   "metadata": {},
   "outputs": [
    {
     "data": {
      "text/plain": [
       "<AxesSubplot:xlabel='YEAR_MON'>"
      ]
     },
     "execution_count": 87,
     "metadata": {},
     "output_type": "execute_result"
    },
    {
     "data": {
      "image/png": "[encoded data removed]",
      "text/plain": [
       "<Figure size 432x288 with 1 Axes>"
      ]
     },
     "metadata": {
      "needs_background": "light"
     },
     "output_type": "display_data"
    }
   ],
   "source": [
    "agg_posts[agg_posts['post_topic_nmf'] ==4].plot(x='YEAR_MON', y='wgt_avg_sent')"
   ]
  },
  {
   "cell_type": "code",
   "execution_count": 92,
   "id": "terminal-lemon",
   "metadata": {},
   "outputs": [
    {
     "data": {
      "text/plain": [
       "<AxesSubplot:xlabel='YEAR_MON'>"
      ]
     },
     "execution_count": 92,
     "metadata": {},
     "output_type": "execute_result"
    },
    {
     "data": {
      "image/png": "[encoded data removed]",
      "text/plain": [
       "<Figure size 432x288 with 1 Axes>"
      ]
     },
     "metadata": {
      "needs_background": "light"
     },
     "output_type": "display_data"
    }
   ],
   "source": [
    "agg_posts[agg_posts['post_topic_nmf'] ==9].plot(x='YEAR_MON', y='wgt_avg_sent')"
   ]
  },
  {
   "cell_type": "code",
   "execution_count": 90,
   "id": "entertaining-weather",
   "metadata": {},
   "outputs": [
    {
     "data": {
      "text/plain": [
       "<AxesSubplot:xlabel='YEAR_MON'>"
      ]
     },
     "execution_count": 90,
     "metadata": {},
     "output_type": "execute_result"
    },
    {
     "data": {
      "image/png": "[encoded data removed]",
      "text/plain": [
       "<Figure size 432x288 with 1 Axes>"
      ]
     },
     "metadata": {
      "needs_background": "light"
     },
     "output_type": "display_data"
    }
   ],
   "source": [
    "agg_posts[agg_posts['post_topic_nmf'] ==12].plot(x='YEAR_MON', y='wgt_avg_sent')"
   ]
  },
  {
   "cell_type": "code",
   "execution_count": 91,
   "id": "southeast-investigator",
   "metadata": {},
   "outputs": [
    {
     "data": {
      "text/plain": [
       "<AxesSubplot:xlabel='YEAR_MON'>"
      ]
     },
     "execution_count": 91,
     "metadata": {},
     "output_type": "execute_result"
    },
    {
     "data": {
      "image/png": "[encoded data removed]",
      "text/plain": [
       "<Figure size 432x288 with 1 Axes>"
      ]
     },
     "metadata": {
      "needs_background": "light"
     },
     "output_type": "display_data"
    }
   ],
   "source": [
    "agg_posts[agg_posts['post_topic_nmf'] ==18].plot(x='YEAR_MON', y='wgt_avg_sent')"
   ]
  },
  {
   "cell_type": "code",
   "execution_count": 101,
   "id": "particular-growth",
   "metadata": {},
   "outputs": [],
   "source": [
    "agg_posts.to_csv('posts_avg_sentiment.csv', index=False)"
   ]
  },
  {
   "cell_type": "code",
   "execution_count": null,
   "id": "driving-mechanism",
   "metadata": {},
   "outputs": [],
   "source": []
  }
 ],
 "metadata": {
  "kernelspec": {
   "display_name": "Python 3",
   "language": "python",
   "name": "python3"
  },
  "language_info": {
   "codemirror_mode": {
    "name": "ipython",
    "version": 3
   },
   "file_extension": ".py",
   "mimetype": "text/x-python",
   "name": "python",
   "nbconvert_exporter": "python",
   "pygments_lexer": "ipython3",
   "version": "3.8.2"
  }
 },
 "nbformat": 4,
 "nbformat_minor": 5
}
