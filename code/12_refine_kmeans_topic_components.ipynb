{
 "cells": [
  {
   "cell_type": "code",
   "execution_count": 1,
   "id": "continuous-pilot",
   "metadata": {},
   "outputs": [
    {
     "data": {
      "text/plain": [
       "' k-means of NMF topic components'"
      ]
     },
     "execution_count": 1,
     "metadata": {},
     "output_type": "execute_result"
    }
   ],
   "source": [
    "\"\"\" k-means of NMF topic components\"\"\""
   ]
  },
  {
   "cell_type": "code",
   "execution_count": 1,
   "id": "excited-wellington",
   "metadata": {},
   "outputs": [],
   "source": [
    "import pickle\n",
    "import pandas as pd\n",
    "import numpy as np\n"
   ]
  },
  {
   "cell_type": "code",
   "execution_count": 2,
   "id": "heard-commander",
   "metadata": {},
   "outputs": [
    {
     "name": "stdout",
     "output_type": "stream",
     "text": [
      "Populating the interactive namespace from numpy and matplotlib\n"
     ]
    }
   ],
   "source": [
    "# see https://ipython.readthedocs.io/en/stable/interactive/magics.html\n",
    "%pylab inline\n",
    "\n",
    "# sets backend to render higher res images\n",
    "%config InlineBackend.figure_formats = ['retina']"
   ]
  },
  {
   "cell_type": "code",
   "execution_count": 3,
   "id": "latin-reason",
   "metadata": {},
   "outputs": [],
   "source": [
    "from sklearn.cluster import KMeans\n",
    "import seaborn as sns"
   ]
  },
  {
   "cell_type": "code",
   "execution_count": 4,
   "id": "wrong-worth",
   "metadata": {},
   "outputs": [
    {
     "data": {
      "text/plain": [
       "(48082, 36)"
      ]
     },
     "execution_count": 4,
     "metadata": {},
     "output_type": "execute_result"
    }
   ],
   "source": [
    "with open('cv_nmf_topics_posts_FINAL.pickle', 'rb') as read_file:\n",
    "    posts = pickle.load(read_file)\n",
    "    \n",
    "posts.shape"
   ]
  },
  {
   "cell_type": "code",
   "execution_count": 5,
   "id": "maritime-coordinator",
   "metadata": {},
   "outputs": [
    {
     "data": {
      "text/plain": [
       "Index(['index', 'id', 'created_utc', 'date_time', 'author', 'author_fullname',\n",
       "       'title', 'url', 'domain', 'num_comments', 'score', 'permalink',\n",
       "       'full_link', 'refine_title', 'preproc_title', 'unstemmed', 'stem_title',\n",
       "       'processed_title', 'title_nouns', 'post_topic_nmf', 'title_nouns',\n",
       "       'C_0', 'C_1', 'C_2', 'C_3', 'C_4', 'C_5', 'C_6', 'C_7', 'C_8', 'C_9',\n",
       "       'C_10', 'C_11', 'C_12', 'C_13', 'C_14'],\n",
       "      dtype='object')"
      ]
     },
     "execution_count": 5,
     "metadata": {},
     "output_type": "execute_result"
    }
   ],
   "source": [
    "posts.columns"
   ]
  },
  {
   "cell_type": "code",
   "execution_count": 6,
   "id": "extreme-customs",
   "metadata": {},
   "outputs": [],
   "source": [
    "X = np.array(posts[['C_0', 'C_1', 'C_2', 'C_3', 'C_4', 'C_5', 'C_6', 'C_7', 'C_8', 'C_9',\n",
    "       'C_10', 'C_11', 'C_12', 'C_13', 'C_14']])"
   ]
  },
  {
   "cell_type": "code",
   "execution_count": 7,
   "id": "individual-manitoba",
   "metadata": {},
   "outputs": [],
   "source": [
    "# helper function that allows us to display data in 2 dimensions an highlights the clusters\n",
    "def display_cluster(X,km=[],num_clusters=0):\n",
    "    color = 'brgcmyk'\n",
    "    alpha = 0.5\n",
    "    s = 20\n",
    "    if num_clusters == 0:\n",
    "        plt.scatter(X[:,0],X[:,1],c = color[0],alpha = alpha,s = s)\n",
    "    else:\n",
    "        for i in range(num_clusters):\n",
    "            plt.scatter(X[km.labels_==i,0],X[km.labels_==i,1],c = color[i],alpha = alpha,s=s)\n",
    "            plt.scatter(km.cluster_centers_[i][0],km.cluster_centers_[i][1],c = color[i], marker = 'x', s = 100)"
   ]
  },
  {
   "cell_type": "code",
   "execution_count": 8,
   "id": "willing-minority",
   "metadata": {},
   "outputs": [
    {
     "data": {
      "text/plain": [
       "KMeans(n_clusters=12, n_init=5, random_state=10)"
      ]
     },
     "execution_count": 8,
     "metadata": {},
     "output_type": "execute_result"
    }
   ],
   "source": [
    "num_clusters = 12\n",
    "km = KMeans(n_clusters=num_clusters,random_state=10,n_init=5) # n_init, number of times the K-mean algorithm will run\n",
    "km.fit(X)\n"
   ]
  },
  {
   "cell_type": "code",
   "execution_count": 9,
   "id": "vocational-degree",
   "metadata": {},
   "outputs": [],
   "source": [
    "#display_cluster(X,km,num_clusters)"
   ]
  },
  {
   "cell_type": "code",
   "execution_count": 10,
   "id": "dependent-physics",
   "metadata": {},
   "outputs": [],
   "source": [
    "clusters = pd.DataFrame(data=km.labels_.tolist(), columns=['cluster'])\n",
    "#clusters\n"
   ]
  },
  {
   "cell_type": "code",
   "execution_count": 11,
   "id": "insured-liberia",
   "metadata": {},
   "outputs": [
    {
     "data": {
      "text/plain": [
       "48082"
      ]
     },
     "execution_count": 11,
     "metadata": {},
     "output_type": "execute_result"
    }
   ],
   "source": [
    "len(clusters)"
   ]
  },
  {
   "cell_type": "code",
   "execution_count": 12,
   "id": "placed-sheep",
   "metadata": {},
   "outputs": [
    {
     "data": {
      "text/html": [
       "<div>\n",
       "<style scoped>\n",
       "    .dataframe tbody tr th:only-of-type {\n",
       "        vertical-align: middle;\n",
       "    }\n",
       "\n",
       "    .dataframe tbody tr th {\n",
       "        vertical-align: top;\n",
       "    }\n",
       "\n",
       "    .dataframe thead th {\n",
       "        text-align: right;\n",
       "    }\n",
       "</style>\n",
       "<table border=\"1\" class=\"dataframe\">\n",
       "  <thead>\n",
       "    <tr style=\"text-align: right;\">\n",
       "      <th></th>\n",
       "      <th>cluster</th>\n",
       "    </tr>\n",
       "  </thead>\n",
       "  <tbody>\n",
       "    <tr>\n",
       "      <th>0</th>\n",
       "      <td>0</td>\n",
       "    </tr>\n",
       "    <tr>\n",
       "      <th>1</th>\n",
       "      <td>0</td>\n",
       "    </tr>\n",
       "    <tr>\n",
       "      <th>2</th>\n",
       "      <td>0</td>\n",
       "    </tr>\n",
       "    <tr>\n",
       "      <th>3</th>\n",
       "      <td>0</td>\n",
       "    </tr>\n",
       "    <tr>\n",
       "      <th>4</th>\n",
       "      <td>9</td>\n",
       "    </tr>\n",
       "  </tbody>\n",
       "</table>\n",
       "</div>"
      ],
      "text/plain": [
       "   cluster\n",
       "0        0\n",
       "1        0\n",
       "2        0\n",
       "3        0\n",
       "4        9"
      ]
     },
     "execution_count": 12,
     "metadata": {},
     "output_type": "execute_result"
    }
   ],
   "source": [
    "clusters.head()"
   ]
  },
  {
   "cell_type": "code",
   "execution_count": 13,
   "id": "assumed-chess",
   "metadata": {},
   "outputs": [
    {
     "data": {
      "text/plain": [
       "array([ 7, 14, 12, 10,  0,  2,  9,  1,  3,  5,  4, 13, 11,  6,  8])"
      ]
     },
     "execution_count": 13,
     "metadata": {},
     "output_type": "execute_result"
    }
   ],
   "source": [
    "order_centroids = km.cluster_centers_.argsort()[:, ::-1] \n",
    "order_centroids[0]"
   ]
  },
  {
   "cell_type": "code",
   "execution_count": 14,
   "id": "stuck-waste",
   "metadata": {},
   "outputs": [],
   "source": [
    "# add k-means clusters to df\n",
    "\n",
    "posts_clusters = pd.concat([posts, clusters], axis=1)\n"
   ]
  },
  {
   "cell_type": "code",
   "execution_count": 15,
   "id": "affected-flood",
   "metadata": {},
   "outputs": [
    {
     "data": {
      "text/plain": [
       "(48082, 37)"
      ]
     },
     "execution_count": 15,
     "metadata": {},
     "output_type": "execute_result"
    }
   ],
   "source": [
    "posts_clusters.shape"
   ]
  },
  {
   "cell_type": "code",
   "execution_count": 16,
   "id": "finite-blackberry",
   "metadata": {},
   "outputs": [
    {
     "data": {
      "text/plain": [
       "Index(['index', 'id', 'created_utc', 'date_time', 'author', 'author_fullname',\n",
       "       'title', 'url', 'domain', 'num_comments', 'score', 'permalink',\n",
       "       'full_link', 'refine_title', 'preproc_title', 'unstemmed', 'stem_title',\n",
       "       'processed_title', 'title_nouns', 'post_topic_nmf', 'title_nouns',\n",
       "       'C_0', 'C_1', 'C_2', 'C_3', 'C_4', 'C_5', 'C_6', 'C_7', 'C_8', 'C_9',\n",
       "       'C_10', 'C_11', 'C_12', 'C_13', 'C_14', 'cluster'],\n",
       "      dtype='object')"
      ]
     },
     "execution_count": 16,
     "metadata": {},
     "output_type": "execute_result"
    }
   ],
   "source": [
    "posts_clusters.columns"
   ]
  },
  {
   "cell_type": "code",
   "execution_count": 17,
   "id": "eligible-recruitment",
   "metadata": {},
   "outputs": [],
   "source": [
    "subset = posts_clusters[['title','post_topic_nmf', 'cluster']]"
   ]
  },
  {
   "cell_type": "code",
   "execution_count": 23,
   "id": "junior-handbook",
   "metadata": {},
   "outputs": [
    {
     "data": {
      "text/html": [
       "<div>\n",
       "<style scoped>\n",
       "    .dataframe tbody tr th:only-of-type {\n",
       "        vertical-align: middle;\n",
       "    }\n",
       "\n",
       "    .dataframe tbody tr th {\n",
       "        vertical-align: top;\n",
       "    }\n",
       "\n",
       "    .dataframe thead th {\n",
       "        text-align: right;\n",
       "    }\n",
       "</style>\n",
       "<table border=\"1\" class=\"dataframe\">\n",
       "  <thead>\n",
       "    <tr style=\"text-align: right;\">\n",
       "      <th></th>\n",
       "      <th>title</th>\n",
       "      <th>post_topic_nmf</th>\n",
       "      <th>cluster</th>\n",
       "    </tr>\n",
       "  </thead>\n",
       "  <tbody>\n",
       "    <tr>\n",
       "      <th>134</th>\n",
       "      <td>Yahoo Mail technical Support|1-888-551-2881|help</td>\n",
       "      <td>11</td>\n",
       "      <td>11</td>\n",
       "    </tr>\n",
       "    <tr>\n",
       "      <th>234</th>\n",
       "      <td>VLC is getting Chromecast support for iOS and ...</td>\n",
       "      <td>11</td>\n",
       "      <td>11</td>\n",
       "    </tr>\n",
       "    <tr>\n",
       "      <th>252</th>\n",
       "      <td>Cable Companies Are Astroturfing Fake Consumer...</td>\n",
       "      <td>11</td>\n",
       "      <td>11</td>\n",
       "    </tr>\n",
       "    <tr>\n",
       "      <th>277</th>\n",
       "      <td>Apple Reveals iOS 8 Device Compatibility, Drop...</td>\n",
       "      <td>11</td>\n",
       "      <td>11</td>\n",
       "    </tr>\n",
       "    <tr>\n",
       "      <th>585</th>\n",
       "      <td>Yahoo Password Reset not Working- Contact Yaho...</td>\n",
       "      <td>11</td>\n",
       "      <td>11</td>\n",
       "    </tr>\n",
       "    <tr>\n",
       "      <th>...</th>\n",
       "      <td>...</td>\n",
       "      <td>...</td>\n",
       "      <td>...</td>\n",
       "    </tr>\n",
       "    <tr>\n",
       "      <th>47481</th>\n",
       "      <td>Outstanding Kaspersky Technical Support to All...</td>\n",
       "      <td>11</td>\n",
       "      <td>11</td>\n",
       "    </tr>\n",
       "    <tr>\n",
       "      <th>47823</th>\n",
       "      <td>Avail Quick Support by Dialing the Kaspersky S...</td>\n",
       "      <td>11</td>\n",
       "      <td>11</td>\n",
       "    </tr>\n",
       "    <tr>\n",
       "      <th>47850</th>\n",
       "      <td>Why prefer our Garmin Support? 1888-524-8675</td>\n",
       "      <td>11</td>\n",
       "      <td>11</td>\n",
       "    </tr>\n",
       "    <tr>\n",
       "      <th>47958</th>\n",
       "      <td>LG Unveils 4K UHD Projector With HDR Support A...</td>\n",
       "      <td>11</td>\n",
       "      <td>11</td>\n",
       "    </tr>\n",
       "    <tr>\n",
       "      <th>48003</th>\n",
       "      <td>Get the Commendable Solutions for All Technica...</td>\n",
       "      <td>11</td>\n",
       "      <td>11</td>\n",
       "    </tr>\n",
       "  </tbody>\n",
       "</table>\n",
       "<p>594 rows × 3 columns</p>\n",
       "</div>"
      ],
      "text/plain": [
       "                                                   title  post_topic_nmf  \\\n",
       "134     Yahoo Mail technical Support|1-888-551-2881|help              11   \n",
       "234    VLC is getting Chromecast support for iOS and ...              11   \n",
       "252    Cable Companies Are Astroturfing Fake Consumer...              11   \n",
       "277    Apple Reveals iOS 8 Device Compatibility, Drop...              11   \n",
       "585    Yahoo Password Reset not Working- Contact Yaho...              11   \n",
       "...                                                  ...             ...   \n",
       "47481  Outstanding Kaspersky Technical Support to All...              11   \n",
       "47823  Avail Quick Support by Dialing the Kaspersky S...              11   \n",
       "47850       Why prefer our Garmin Support? 1888-524-8675              11   \n",
       "47958  LG Unveils 4K UHD Projector With HDR Support A...              11   \n",
       "48003  Get the Commendable Solutions for All Technica...              11   \n",
       "\n",
       "       cluster  \n",
       "134         11  \n",
       "234         11  \n",
       "252         11  \n",
       "277         11  \n",
       "585         11  \n",
       "...        ...  \n",
       "47481       11  \n",
       "47823       11  \n",
       "47850       11  \n",
       "47958       11  \n",
       "48003       11  \n",
       "\n",
       "[594 rows x 3 columns]"
      ]
     },
     "execution_count": 23,
     "metadata": {},
     "output_type": "execute_result"
    }
   ],
   "source": [
    "## examined for each cluster #\n",
    "\n",
    "subset[subset['cluster']==11]"
   ]
  },
  {
   "cell_type": "code",
   "execution_count": null,
   "id": "metric-binding",
   "metadata": {},
   "outputs": [],
   "source": []
  }
 ],
 "metadata": {
  "kernelspec": {
   "display_name": "Python 3",
   "language": "python",
   "name": "python3"
  },
  "language_info": {
   "codemirror_mode": {
    "name": "ipython",
    "version": 3
   },
   "file_extension": ".py",
   "mimetype": "text/x-python",
   "name": "python",
   "nbconvert_exporter": "python",
   "pygments_lexer": "ipython3",
   "version": "3.8.2"
  }
 },
 "nbformat": 4,
 "nbformat_minor": 5
}
