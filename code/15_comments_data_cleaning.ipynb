{
 "cells": [
  {
   "cell_type": "code",
   "execution_count": null,
   "id": "alternate-italic",
   "metadata": {},
   "outputs": [],
   "source": [
    "\"\"\"\n",
    "combine all the csv files with r/technews comments\n",
    "\n",
    "filter to remove the deleted comments\n",
    "\n",
    "check other fields for indicators of removing any ads or comments by bots\n",
    "\n",
    "save filtered dataset to pickle\n",
    "\n",
    "\"\"\""
   ]
  },
  {
   "cell_type": "code",
   "execution_count": 14,
   "id": "available-router",
   "metadata": {},
   "outputs": [],
   "source": [
    "import glob\n",
    "import os\n",
    "\n",
    "import pandas as pd\n",
    "import numpy as np\n",
    "import pickle"
   ]
  },
  {
   "cell_type": "code",
   "execution_count": 2,
   "id": "robust-allowance",
   "metadata": {},
   "outputs": [
    {
     "data": {
      "text/html": [
       "<div>\n",
       "<style scoped>\n",
       "    .dataframe tbody tr th:only-of-type {\n",
       "        vertical-align: middle;\n",
       "    }\n",
       "\n",
       "    .dataframe tbody tr th {\n",
       "        vertical-align: top;\n",
       "    }\n",
       "\n",
       "    .dataframe thead th {\n",
       "        text-align: right;\n",
       "    }\n",
       "</style>\n",
       "<table border=\"1\" class=\"dataframe\">\n",
       "  <thead>\n",
       "    <tr style=\"text-align: right;\">\n",
       "      <th></th>\n",
       "      <th>all_awardings</th>\n",
       "      <th>associated_award</th>\n",
       "      <th>author</th>\n",
       "      <th>author_flair_background_color</th>\n",
       "      <th>author_flair_css_class</th>\n",
       "      <th>author_flair_richtext</th>\n",
       "      <th>author_flair_template_id</th>\n",
       "      <th>author_flair_text</th>\n",
       "      <th>author_flair_text_color</th>\n",
       "      <th>author_flair_type</th>\n",
       "      <th>...</th>\n",
       "      <th>stickied</th>\n",
       "      <th>subreddit</th>\n",
       "      <th>subreddit_id</th>\n",
       "      <th>total_awards_received</th>\n",
       "      <th>created</th>\n",
       "      <th>distinguished</th>\n",
       "      <th>author_cakeday</th>\n",
       "      <th>edited</th>\n",
       "      <th>updated_utc</th>\n",
       "      <th>gilded</th>\n",
       "    </tr>\n",
       "  </thead>\n",
       "  <tbody>\n",
       "    <tr>\n",
       "      <th>0</th>\n",
       "      <td>[]</td>\n",
       "      <td>NaN</td>\n",
       "      <td>Voldemort57</td>\n",
       "      <td>NaN</td>\n",
       "      <td>NaN</td>\n",
       "      <td>[]</td>\n",
       "      <td>NaN</td>\n",
       "      <td>NaN</td>\n",
       "      <td>NaN</td>\n",
       "      <td>text</td>\n",
       "      <td>...</td>\n",
       "      <td>False</td>\n",
       "      <td>technews</td>\n",
       "      <td>t5_2qi4j</td>\n",
       "      <td>0</td>\n",
       "      <td>1.577873e+09</td>\n",
       "      <td>NaN</td>\n",
       "      <td>NaN</td>\n",
       "      <td>NaN</td>\n",
       "      <td>NaN</td>\n",
       "      <td>NaN</td>\n",
       "    </tr>\n",
       "    <tr>\n",
       "      <th>1</th>\n",
       "      <td>[]</td>\n",
       "      <td>NaN</td>\n",
       "      <td>colefallimore</td>\n",
       "      <td>NaN</td>\n",
       "      <td>NaN</td>\n",
       "      <td>[]</td>\n",
       "      <td>NaN</td>\n",
       "      <td>NaN</td>\n",
       "      <td>NaN</td>\n",
       "      <td>text</td>\n",
       "      <td>...</td>\n",
       "      <td>False</td>\n",
       "      <td>technews</td>\n",
       "      <td>t5_2qi4j</td>\n",
       "      <td>0</td>\n",
       "      <td>1.577872e+09</td>\n",
       "      <td>NaN</td>\n",
       "      <td>NaN</td>\n",
       "      <td>NaN</td>\n",
       "      <td>NaN</td>\n",
       "      <td>NaN</td>\n",
       "    </tr>\n",
       "    <tr>\n",
       "      <th>2</th>\n",
       "      <td>[]</td>\n",
       "      <td>NaN</td>\n",
       "      <td>varietist_department</td>\n",
       "      <td>NaN</td>\n",
       "      <td>NaN</td>\n",
       "      <td>[]</td>\n",
       "      <td>NaN</td>\n",
       "      <td>NaN</td>\n",
       "      <td>NaN</td>\n",
       "      <td>text</td>\n",
       "      <td>...</td>\n",
       "      <td>False</td>\n",
       "      <td>technews</td>\n",
       "      <td>t5_2qi4j</td>\n",
       "      <td>0</td>\n",
       "      <td>1.577872e+09</td>\n",
       "      <td>NaN</td>\n",
       "      <td>NaN</td>\n",
       "      <td>NaN</td>\n",
       "      <td>NaN</td>\n",
       "      <td>NaN</td>\n",
       "    </tr>\n",
       "    <tr>\n",
       "      <th>3</th>\n",
       "      <td>[]</td>\n",
       "      <td>NaN</td>\n",
       "      <td>CoolCummer</td>\n",
       "      <td>NaN</td>\n",
       "      <td>NaN</td>\n",
       "      <td>[]</td>\n",
       "      <td>NaN</td>\n",
       "      <td>NaN</td>\n",
       "      <td>NaN</td>\n",
       "      <td>text</td>\n",
       "      <td>...</td>\n",
       "      <td>False</td>\n",
       "      <td>technews</td>\n",
       "      <td>t5_2qi4j</td>\n",
       "      <td>0</td>\n",
       "      <td>1.577871e+09</td>\n",
       "      <td>NaN</td>\n",
       "      <td>NaN</td>\n",
       "      <td>NaN</td>\n",
       "      <td>NaN</td>\n",
       "      <td>NaN</td>\n",
       "    </tr>\n",
       "    <tr>\n",
       "      <th>4</th>\n",
       "      <td>[]</td>\n",
       "      <td>NaN</td>\n",
       "      <td>JKJOKERKODEWUB</td>\n",
       "      <td>NaN</td>\n",
       "      <td>NaN</td>\n",
       "      <td>[]</td>\n",
       "      <td>NaN</td>\n",
       "      <td>NaN</td>\n",
       "      <td>NaN</td>\n",
       "      <td>text</td>\n",
       "      <td>...</td>\n",
       "      <td>False</td>\n",
       "      <td>technews</td>\n",
       "      <td>t5_2qi4j</td>\n",
       "      <td>0</td>\n",
       "      <td>1.577870e+09</td>\n",
       "      <td>NaN</td>\n",
       "      <td>NaN</td>\n",
       "      <td>NaN</td>\n",
       "      <td>NaN</td>\n",
       "      <td>NaN</td>\n",
       "    </tr>\n",
       "  </tbody>\n",
       "</table>\n",
       "<p>5 rows × 39 columns</p>\n",
       "</div>"
      ],
      "text/plain": [
       "  all_awardings  associated_award                author  \\\n",
       "0            []               NaN           Voldemort57   \n",
       "1            []               NaN         colefallimore   \n",
       "2            []               NaN  varietist_department   \n",
       "3            []               NaN            CoolCummer   \n",
       "4            []               NaN        JKJOKERKODEWUB   \n",
       "\n",
       "   author_flair_background_color  author_flair_css_class  \\\n",
       "0                            NaN                     NaN   \n",
       "1                            NaN                     NaN   \n",
       "2                            NaN                     NaN   \n",
       "3                            NaN                     NaN   \n",
       "4                            NaN                     NaN   \n",
       "\n",
       "  author_flair_richtext  author_flair_template_id  author_flair_text  \\\n",
       "0                    []                       NaN                NaN   \n",
       "1                    []                       NaN                NaN   \n",
       "2                    []                       NaN                NaN   \n",
       "3                    []                       NaN                NaN   \n",
       "4                    []                       NaN                NaN   \n",
       "\n",
       "  author_flair_text_color author_flair_type  ... stickied subreddit  \\\n",
       "0                     NaN              text  ...    False  technews   \n",
       "1                     NaN              text  ...    False  technews   \n",
       "2                     NaN              text  ...    False  technews   \n",
       "3                     NaN              text  ...    False  technews   \n",
       "4                     NaN              text  ...    False  technews   \n",
       "\n",
       "  subreddit_id total_awards_received       created  distinguished  \\\n",
       "0     t5_2qi4j                     0  1.577873e+09            NaN   \n",
       "1     t5_2qi4j                     0  1.577872e+09            NaN   \n",
       "2     t5_2qi4j                     0  1.577872e+09            NaN   \n",
       "3     t5_2qi4j                     0  1.577871e+09            NaN   \n",
       "4     t5_2qi4j                     0  1.577870e+09            NaN   \n",
       "\n",
       "   author_cakeday edited updated_utc  gilded  \n",
       "0             NaN    NaN         NaN     NaN  \n",
       "1             NaN    NaN         NaN     NaN  \n",
       "2             NaN    NaN         NaN     NaN  \n",
       "3             NaN    NaN         NaN     NaN  \n",
       "4             NaN    NaN         NaN     NaN  \n",
       "\n",
       "[5 rows x 39 columns]"
      ]
     },
     "execution_count": 2,
     "metadata": {},
     "output_type": "execute_result"
    }
   ],
   "source": [
    "x = pd.read_csv('data/COMMENTS_technews_1561953600_1577854800.csv', low_memory=False)\n",
    "x.head()"
   ]
  },
  {
   "cell_type": "code",
   "execution_count": 3,
   "id": "electoral-outline",
   "metadata": {},
   "outputs": [
    {
     "data": {
      "text/plain": [
       "Index(['all_awardings', 'associated_award', 'author',\n",
       "       'author_flair_background_color', 'author_flair_css_class',\n",
       "       'author_flair_richtext', 'author_flair_template_id',\n",
       "       'author_flair_text', 'author_flair_text_color', 'author_flair_type',\n",
       "       'author_fullname', 'author_patreon_flair', 'author_premium', 'awarders',\n",
       "       'body', 'collapsed_because_crowd_control', 'created_utc', 'gildings',\n",
       "       'id', 'is_submitter', 'link_id', 'locked', 'no_follow', 'parent_id',\n",
       "       'permalink', 'retrieved_on', 'score', 'send_replies', 'steward_reports',\n",
       "       'stickied', 'subreddit', 'subreddit_id', 'total_awards_received',\n",
       "       'created', 'distinguished', 'author_cakeday', 'edited', 'updated_utc',\n",
       "       'gilded'],\n",
       "      dtype='object')"
      ]
     },
     "execution_count": 3,
     "metadata": {},
     "output_type": "execute_result"
    }
   ],
   "source": [
    "x.columns"
   ]
  },
  {
   "cell_type": "code",
   "execution_count": 4,
   "id": "interesting-hawaii",
   "metadata": {},
   "outputs": [
    {
     "name": "stdout",
     "output_type": "stream",
     "text": [
      "APPENDED:  data/COMMENTS_technews_1498881600_1514782800.csv\n",
      "APPENDED:  data/COMMENTS_technews_1483246800_1498881600.csv\n",
      "APPENDED:  data/COMMENTS_technews_1388552400_1420088400.csv\n",
      "APPENDED:  data/COMMENTS_technews_1585713600_1593576000.csv\n",
      "APPENDED:  data/COMMENTS_technews_1435723200_1451624400.csv\n",
      "APPENDED:  data/COMMENTS_technews_1601524800_1609477200.csv\n",
      "APPENDED:  data/COMMENTS_technews_1357016400_1388552400.csv\n",
      "APPENDED:  data/COMMENTS_technews_1561953600_1577854800.csv\n",
      "APPENDED:  data/COMMENTS_technews_1467345600_1483246800.csv\n",
      "APPENDED:  data/COMMENTS_technews_1530417600_1546318800.csv\n",
      "APPENDED:  data/COMMENTS_technews_1546318800_1561953600.csv\n",
      "APPENDED:  data/COMMENTS_technews_1420088400_1435723200.csv\n",
      "APPENDED:  data/COMMENTS_technews_1514782800_1530417600.csv\n",
      "APPENDED:  data/COMMENTS_technews_1577854800_1585713600.csv\n",
      "APPENDED:  data/COMMENTS_technews_1451624400_1467345600.csv\n",
      "APPENDED:  data/COMMENTS_technews_1593576000_1601524800.csv\n",
      "APPENDED:  data/COMMENTS_technews_1293858000_1325394000.csv\n",
      "APPENDED:  data/COMMENTS_technews_1325394000_1357016400.csv\n"
     ]
    }
   ],
   "source": [
    "raw_data = pd.DataFrame()\n",
    "\n",
    "for file_name in glob.glob('data/COMMENTS_*.csv'):\n",
    "    try:\n",
    "        x = pd.read_csv(file_name, low_memory=False)\n",
    "        raw_data = pd.concat([raw_data,x],axis=0)\n",
    "        print('APPENDED: ', file_name)\n",
    "    except:\n",
    "        print('ERROR: ', file_name)"
   ]
  },
  {
   "cell_type": "code",
   "execution_count": 5,
   "id": "attractive-ottawa",
   "metadata": {},
   "outputs": [
    {
     "data": {
      "text/plain": [
       "(299031, 56)"
      ]
     },
     "execution_count": 5,
     "metadata": {},
     "output_type": "execute_result"
    }
   ],
   "source": [
    "raw_data.shape"
   ]
  },
  {
   "cell_type": "code",
   "execution_count": 6,
   "id": "scientific-spring",
   "metadata": {},
   "outputs": [
    {
     "data": {
      "text/plain": [
       "Index(['author', 'author_created_utc', 'author_flair_css_class',\n",
       "       'author_flair_text', 'author_fullname', 'body', 'can_gild',\n",
       "       'controversiality', 'created_utc', 'distinguished', 'gilded', 'id',\n",
       "       'is_submitter', 'link_id', 'nest_level', 'parent_id', 'permalink',\n",
       "       'reply_delay', 'retrieved_on', 'score', 'stickied', 'subreddit',\n",
       "       'subreddit_id', 'subreddit_type', 'created', 'gildings', 'updated_utc',\n",
       "       'author_cakeday', 'collapsed', 'collapsed_reason', 'permalink_url',\n",
       "       'edited', 'mod_removed', 'user_removed', 'score_hidden',\n",
       "       'all_awardings', 'associated_award', 'author_flair_background_color',\n",
       "       'author_flair_richtext', 'author_flair_template_id',\n",
       "       'author_flair_text_color', 'author_flair_type', 'author_patreon_flair',\n",
       "       'author_premium', 'awarders', 'collapsed_because_crowd_control',\n",
       "       'locked', 'no_follow', 'send_replies', 'top_awarded_type',\n",
       "       'total_awards_received', 'treatment_tags', 'comment_type',\n",
       "       'steward_reports', 'subreddit_name_prefixed', 'rte_mode'],\n",
       "      dtype='object')"
      ]
     },
     "execution_count": 6,
     "metadata": {},
     "output_type": "execute_result"
    }
   ],
   "source": [
    "raw_data.columns"
   ]
  },
  {
   "cell_type": "code",
   "execution_count": null,
   "id": "frequent-musician",
   "metadata": {},
   "outputs": [],
   "source": [
    "# more fields in more recent years"
   ]
  },
  {
   "cell_type": "code",
   "execution_count": 7,
   "id": "jewish-lover",
   "metadata": {},
   "outputs": [
    {
     "data": {
      "text/html": [
       "<div>\n",
       "<style scoped>\n",
       "    .dataframe tbody tr th:only-of-type {\n",
       "        vertical-align: middle;\n",
       "    }\n",
       "\n",
       "    .dataframe tbody tr th {\n",
       "        vertical-align: top;\n",
       "    }\n",
       "\n",
       "    .dataframe thead th {\n",
       "        text-align: right;\n",
       "    }\n",
       "</style>\n",
       "<table border=\"1\" class=\"dataframe\">\n",
       "  <thead>\n",
       "    <tr style=\"text-align: right;\">\n",
       "      <th></th>\n",
       "      <th>author</th>\n",
       "      <th>author_created_utc</th>\n",
       "      <th>author_flair_css_class</th>\n",
       "      <th>author_flair_text</th>\n",
       "      <th>author_fullname</th>\n",
       "      <th>body</th>\n",
       "      <th>can_gild</th>\n",
       "      <th>controversiality</th>\n",
       "      <th>created_utc</th>\n",
       "      <th>distinguished</th>\n",
       "      <th>...</th>\n",
       "      <th>locked</th>\n",
       "      <th>no_follow</th>\n",
       "      <th>send_replies</th>\n",
       "      <th>top_awarded_type</th>\n",
       "      <th>total_awards_received</th>\n",
       "      <th>treatment_tags</th>\n",
       "      <th>comment_type</th>\n",
       "      <th>steward_reports</th>\n",
       "      <th>subreddit_name_prefixed</th>\n",
       "      <th>rte_mode</th>\n",
       "    </tr>\n",
       "  </thead>\n",
       "  <tbody>\n",
       "    <tr>\n",
       "      <th>0</th>\n",
       "      <td>wsxedcrf</td>\n",
       "      <td>1.390431e+09</td>\n",
       "      <td>NaN</td>\n",
       "      <td>NaN</td>\n",
       "      <td>t2_exl64</td>\n",
       "      <td>Sure, something like What's the weather? Set t...</td>\n",
       "      <td>True</td>\n",
       "      <td>0.0</td>\n",
       "      <td>1514775934.0</td>\n",
       "      <td>NaN</td>\n",
       "      <td>...</td>\n",
       "      <td>NaN</td>\n",
       "      <td>NaN</td>\n",
       "      <td>NaN</td>\n",
       "      <td>NaN</td>\n",
       "      <td>NaN</td>\n",
       "      <td>NaN</td>\n",
       "      <td>NaN</td>\n",
       "      <td>NaN</td>\n",
       "      <td>NaN</td>\n",
       "      <td>NaN</td>\n",
       "    </tr>\n",
       "    <tr>\n",
       "      <th>1</th>\n",
       "      <td>SoundDr</td>\n",
       "      <td>1.363845e+09</td>\n",
       "      <td>NaN</td>\n",
       "      <td>NaN</td>\n",
       "      <td>t2_b0vsa</td>\n",
       "      <td>They are just as bad as patent trolls. I love ...</td>\n",
       "      <td>True</td>\n",
       "      <td>0.0</td>\n",
       "      <td>1514765852.0</td>\n",
       "      <td>NaN</td>\n",
       "      <td>...</td>\n",
       "      <td>NaN</td>\n",
       "      <td>NaN</td>\n",
       "      <td>NaN</td>\n",
       "      <td>NaN</td>\n",
       "      <td>NaN</td>\n",
       "      <td>NaN</td>\n",
       "      <td>NaN</td>\n",
       "      <td>NaN</td>\n",
       "      <td>NaN</td>\n",
       "      <td>NaN</td>\n",
       "    </tr>\n",
       "    <tr>\n",
       "      <th>2</th>\n",
       "      <td>negativerad</td>\n",
       "      <td>1.265179e+09</td>\n",
       "      <td>NaN</td>\n",
       "      <td>NaN</td>\n",
       "      <td>t2_3v2xj</td>\n",
       "      <td>Steve Jobs</td>\n",
       "      <td>True</td>\n",
       "      <td>0.0</td>\n",
       "      <td>1514764847.0</td>\n",
       "      <td>NaN</td>\n",
       "      <td>...</td>\n",
       "      <td>NaN</td>\n",
       "      <td>NaN</td>\n",
       "      <td>NaN</td>\n",
       "      <td>NaN</td>\n",
       "      <td>NaN</td>\n",
       "      <td>NaN</td>\n",
       "      <td>NaN</td>\n",
       "      <td>NaN</td>\n",
       "      <td>NaN</td>\n",
       "      <td>NaN</td>\n",
       "    </tr>\n",
       "    <tr>\n",
       "      <th>3</th>\n",
       "      <td>snapmehummingbirdeb</td>\n",
       "      <td>1.435642e+09</td>\n",
       "      <td>NaN</td>\n",
       "      <td>NaN</td>\n",
       "      <td>NaN</td>\n",
       "      <td>The real question is who would want to wear by...</td>\n",
       "      <td>NaN</td>\n",
       "      <td>NaN</td>\n",
       "      <td>1514761787.0</td>\n",
       "      <td>NaN</td>\n",
       "      <td>...</td>\n",
       "      <td>NaN</td>\n",
       "      <td>NaN</td>\n",
       "      <td>NaN</td>\n",
       "      <td>NaN</td>\n",
       "      <td>NaN</td>\n",
       "      <td>NaN</td>\n",
       "      <td>NaN</td>\n",
       "      <td>NaN</td>\n",
       "      <td>NaN</td>\n",
       "      <td>NaN</td>\n",
       "    </tr>\n",
       "    <tr>\n",
       "      <th>4</th>\n",
       "      <td>autotldr</td>\n",
       "      <td>1.327942e+09</td>\n",
       "      <td>NaN</td>\n",
       "      <td>NaN</td>\n",
       "      <td>NaN</td>\n",
       "      <td>This is the best tl;dr I could make, [original...</td>\n",
       "      <td>NaN</td>\n",
       "      <td>NaN</td>\n",
       "      <td>1514755490.0</td>\n",
       "      <td>NaN</td>\n",
       "      <td>...</td>\n",
       "      <td>NaN</td>\n",
       "      <td>NaN</td>\n",
       "      <td>NaN</td>\n",
       "      <td>NaN</td>\n",
       "      <td>NaN</td>\n",
       "      <td>NaN</td>\n",
       "      <td>NaN</td>\n",
       "      <td>NaN</td>\n",
       "      <td>NaN</td>\n",
       "      <td>NaN</td>\n",
       "    </tr>\n",
       "  </tbody>\n",
       "</table>\n",
       "<p>5 rows × 56 columns</p>\n",
       "</div>"
      ],
      "text/plain": [
       "                author  author_created_utc  author_flair_css_class  \\\n",
       "0             wsxedcrf        1.390431e+09                     NaN   \n",
       "1              SoundDr        1.363845e+09                     NaN   \n",
       "2          negativerad        1.265179e+09                     NaN   \n",
       "3  snapmehummingbirdeb        1.435642e+09                     NaN   \n",
       "4             autotldr        1.327942e+09                     NaN   \n",
       "\n",
       "   author_flair_text author_fullname  \\\n",
       "0                NaN        t2_exl64   \n",
       "1                NaN        t2_b0vsa   \n",
       "2                NaN        t2_3v2xj   \n",
       "3                NaN             NaN   \n",
       "4                NaN             NaN   \n",
       "\n",
       "                                                body can_gild  \\\n",
       "0  Sure, something like What's the weather? Set t...     True   \n",
       "1  They are just as bad as patent trolls. I love ...     True   \n",
       "2                                         Steve Jobs     True   \n",
       "3  The real question is who would want to wear by...      NaN   \n",
       "4  This is the best tl;dr I could make, [original...      NaN   \n",
       "\n",
       "  controversiality   created_utc distinguished  ...  locked no_follow  \\\n",
       "0              0.0  1514775934.0           NaN  ...     NaN       NaN   \n",
       "1              0.0  1514765852.0           NaN  ...     NaN       NaN   \n",
       "2              0.0  1514764847.0           NaN  ...     NaN       NaN   \n",
       "3              NaN  1514761787.0           NaN  ...     NaN       NaN   \n",
       "4              NaN  1514755490.0           NaN  ...     NaN       NaN   \n",
       "\n",
       "  send_replies top_awarded_type total_awards_received treatment_tags  \\\n",
       "0          NaN              NaN                   NaN            NaN   \n",
       "1          NaN              NaN                   NaN            NaN   \n",
       "2          NaN              NaN                   NaN            NaN   \n",
       "3          NaN              NaN                   NaN            NaN   \n",
       "4          NaN              NaN                   NaN            NaN   \n",
       "\n",
       "  comment_type steward_reports  subreddit_name_prefixed  rte_mode  \n",
       "0          NaN             NaN                      NaN       NaN  \n",
       "1          NaN             NaN                      NaN       NaN  \n",
       "2          NaN             NaN                      NaN       NaN  \n",
       "3          NaN             NaN                      NaN       NaN  \n",
       "4          NaN             NaN                      NaN       NaN  \n",
       "\n",
       "[5 rows x 56 columns]"
      ]
     },
     "execution_count": 7,
     "metadata": {},
     "output_type": "execute_result"
    }
   ],
   "source": [
    "raw_data.head()"
   ]
  },
  {
   "cell_type": "code",
   "execution_count": 8,
   "id": "conceptual-baking",
   "metadata": {},
   "outputs": [
    {
     "name": "stdout",
     "output_type": "stream",
     "text": [
      "<class 'pandas.core.frame.DataFrame'>\n",
      "Int64Index: 299031 entries, 0 to 44\n",
      "Data columns (total 56 columns):\n",
      " #   Column                           Non-Null Count   Dtype  \n",
      "---  ------                           --------------   -----  \n",
      " 0   author                           299031 non-null  object \n",
      " 1   author_created_utc               46991 non-null   float64\n",
      " 2   author_flair_css_class           2 non-null       float64\n",
      " 3   author_flair_text                0 non-null       float64\n",
      " 4   author_fullname                  288179 non-null  object \n",
      " 5   body                             299030 non-null  object \n",
      " 6   can_gild                         31671 non-null   object \n",
      " 7   controversiality                 47919 non-null   object \n",
      " 8   created_utc                      299028 non-null  object \n",
      " 9   distinguished                    958 non-null     object \n",
      " 10  gilded                           47876 non-null   float64\n",
      " 11  id                               299028 non-null  object \n",
      " 12  is_submitter                     263401 non-null  object \n",
      " 13  link_id                          299028 non-null  object \n",
      " 14  nest_level                       47241 non-null   object \n",
      " 15  parent_id                        299028 non-null  object \n",
      " 16  permalink                        279244 non-null  object \n",
      " 17  reply_delay                      47442 non-null   object \n",
      " 18  retrieved_on                     297656 non-null  float64\n",
      " 19  score                            299026 non-null  float64\n",
      " 20  stickied                         286115 non-null  object \n",
      " 21  subreddit                        299026 non-null  object \n",
      " 22  subreddit_id                     299026 non-null  object \n",
      " 23  subreddit_type                   29465 non-null   object \n",
      " 24  created                          299026 non-null  float64\n",
      " 25  gildings                         268172 non-null  object \n",
      " 26  updated_utc                      25478 non-null   float64\n",
      " 27  author_cakeday                   991 non-null     object \n",
      " 28  collapsed                        25714 non-null   object \n",
      " 29  collapsed_reason                 839 non-null     object \n",
      " 30  permalink_url                    2 non-null       object \n",
      " 31  edited                           3527 non-null    object \n",
      " 32  mod_removed                      638 non-null     object \n",
      " 33  user_removed                     2631 non-null    object \n",
      " 34  score_hidden                     18632 non-null   object \n",
      " 35  all_awardings                    228434 non-null  object \n",
      " 36  associated_award                 0 non-null       float64\n",
      " 37  author_flair_background_color    0 non-null       float64\n",
      " 38  author_flair_richtext            270134 non-null  object \n",
      " 39  author_flair_template_id         0 non-null       float64\n",
      " 40  author_flair_text_color          5849 non-null    object \n",
      " 41  author_flair_type                270134 non-null  object \n",
      " 42  author_patreon_flair             257320 non-null  object \n",
      " 43  author_premium                   174039 non-null  object \n",
      " 44  awarders                         196547 non-null  object \n",
      " 45  collapsed_because_crowd_control  0 non-null       float64\n",
      " 46  locked                           228870 non-null  object \n",
      " 47  no_follow                        277767 non-null  object \n",
      " 48  send_replies                     277767 non-null  object \n",
      " 49  top_awarded_type                 0 non-null       float64\n",
      " 50  total_awards_received            228434 non-null  float64\n",
      " 51  treatment_tags                   140569 non-null  object \n",
      " 52  comment_type                     0 non-null       float64\n",
      " 53  steward_reports                  36888 non-null   object \n",
      " 54  subreddit_name_prefixed          24447 non-null   object \n",
      " 55  rte_mode                         2519 non-null    object \n",
      "dtypes: float64(15), object(41)\n",
      "memory usage: 130.0+ MB\n"
     ]
    }
   ],
   "source": [
    "raw_data.info()"
   ]
  },
  {
   "cell_type": "code",
   "execution_count": 17,
   "id": "affected-floating",
   "metadata": {},
   "outputs": [
    {
     "data": {
      "text/html": [
       "<div>\n",
       "<style scoped>\n",
       "    .dataframe tbody tr th:only-of-type {\n",
       "        vertical-align: middle;\n",
       "    }\n",
       "\n",
       "    .dataframe tbody tr th {\n",
       "        vertical-align: top;\n",
       "    }\n",
       "\n",
       "    .dataframe thead th {\n",
       "        text-align: right;\n",
       "    }\n",
       "</style>\n",
       "<table border=\"1\" class=\"dataframe\">\n",
       "  <thead>\n",
       "    <tr style=\"text-align: right;\">\n",
       "      <th></th>\n",
       "      <th>author_created_utc</th>\n",
       "      <th>author_flair_css_class</th>\n",
       "      <th>author_flair_text</th>\n",
       "      <th>gilded</th>\n",
       "      <th>retrieved_on</th>\n",
       "      <th>score</th>\n",
       "      <th>created</th>\n",
       "      <th>updated_utc</th>\n",
       "      <th>associated_award</th>\n",
       "      <th>author_flair_background_color</th>\n",
       "      <th>author_flair_template_id</th>\n",
       "      <th>collapsed_because_crowd_control</th>\n",
       "      <th>top_awarded_type</th>\n",
       "      <th>total_awards_received</th>\n",
       "      <th>comment_type</th>\n",
       "    </tr>\n",
       "  </thead>\n",
       "  <tbody>\n",
       "    <tr>\n",
       "      <th>count</th>\n",
       "      <td>4.699100e+04</td>\n",
       "      <td>2.000000e+00</td>\n",
       "      <td>0.0</td>\n",
       "      <td>47876.000000</td>\n",
       "      <td>2.976560e+05</td>\n",
       "      <td>299026.000000</td>\n",
       "      <td>2.990260e+05</td>\n",
       "      <td>2.547800e+04</td>\n",
       "      <td>0.0</td>\n",
       "      <td>0.0</td>\n",
       "      <td>0.0</td>\n",
       "      <td>0.0</td>\n",
       "      <td>0.0</td>\n",
       "      <td>228434.000000</td>\n",
       "      <td>0.0</td>\n",
       "    </tr>\n",
       "    <tr>\n",
       "      <th>mean</th>\n",
       "      <td>1.402186e+09</td>\n",
       "      <td>1.418799e+09</td>\n",
       "      <td>NaN</td>\n",
       "      <td>1.128185</td>\n",
       "      <td>1.572177e+09</td>\n",
       "      <td>2.368971</td>\n",
       "      <td>1.570880e+09</td>\n",
       "      <td>1.557768e+09</td>\n",
       "      <td>NaN</td>\n",
       "      <td>NaN</td>\n",
       "      <td>NaN</td>\n",
       "      <td>NaN</td>\n",
       "      <td>NaN</td>\n",
       "      <td>0.001011</td>\n",
       "      <td>NaN</td>\n",
       "    </tr>\n",
       "    <tr>\n",
       "      <th>std</th>\n",
       "      <td>9.541389e+07</td>\n",
       "      <td>2.778381e+07</td>\n",
       "      <td>NaN</td>\n",
       "      <td>217.105157</td>\n",
       "      <td>3.910486e+07</td>\n",
       "      <td>11.360225</td>\n",
       "      <td>4.221488e+07</td>\n",
       "      <td>6.021597e+06</td>\n",
       "      <td>NaN</td>\n",
       "      <td>NaN</td>\n",
       "      <td>NaN</td>\n",
       "      <td>NaN</td>\n",
       "      <td>NaN</td>\n",
       "      <td>0.041041</td>\n",
       "      <td>NaN</td>\n",
       "    </tr>\n",
       "    <tr>\n",
       "      <th>min</th>\n",
       "      <td>0.000000e+00</td>\n",
       "      <td>1.399153e+09</td>\n",
       "      <td>NaN</td>\n",
       "      <td>0.000000</td>\n",
       "      <td>1.399171e+09</td>\n",
       "      <td>-342.000000</td>\n",
       "      <td>1.293934e+09</td>\n",
       "      <td>1.513365e+09</td>\n",
       "      <td>NaN</td>\n",
       "      <td>NaN</td>\n",
       "      <td>NaN</td>\n",
       "      <td>NaN</td>\n",
       "      <td>NaN</td>\n",
       "      <td>0.000000</td>\n",
       "      <td>NaN</td>\n",
       "    </tr>\n",
       "    <tr>\n",
       "      <th>25%</th>\n",
       "      <td>1.327942e+09</td>\n",
       "      <td>1.408976e+09</td>\n",
       "      <td>NaN</td>\n",
       "      <td>0.000000</td>\n",
       "      <td>1.559240e+09</td>\n",
       "      <td>1.000000</td>\n",
       "      <td>1.558629e+09</td>\n",
       "      <td>1.555672e+09</td>\n",
       "      <td>NaN</td>\n",
       "      <td>NaN</td>\n",
       "      <td>NaN</td>\n",
       "      <td>NaN</td>\n",
       "      <td>NaN</td>\n",
       "      <td>0.000000</td>\n",
       "      <td>NaN</td>\n",
       "    </tr>\n",
       "    <tr>\n",
       "      <th>50%</th>\n",
       "      <td>1.396562e+09</td>\n",
       "      <td>1.418799e+09</td>\n",
       "      <td>NaN</td>\n",
       "      <td>0.000000</td>\n",
       "      <td>1.584292e+09</td>\n",
       "      <td>1.000000</td>\n",
       "      <td>1.584191e+09</td>\n",
       "      <td>1.559650e+09</td>\n",
       "      <td>NaN</td>\n",
       "      <td>NaN</td>\n",
       "      <td>NaN</td>\n",
       "      <td>NaN</td>\n",
       "      <td>NaN</td>\n",
       "      <td>0.000000</td>\n",
       "      <td>NaN</td>\n",
       "    </tr>\n",
       "    <tr>\n",
       "      <th>75%</th>\n",
       "      <td>1.493351e+09</td>\n",
       "      <td>1.428622e+09</td>\n",
       "      <td>NaN</td>\n",
       "      <td>0.000000</td>\n",
       "      <td>1.597956e+09</td>\n",
       "      <td>1.000000</td>\n",
       "      <td>1.597879e+09</td>\n",
       "      <td>1.561755e+09</td>\n",
       "      <td>NaN</td>\n",
       "      <td>NaN</td>\n",
       "      <td>NaN</td>\n",
       "      <td>NaN</td>\n",
       "      <td>NaN</td>\n",
       "      <td>0.000000</td>\n",
       "      <td>NaN</td>\n",
       "    </tr>\n",
       "    <tr>\n",
       "      <th>max</th>\n",
       "      <td>1.547760e+09</td>\n",
       "      <td>1.438445e+09</td>\n",
       "      <td>NaN</td>\n",
       "      <td>46985.000000</td>\n",
       "      <td>1.609477e+09</td>\n",
       "      <td>933.000000</td>\n",
       "      <td>1.609495e+09</td>\n",
       "      <td>1.564611e+09</td>\n",
       "      <td>NaN</td>\n",
       "      <td>NaN</td>\n",
       "      <td>NaN</td>\n",
       "      <td>NaN</td>\n",
       "      <td>NaN</td>\n",
       "      <td>7.000000</td>\n",
       "      <td>NaN</td>\n",
       "    </tr>\n",
       "  </tbody>\n",
       "</table>\n",
       "</div>"
      ],
      "text/plain": [
       "       author_created_utc  author_flair_css_class  author_flair_text  \\\n",
       "count        4.699100e+04            2.000000e+00                0.0   \n",
       "mean         1.402186e+09            1.418799e+09                NaN   \n",
       "std          9.541389e+07            2.778381e+07                NaN   \n",
       "min          0.000000e+00            1.399153e+09                NaN   \n",
       "25%          1.327942e+09            1.408976e+09                NaN   \n",
       "50%          1.396562e+09            1.418799e+09                NaN   \n",
       "75%          1.493351e+09            1.428622e+09                NaN   \n",
       "max          1.547760e+09            1.438445e+09                NaN   \n",
       "\n",
       "             gilded  retrieved_on          score       created   updated_utc  \\\n",
       "count  47876.000000  2.976560e+05  299026.000000  2.990260e+05  2.547800e+04   \n",
       "mean       1.128185  1.572177e+09       2.368971  1.570880e+09  1.557768e+09   \n",
       "std      217.105157  3.910486e+07      11.360225  4.221488e+07  6.021597e+06   \n",
       "min        0.000000  1.399171e+09    -342.000000  1.293934e+09  1.513365e+09   \n",
       "25%        0.000000  1.559240e+09       1.000000  1.558629e+09  1.555672e+09   \n",
       "50%        0.000000  1.584292e+09       1.000000  1.584191e+09  1.559650e+09   \n",
       "75%        0.000000  1.597956e+09       1.000000  1.597879e+09  1.561755e+09   \n",
       "max    46985.000000  1.609477e+09     933.000000  1.609495e+09  1.564611e+09   \n",
       "\n",
       "       associated_award  author_flair_background_color  \\\n",
       "count               0.0                            0.0   \n",
       "mean                NaN                            NaN   \n",
       "std                 NaN                            NaN   \n",
       "min                 NaN                            NaN   \n",
       "25%                 NaN                            NaN   \n",
       "50%                 NaN                            NaN   \n",
       "75%                 NaN                            NaN   \n",
       "max                 NaN                            NaN   \n",
       "\n",
       "       author_flair_template_id  collapsed_because_crowd_control  \\\n",
       "count                       0.0                              0.0   \n",
       "mean                        NaN                              NaN   \n",
       "std                         NaN                              NaN   \n",
       "min                         NaN                              NaN   \n",
       "25%                         NaN                              NaN   \n",
       "50%                         NaN                              NaN   \n",
       "75%                         NaN                              NaN   \n",
       "max                         NaN                              NaN   \n",
       "\n",
       "       top_awarded_type  total_awards_received  comment_type  \n",
       "count               0.0          228434.000000           0.0  \n",
       "mean                NaN               0.001011           NaN  \n",
       "std                 NaN               0.041041           NaN  \n",
       "min                 NaN               0.000000           NaN  \n",
       "25%                 NaN               0.000000           NaN  \n",
       "50%                 NaN               0.000000           NaN  \n",
       "75%                 NaN               0.000000           NaN  \n",
       "max                 NaN               7.000000           NaN  "
      ]
     },
     "execution_count": 17,
     "metadata": {},
     "output_type": "execute_result"
    }
   ],
   "source": [
    "raw_data.describe()"
   ]
  },
  {
   "cell_type": "code",
   "execution_count": 18,
   "id": "parallel-commonwealth",
   "metadata": {},
   "outputs": [
    {
     "name": "stderr",
     "output_type": "stream",
     "text": [
      "/Users/amybutler/opt/anaconda3/lib/python3.8/site-packages/xlsxwriter/worksheet.py:941: UserWarning: Ignoring URL 'https://en.m.wikipedia.org/wiki/Matt_Shea\n",
      "\n",
      "“Matt%20Shea\n",
      "Matt%20Shea.jpg\n",
      "Member%20of%20the%20Washington%20House%20of%20Representatives\n",
      "from%20the%204th%20district\n",
      "Incumbent\n",
      "Assumed%20office%20\n",
      "January%2012,%202009\n",
      "Preceded%20by\n",
      "Lynn%20Schindler\n",
      "Personal%20details\n",
      "Born\n",
      "Matthew%20Thomas%20Shea\n",
      "April%2018,%201974%20(age%2046)\n",
      "Spokane,%20Washington,%20U.S.\n",
      "Political%20party\n",
      "Republican\n",
      "Spouse(s)\n",
      "Lisa%20Shea%20(2002–2008)\n",
      "Viktoriya%20Shea%20(2008–present)\n",
      "Residence\n",
      "Spokane%20Valley,%20Washington\n",
      "Alma%20mater\n",
      "Gonzaga%20University%20(BA,%20JD)\n",
      "Profession\n",
      "Lawyer\n",
      "Website\n",
      "Official%20(archive)\n",
      "Military%20service\n",
      "Allegiance\n",
      "%20United%20States\n",
      "Branch/service\n",
      "United%20States%20Army%20seal%20United%20States%20Army\n",
      "Seal%20of%20the%20United%20States%20Army%20National%20Guard.svg%20Washington%20Army%20National%20Guard\n",
      "Years%20of%20service\n",
      "1996–2000\n",
      "2001–2006\n",
      "Rank\n",
      "US%20military%20captain's%20rank.gif%20Captain\n",
      "Battles/wars\n",
      "Iraq%20War\n",
      "In%20October%202018,%20Shea%20acknowledged%20that%20he%20had%20distributed%20a%20four%20page%20manifesto%20which%20called%20for%20the%20killing%20of%20non-Christian%20males%20if%20a%20war%20were%20to%20occur%20and%20they%20do%20not%20agree%20to%20follow%20fundamentalist%20biblical%20law.%5b1%5d%5b2%5d%20Shea%20was%20referred%20to%20the%20Federal%20Bureau%20of%20Investigation%20for%20investigation%20as%20a%20result.%5b3%5d%20In%20April%202019,%20Shea%20was%20removed%20as%20State%20House%20Republican%20Caucus%20Chair%20for%20advocating%20violence%20against%20religious%20minorities%20and%20offering%20state%20surveillance%20of%20political%20enemies%20to%20members%20of%20hate%20groups.%5b4%5d\n",
      "\n",
      "An%20investigative%20report%20commissioned%20by%20the%20House,%20issued%20on%20December%201,%202019,%20found%20that%20Shea%20%22participated%20in%20an%20act%20of%20domestic%20terrorism%20against%20the%20United%20States%22,%20organized%20and%20supported%20%22three%20armed%20conflicts%20of%20political%20violence%22,%20and%20advocated%20replacing%20the%20government%20with%20a%20theocracy%20and%20%22the%20killing%20of%20all%20males%20who%20do%20not%20agree.%22%5b5%5d%5b6%5d%20A%20former%20ally%20of%20Shea%20provided%20documents%20showing%20that%20Shea%20and%20his%20supporters%20were%20planning%20to%20seize%20control%20of%20the%20region%20after%20the%20outbreak%20of%20civil%20war,%20installing%20Shea%20as%20governmental%20leader%20in%20order%20to%20institute%20%22constitutional%20changes%22%20to%20%22sanctify%20to%20Jesus%20Christ%22.%5b7%5d%20Immediately%20after%20the%20report%20was%20issued,%20Shea%20was%20removed%20from%20the%20House%20Republican%20Caucus,%5b8%5d%20though%20he%20refused%20to%20resign.%5b9%5d”\n",
      "\n",
      "This%20guy%20is%20a%20Washington%20State%20legislator.%20%20There%20is%20an%20extreme%20right%20in%20the%20USA%20it%20produced%20many%20“lone%20wolf”%20terrorists%20like%20Timothy%20McVeigh%20and%20Eric%20Rudolph.\n",
      "\n",
      "https://www.fbi.gov/history/famous-cases/eric-rudolph\n",
      "\n",
      "Suggesting%20there%20is%20no%20extreme%20right%20in%20the%20USA%20is%20not%20factual.%20%20We%20literally%20have%20multiple%20right%20wing%20groups%20that%20are%20on%20watchlists%20for%20LEO.' with link or location/anchor > 2079 characters since it exceeds Excel's limit for URLS\n",
      "  warn(\"Ignoring URL '%s' with link or location/anchor > %d \"\n",
      "/Users/amybutler/opt/anaconda3/lib/python3.8/site-packages/xlsxwriter/worksheet.py:941: UserWarning: Ignoring URL 'https://www.google.com/amp/s/www.bloomberg.com/amp/news/articles/2019-07-05/europe-sets-out-demands-for-boeing-before-max-can-fly-again\n",
      "\n",
      "1)%20Software%20failures%20were%20due%20to%20malfunctions%20in%20the%20AoA%20sensors%20and%20overt%20correction%20by%20deploying%20the%20elevator%20downward,%20causing%20the%20plane%20to%20‘level%20off’%20at%20a%20negative%20incidence,%20causing%20the%20crash.%20Boeing%20has%20a%20nasty%20habit%20of%20out%20sourcing%20menial%20programming%20tasks%20and%20unfortunately%20it%20shows.\n",
      "\n",
      "2)%20The%20engines%20from%20this%20article%20have%20yet%20to%20be%20deployed%20on%20any%20craft,%20and%20likely%20never%20will%20be%20deployed%20on%20a%20737%20variant%20due%20to%20its%20reliance%20on%20electric%20propulsion.%20This%20type%20of%20engine%20is%20much%20more%20likely%20to%20deployed%20on%20a%20hybrid%20/%20electric%20vehicle%20that%20operates%20at%20short%20ranges%20for%20urban%20commutes.%20Pilot%20training%20is%20neither%20the%20responsibility%20nor%20the%20fault%20of%20the%20manufacturer,%20in%20fact%20it%20is%20airlines%20that%20fund%20the%20education%20and%20training%20of%20commercial%20pilots.%20From%20a%20technical%20perspective,%20Boeing%20produces%20far%20more%20efficient%20aircraft,%20although%20they%20are%20known%20for%20being%20less%20comfortable%20to%20pilot%20and%20having%20an%20outdated%20cockpit.\n",
      "\n",
      "3)%20it’s%20not%20a%20matter%20of%20the%20chicken%20or%20the%20egg,%20it’s%20a%20matter%20of%20it%20being%20much%20more%20financially%20and%20technically%20feasible%20to%20iteratively%20design%20an%20existing%20aircraft%20rather%20than%20create%20a%20new%20one%20from%20scratch.%20It’s%20like%20comparing%20a%20Honda%20Civic%20to%20whatever%20new%20brand%20of%20sedan%20Chevy%20or%20Ford%20decide%20to%20push%20for%20the%20decade:%20the%20Civic%20always%20wins%20in%20performance,%20reliability,%20and%20price,%20because%20updating%20existing%20designs%20iteratively%20leaves%20less%20issues%20to%20solve%20during%20the%20detailed%20design%20phase%20and%20ultimately%20delivers%20a%20superior%20product.%20\n",
      "\n",
      "This%20is%20quite%20literally%20my%20job,%20you%20won’t%20win%20this%20debate.' with link or location/anchor > 2079 characters since it exceeds Excel's limit for URLS\n",
      "  warn(\"Ignoring URL '%s' with link or location/anchor > %d \"\n",
      "/Users/amybutler/opt/anaconda3/lib/python3.8/site-packages/xlsxwriter/worksheet.py:941: UserWarning: Ignoring URL 'https://outline.com/qMAYrf%20a%20scientific%20american%20article:\n",
      "\n",
      "&gt;A%20normal%20coin%20can%20be%20placed%20on%20a%20table%20to%20show%20either%20heads%20or%20tails,%20reflecting%20the%20fact%20that%20the%20bit%20it%20represents%20must%20be%20valued%20at%20either%201%20or%200.%20In%20contrast,%20the%20laws%20of%20quantum%20mechanics%20allow%20our%20quantum%20coins%20to%20show%20both%20heads%20and%20tails%20at%20once%20(just%20like%20Schrödinger's%20famous%20cat%20could%20be%20both%20dead%20and%20alive%20at%20the%20same%20time%20inside%20a%20sealed%20box),%20to%20whatever%20degree%20we%20choose.%20This%20ability%20comes%20with%20the%20important%20provision%20that%20when%20we%20actually%20measure%20the%20orientation%20of%20a%20coin,%20it%20will%20make%20the%20choice%20between%20the%20two%20states.%20For%20instance,%20it%20is%20possible%20to%20prepare%20a%20coin%20in%20a%20state%20that%20is%2075%20percent%20heads%20and%2025%20percent%20tails.%20The%20coin%20would%20remain%20in%20this%20state%20until%20someone%20measures%20it,%20which%20makes%20the%20coin%20randomly%20choose%20between%20heads%20and%20tails,%20with%20heads%20being%20three%20times%20likelier%20than%20tails.%20This%20randomness%20is%20not%20caused%20by%20a%20lack%20of%20knowledge%20of%20the%20coin.%20The%20coin%20really%20chooses%20a%20definite%20state%20only%20when%20looked%20at,%20and,%20until%20that%20happens,%20its%20state%20is%20completely%20described%20by%20a%20single%20number:%20the%20degree%20to%20which%20it%20is%20showing%20heads,%20or%2075%20percent.%20It%20may%20seem%20very%20strange%20that%20the%20mere%20act%20of%20looking%20at%20a%20coin%20would%20change%20its%20state.%20The%20phenomenon%20arises%20from%20the%20extreme%20fragility%20of%20quantum%20states.%20Any%20and%20all%20interactions%20with%20their%20environment%20have%20a%20profound%20effect,%20and%20measurement%20inevitably%20requires%20interaction.%20A%20quantum%20coin%20is%20in%20fact%20liable%20to%20collapse%20onto%20a%20pure%20heads%20or%20tails%20state%20if%20any%20information%20at%20all%20about%20it%20is,%20even%20in%20principle,%20available%20to%20the%20outside%20world.%20A%20quantum%20computer%20must%20therefore%20maintain%20a%20very%20strict%20isolation%20of%20its%20constituent%20qubits%20in%20order%20to%20function.\n",
      "\n",
      "&gt;If%20we%20expand%20our%20view%20to%20two%20quantum%20coins,%20there%20are%20clearly%20four%20possible%20results%20of%20measuring%20their%20state:%20both%20heads%20(1,1),%20both%20tails%20(0,0),%20and%20two%20combinations%20of%20one%20heads%20and%20one%20tails%20(0,1%20and%201,0).%20Quantum%20mechanics%20allows%20us%20to%20assign%20any%20weight%20we%20want%20to%20each%20combination,%20as%20long%20as%20the%20total%20adds%20up%20to%20100%20percent.%20It%20follows%20that%20three%20numbers%20are%20needed%20to%20completely%20describe%20the%20two%20coins%20(the%20fourth%20is%20constrained%20because%20the%20total%20must%20add%20up%20to%20100%20percent).%20Similarly,%20we%20need%20seven%20numbers%20for%20three%20coins,%2015%20numbers%20for%20four,%2031%20for%20five,%20and%20so%20on.%20The%20complexity%20of%20the%20quantum%20state%20quickly%20becomes%20incredibly%20large:%20to%20describe%20only%20100%20quantum%20coins%20requires%201,267,650,600,228,229,401,496,703,205,375%20different%20numbers--many%20trillion%20times%20the%20storage%20capacity%20of%20all%20computers%20ever%20made.\n",
      "\n",
      "&gt;For%20example,%20a%20central%20problem%20in%20modern%20cryptography%20is%20the%20search%20for%20the%20factors%20of%20very%20large%20integers.%20In%20a%20normal%20computer,%20the%20most%20efficient%20approach%20essentially%20consists%20of%20dividing%20the%20integer%20by%20every%20number%20smaller%20than%20its%20squareroot%20to%20see%20which%20ones%20will%20factor%20it.%20As%20more%20digits%20are%20added%20to%20the%20integer,%20the%20time%20required%20for%20this%20test%20grows%20very%20rapidly.%20With%20a%20quantum%20computer,%20however,%20factorization%20is%20a%20snap,%20because%20we%20can%20perform%20the%20test%20on%20all%20numbers%20simultaneously%20and%20thus%20only%20a%20single%20test%20is%20needed%20to%20find%20the%20right%20answer.' with link or location/anchor > 2079 characters since it exceeds Excel's limit for URLS\n",
      "  warn(\"Ignoring URL '%s' with link or location/anchor > %d \"\n"
     ]
    },
    {
     "name": "stderr",
     "output_type": "stream",
     "text": [
      "/Users/amybutler/opt/anaconda3/lib/python3.8/site-packages/xlsxwriter/worksheet.py:941: UserWarning: Ignoring URL 'https://www.theverge.com/2018/4/11/17225482/facebook-shadow-profiles-zuckerberg-congress-data-privacy%20%20\n",
      "https://www.recode.net/2018/4/20/17254312/facebook-shadow-profiles-data-collection-non-users-mark-zuckerberg\n",
      "\n",
      "TL;DR%20is%20that%20if%20facebook%20enconters%20you%20and%20they%20don't%20already%20know%20who%20you%20are,%20they'll%20make%20a%20shadow%20profile%20for%20you.%20%20That%20is%20a%20profile%20you%20don't%20know%20anything%20about%20or%20have%20any%20control%20over%20but%20contains%20all%20of%20the%20information%20they've%20learned%20about%20you.%20%20It%20can%20contain%20anything%20a%20regular%20facebook%20profile%20contains,%20and%20there%20is%20no%20possible%20way%20for%20you%20to%20opt%20out%20of%20this.\n",
      "\n",
      "As%20you%20roam%20the%20web%20they'll%20gather%20snippets%20of%20your%20information%20from%20other%20sites%20and%20piece%20it%20all%20together%20on%20the%20back%20end,%20eventually%20they'll%20have%20a%20full%20profile%20of%20you.%20%20This%20happens%20when%20websites%20%22partner%22%20with%20facebook%20and%20share%20data%20with%20them.%20%20Those%20websites%20might%20not%20even%20have%20to%20tell%20you%20they%20are%20doing%20this,%20or%20might%20tell%20you%20something%20like%20%223rd%20party%20analytics%22,%20but%20in%20either%20case,%20the%20tracking%20starts%20as%20soon%20as%20you%20land%20on%20the%20site,%20not%20after%20you've%20been%20given%20a%20chance%20to%20review%20their%20privacy%20policy%20and%20leave%20the%20site%20if%20you%20disagree%20to%20it.\n",
      "\n",
      "But%20let's%20say%20you%20never%20use%20the%20web,%20eliminate%20that%20problem.%20%20Now%20facebook%20just%20relies%20on%20what%20information%20your%20friends%20give%20away%20about%20you.%20%20Your%20friends%20presumably%20have%20you%20as%20a%20contact%20on%20their%20phone,%20or%20they've%20exchanged%20e-mails%20with%20you,%20or%20phone/txt%20messages.%20%20Facebook%20gathers%20this%20information%20and%20adds%20it%20to%20the%20shadow%20profile.%20%20They%20get%20away%20with%20this%20by%20claiming%20that%20your%20friends%20gave%20them%20permission%20to%20store%20their%20contacts%20on%20facebook,%20and%20you%20just%20happened%20to%20be%20in%20there.%20%20Before%20long%20it's%20at%20the%20point%20where%20you%20can%20open%20a%20facebook%20account%20and%20it's%20already%20pre-filled%20out%20with%20most%20of%20the%20details,%20you're%20really%20just%20taking%20ownership%20of%20the%20profile%20they%20built.' with link or location/anchor > 2079 characters since it exceeds Excel's limit for URLS\n",
      "  warn(\"Ignoring URL '%s' with link or location/anchor > %d \"\n"
     ]
    }
   ],
   "source": [
    "# export to Excel and review all fields and completeness\n",
    "raw_data.to_excel('comments_df_review.xlsx', index=False)"
   ]
  },
  {
   "cell_type": "code",
   "execution_count": null,
   "id": "floppy-peninsula",
   "metadata": {},
   "outputs": [],
   "source": [
    "# after review of all and field completeness\n",
    "\n",
    "# filter from sentiment analysis to remove where author is\n",
    "#AutoModerator\n",
    "#PineappleMeister\n",
    "#babar77\n",
    "# these are the subreddit moderators commenting on reason for removing post\n",
    "\n",
    "\n",
    "# also remove where:\n",
    "# stickied=TRUE\n",
    "# mod_removed = 'TRUE'\n",
    "# user_removed = 'TRUE'\n",
    "# body = [removed]\n",
    "# body = [deleted]\n",
    "\n",
    "\n",
    "# will KEEP where author = [deleted] and the comment body is still there\n",
    "# occurs where user that cancelled reddit account"
   ]
  },
  {
   "cell_type": "code",
   "execution_count": 21,
   "id": "smart-accident",
   "metadata": {},
   "outputs": [
    {
     "data": {
      "text/plain": [
       "(299031, 56)"
      ]
     },
     "execution_count": 21,
     "metadata": {},
     "output_type": "execute_result"
    }
   ],
   "source": [
    "raw_data.shape"
   ]
  },
  {
   "cell_type": "code",
   "execution_count": 20,
   "id": "processed-bankruptcy",
   "metadata": {},
   "outputs": [
    {
     "data": {
      "text/plain": [
       "979"
      ]
     },
     "execution_count": 20,
     "metadata": {},
     "output_type": "execute_result"
    }
   ],
   "source": [
    "len(raw_data[raw_data['author'].isin(['AutoModerator','PineappleMeister', 'babar77'] )])"
   ]
  },
  {
   "cell_type": "code",
   "execution_count": 22,
   "id": "instrumental-bottle",
   "metadata": {},
   "outputs": [
    {
     "data": {
      "text/plain": [
       "(298052, 56)"
      ]
     },
     "execution_count": 22,
     "metadata": {},
     "output_type": "execute_result"
    }
   ],
   "source": [
    "f1_comments = raw_data[~raw_data['author'].isin(['AutoModerator','PineappleMeister', 'babar77'])]\n",
    "f1_comments.shape                                    "
   ]
  },
  {
   "cell_type": "code",
   "execution_count": 35,
   "id": "current-suicide",
   "metadata": {},
   "outputs": [
    {
     "data": {
      "text/plain": [
       "3"
      ]
     },
     "execution_count": 35,
     "metadata": {},
     "output_type": "execute_result"
    }
   ],
   "source": [
    "len(f1_comments[f1_comments['stickied'] ==True])\n"
   ]
  },
  {
   "cell_type": "code",
   "execution_count": 37,
   "id": "civilian-richardson",
   "metadata": {},
   "outputs": [
    {
     "data": {
      "text/plain": [
       "(298049, 56)"
      ]
     },
     "execution_count": 37,
     "metadata": {},
     "output_type": "execute_result"
    }
   ],
   "source": [
    "f2_comments = f1_comments[f1_comments['stickied']!=True]\n",
    "f2_comments.shape"
   ]
  },
  {
   "cell_type": "code",
   "execution_count": 38,
   "id": "defensive-craft",
   "metadata": {},
   "outputs": [
    {
     "data": {
      "text/plain": [
       "638"
      ]
     },
     "execution_count": 38,
     "metadata": {},
     "output_type": "execute_result"
    }
   ],
   "source": [
    "len(f2_comments[f2_comments['mod_removed'] ==True])"
   ]
  },
  {
   "cell_type": "code",
   "execution_count": 39,
   "id": "ready-conversion",
   "metadata": {},
   "outputs": [
    {
     "data": {
      "text/plain": [
       "(297411, 56)"
      ]
     },
     "execution_count": 39,
     "metadata": {},
     "output_type": "execute_result"
    }
   ],
   "source": [
    "f3_comments = f2_comments[f2_comments['mod_removed'] !=True]\n",
    "f3_comments.shape"
   ]
  },
  {
   "cell_type": "code",
   "execution_count": 40,
   "id": "understood-geometry",
   "metadata": {},
   "outputs": [
    {
     "data": {
      "text/plain": [
       "2631"
      ]
     },
     "execution_count": 40,
     "metadata": {},
     "output_type": "execute_result"
    }
   ],
   "source": [
    "len(f3_comments[f3_comments['user_removed'] == True])"
   ]
  },
  {
   "cell_type": "code",
   "execution_count": 43,
   "id": "stone-recommendation",
   "metadata": {},
   "outputs": [
    {
     "data": {
      "text/plain": [
       "(294780, 56)"
      ]
     },
     "execution_count": 43,
     "metadata": {},
     "output_type": "execute_result"
    }
   ],
   "source": [
    "f4_comments = f3_comments[f3_comments['user_removed'] != True]\n",
    "f4_comments.shape"
   ]
  },
  {
   "cell_type": "code",
   "execution_count": 44,
   "id": "stopped-depth",
   "metadata": {},
   "outputs": [
    {
     "data": {
      "text/plain": [
       "1404"
      ]
     },
     "execution_count": 44,
     "metadata": {},
     "output_type": "execute_result"
    }
   ],
   "source": [
    "len(f4_comments[f4_comments['body'] =='[removed]'])"
   ]
  },
  {
   "cell_type": "code",
   "execution_count": 46,
   "id": "beginning-heating",
   "metadata": {},
   "outputs": [
    {
     "data": {
      "text/plain": [
       "(293376, 56)"
      ]
     },
     "execution_count": 46,
     "metadata": {},
     "output_type": "execute_result"
    }
   ],
   "source": [
    "f5_comments = f4_comments[f4_comments['body'] !='[removed]']\n",
    "f5_comments.shape"
   ]
  },
  {
   "cell_type": "code",
   "execution_count": 80,
   "id": "banner-summit",
   "metadata": {},
   "outputs": [
    {
     "data": {
      "text/plain": [
       "(290872, 56)"
      ]
     },
     "execution_count": 80,
     "metadata": {},
     "output_type": "execute_result"
    }
   ],
   "source": [
    "f6_comments = f5_comments[f5_comments['body'] !='[deleted]']\n",
    "f6_comments.shape"
   ]
  },
  {
   "cell_type": "code",
   "execution_count": 86,
   "id": "varied-craft",
   "metadata": {},
   "outputs": [],
   "source": [
    "f7_comments = f6_comments[~f6_comments['body'].isin([np.nan])]"
   ]
  },
  {
   "cell_type": "code",
   "execution_count": 103,
   "id": "provincial-uncle",
   "metadata": {},
   "outputs": [],
   "source": [
    "f8_comments = f7_comments.reset_index(drop=True)"
   ]
  },
  {
   "cell_type": "code",
   "execution_count": 104,
   "id": "proof-passport",
   "metadata": {},
   "outputs": [
    {
     "data": {
      "text/plain": [
       "(290871, 57)"
      ]
     },
     "execution_count": 104,
     "metadata": {},
     "output_type": "execute_result"
    }
   ],
   "source": [
    "f8_comments.shape"
   ]
  },
  {
   "cell_type": "markdown",
   "id": "casual-bridges",
   "metadata": {},
   "source": [
    "# comment fields to keep\n",
    "\n",
    "\n",
    "1. author\n",
    "2. author_created_utc\n",
    "3. body\n",
    "4. created_utc\n",
    "5. id\n",
    "6. link_id\n",
    "7. parent_id\n",
    "8. permalink\n",
    "9. retrieved_on\n",
    "10. score\n",
    "11. created\n",
    "12. subreddit\n",
    "13. updated_utc\n",
    "\n",
    "\n",
    "\n"
   ]
  },
  {
   "cell_type": "code",
   "execution_count": 113,
   "id": "affected-hello",
   "metadata": {},
   "outputs": [],
   "source": [
    "comments_fields = f8_comments[['author', 'author_created_utc', 'body', 'created_utc', 'id', \n",
    "                              'link_id', 'parent_id', 'permalink', 'retrieved_on', \n",
    "                              'score', 'created', 'subreddit', 'updated_utc']]"
   ]
  },
  {
   "cell_type": "code",
   "execution_count": 114,
   "id": "musical-assignment",
   "metadata": {},
   "outputs": [
    {
     "data": {
      "text/plain": [
       "(290871, 13)"
      ]
     },
     "execution_count": 114,
     "metadata": {},
     "output_type": "execute_result"
    }
   ],
   "source": [
    "comments_fields.shape\n"
   ]
  },
  {
   "cell_type": "code",
   "execution_count": 115,
   "id": "persistent-brick",
   "metadata": {},
   "outputs": [
    {
     "data": {
      "text/html": [
       "<div>\n",
       "<style scoped>\n",
       "    .dataframe tbody tr th:only-of-type {\n",
       "        vertical-align: middle;\n",
       "    }\n",
       "\n",
       "    .dataframe tbody tr th {\n",
       "        vertical-align: top;\n",
       "    }\n",
       "\n",
       "    .dataframe thead th {\n",
       "        text-align: right;\n",
       "    }\n",
       "</style>\n",
       "<table border=\"1\" class=\"dataframe\">\n",
       "  <thead>\n",
       "    <tr style=\"text-align: right;\">\n",
       "      <th></th>\n",
       "      <th>author</th>\n",
       "      <th>author_created_utc</th>\n",
       "      <th>body</th>\n",
       "      <th>created_utc</th>\n",
       "      <th>id</th>\n",
       "      <th>link_id</th>\n",
       "      <th>parent_id</th>\n",
       "      <th>permalink</th>\n",
       "      <th>retrieved_on</th>\n",
       "      <th>score</th>\n",
       "      <th>created</th>\n",
       "      <th>subreddit</th>\n",
       "      <th>updated_utc</th>\n",
       "    </tr>\n",
       "  </thead>\n",
       "  <tbody>\n",
       "    <tr>\n",
       "      <th>0</th>\n",
       "      <td>wsxedcrf</td>\n",
       "      <td>1.390431e+09</td>\n",
       "      <td>Sure, something like What's the weather? Set t...</td>\n",
       "      <td>1514775934.0</td>\n",
       "      <td>ds0v85z</td>\n",
       "      <td>t3_7m68fe</td>\n",
       "      <td>t3_7m68fe</td>\n",
       "      <td>/r/technews/comments/7m68fe/46_of_americans_us...</td>\n",
       "      <td>1.517442e+09</td>\n",
       "      <td>1.0</td>\n",
       "      <td>1.514794e+09</td>\n",
       "      <td>technews</td>\n",
       "      <td>NaN</td>\n",
       "    </tr>\n",
       "    <tr>\n",
       "      <th>1</th>\n",
       "      <td>SoundDr</td>\n",
       "      <td>1.363845e+09</td>\n",
       "      <td>They are just as bad as patent trolls. I love ...</td>\n",
       "      <td>1514765852.0</td>\n",
       "      <td>ds0nxpm</td>\n",
       "      <td>t3_7n92ka</td>\n",
       "      <td>t1_ds02bc5</td>\n",
       "      <td>/r/technews/comments/7n92ka/steve_jobs_is_an_i...</td>\n",
       "      <td>1.517436e+09</td>\n",
       "      <td>4.0</td>\n",
       "      <td>1.514784e+09</td>\n",
       "      <td>technews</td>\n",
       "      <td>NaN</td>\n",
       "    </tr>\n",
       "    <tr>\n",
       "      <th>2</th>\n",
       "      <td>negativerad</td>\n",
       "      <td>1.265179e+09</td>\n",
       "      <td>Steve Jobs</td>\n",
       "      <td>1514764847.0</td>\n",
       "      <td>ds0n4dz</td>\n",
       "      <td>t3_7n92ka</td>\n",
       "      <td>t1_ds0klv2</td>\n",
       "      <td>/r/technews/comments/7n92ka/steve_jobs_is_an_i...</td>\n",
       "      <td>1.517433e+09</td>\n",
       "      <td>1.0</td>\n",
       "      <td>1.514783e+09</td>\n",
       "      <td>technews</td>\n",
       "      <td>NaN</td>\n",
       "    </tr>\n",
       "    <tr>\n",
       "      <th>3</th>\n",
       "      <td>snapmehummingbirdeb</td>\n",
       "      <td>1.435642e+09</td>\n",
       "      <td>The real question is who would want to wear by...</td>\n",
       "      <td>1514761787.0</td>\n",
       "      <td>ds0klv2</td>\n",
       "      <td>t3_7n92ka</td>\n",
       "      <td>t3_7n92ka</td>\n",
       "      <td>/r/technews/comments/7n92ka/steve_jobs_is_an_i...</td>\n",
       "      <td>1.514762e+09</td>\n",
       "      <td>1.0</td>\n",
       "      <td>1.514780e+09</td>\n",
       "      <td>technews</td>\n",
       "      <td>1.514762e+09</td>\n",
       "    </tr>\n",
       "    <tr>\n",
       "      <th>4</th>\n",
       "      <td>autotldr</td>\n",
       "      <td>1.327942e+09</td>\n",
       "      <td>This is the best tl;dr I could make, [original...</td>\n",
       "      <td>1514755490.0</td>\n",
       "      <td>ds0fby8</td>\n",
       "      <td>t3_7l4gfm</td>\n",
       "      <td>t3_7l4gfm</td>\n",
       "      <td>/r/technews/comments/7l4gfm/want_to_guarantee_...</td>\n",
       "      <td>1.514755e+09</td>\n",
       "      <td>1.0</td>\n",
       "      <td>1.514773e+09</td>\n",
       "      <td>technews</td>\n",
       "      <td>1.514755e+09</td>\n",
       "    </tr>\n",
       "  </tbody>\n",
       "</table>\n",
       "</div>"
      ],
      "text/plain": [
       "                author  author_created_utc  \\\n",
       "0             wsxedcrf        1.390431e+09   \n",
       "1              SoundDr        1.363845e+09   \n",
       "2          negativerad        1.265179e+09   \n",
       "3  snapmehummingbirdeb        1.435642e+09   \n",
       "4             autotldr        1.327942e+09   \n",
       "\n",
       "                                                body   created_utc       id  \\\n",
       "0  Sure, something like What's the weather? Set t...  1514775934.0  ds0v85z   \n",
       "1  They are just as bad as patent trolls. I love ...  1514765852.0  ds0nxpm   \n",
       "2                                         Steve Jobs  1514764847.0  ds0n4dz   \n",
       "3  The real question is who would want to wear by...  1514761787.0  ds0klv2   \n",
       "4  This is the best tl;dr I could make, [original...  1514755490.0  ds0fby8   \n",
       "\n",
       "     link_id   parent_id                                          permalink  \\\n",
       "0  t3_7m68fe   t3_7m68fe  /r/technews/comments/7m68fe/46_of_americans_us...   \n",
       "1  t3_7n92ka  t1_ds02bc5  /r/technews/comments/7n92ka/steve_jobs_is_an_i...   \n",
       "2  t3_7n92ka  t1_ds0klv2  /r/technews/comments/7n92ka/steve_jobs_is_an_i...   \n",
       "3  t3_7n92ka   t3_7n92ka  /r/technews/comments/7n92ka/steve_jobs_is_an_i...   \n",
       "4  t3_7l4gfm   t3_7l4gfm  /r/technews/comments/7l4gfm/want_to_guarantee_...   \n",
       "\n",
       "   retrieved_on  score       created subreddit   updated_utc  \n",
       "0  1.517442e+09    1.0  1.514794e+09  technews           NaN  \n",
       "1  1.517436e+09    4.0  1.514784e+09  technews           NaN  \n",
       "2  1.517433e+09    1.0  1.514783e+09  technews           NaN  \n",
       "3  1.514762e+09    1.0  1.514780e+09  technews  1.514762e+09  \n",
       "4  1.514755e+09    1.0  1.514773e+09  technews  1.514755e+09  "
      ]
     },
     "execution_count": 115,
     "metadata": {},
     "output_type": "execute_result"
    }
   ],
   "source": [
    "comments_fields.head()"
   ]
  },
  {
   "cell_type": "code",
   "execution_count": 116,
   "id": "prescribed-discovery",
   "metadata": {},
   "outputs": [
    {
     "name": "stdout",
     "output_type": "stream",
     "text": [
      "<class 'pandas.core.frame.DataFrame'>\n",
      "RangeIndex: 290871 entries, 0 to 290870\n",
      "Data columns (total 13 columns):\n",
      " #   Column              Non-Null Count   Dtype  \n",
      "---  ------              --------------   -----  \n",
      " 0   author              290871 non-null  object \n",
      " 1   author_created_utc  46645 non-null   float64\n",
      " 2   body                290871 non-null  object \n",
      " 3   created_utc         290869 non-null  object \n",
      " 4   id                  290869 non-null  object \n",
      " 5   link_id             290869 non-null  object \n",
      " 6   parent_id           290869 non-null  object \n",
      " 7   permalink           272782 non-null  object \n",
      " 8   retrieved_on        289606 non-null  float64\n",
      " 9   score               290867 non-null  float64\n",
      " 10  created             290867 non-null  float64\n",
      " 11  subreddit           290867 non-null  object \n",
      " 12  updated_utc         25343 non-null   float64\n",
      "dtypes: float64(5), object(8)\n",
      "memory usage: 28.8+ MB\n"
     ]
    }
   ],
   "source": [
    "comments_fields.info()"
   ]
  },
  {
   "cell_type": "code",
   "execution_count": 117,
   "id": "interracial-motor",
   "metadata": {},
   "outputs": [],
   "source": [
    "with open('technews_comments.pickle', 'wb') as to_write:\n",
    "    pickle.dump(comments_fields, to_write)"
   ]
  },
  {
   "cell_type": "code",
   "execution_count": null,
   "id": "mounted-launch",
   "metadata": {},
   "outputs": [],
   "source": []
  }
 ],
 "metadata": {
  "kernelspec": {
   "display_name": "Python 3",
   "language": "python",
   "name": "python3"
  },
  "language_info": {
   "codemirror_mode": {
    "name": "ipython",
    "version": 3
   },
   "file_extension": ".py",
   "mimetype": "text/x-python",
   "name": "python",
   "nbconvert_exporter": "python",
   "pygments_lexer": "ipython3",
   "version": "3.8.2"
  }
 },
 "nbformat": 4,
 "nbformat_minor": 5
}
